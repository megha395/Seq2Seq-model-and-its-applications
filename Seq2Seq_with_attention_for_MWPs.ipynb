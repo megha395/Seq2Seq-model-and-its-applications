{
  "nbformat": 4,
  "nbformat_minor": 0,
  "metadata": {
    "colab": {
      "name": "Seq2Seq with attention for MWPs.ipynb",
      "provenance": []
    },
    "kernelspec": {
      "display_name": "Python 3",
      "name": "python3"
    }
  },
  "cells": [
    {
      "cell_type": "code",
      "metadata": {
        "colab": {
          "base_uri": "https://localhost:8080/"
        },
        "id": "6xpf68Ub1Xfr",
        "outputId": "9aba8f7c-9820-49c0-a031-facc840df959"
      },
      "source": [
        "import pandas as pd\n",
        "import re\n",
        "import os\n",
        "import time\n",
        "import random\n",
        "import numpy as np\n",
        "\n",
        "try:\n",
        "  %tensorflow_version 2.x # enable TF 2.x in Colab\n",
        "except Exception:\n",
        "  pass\n",
        "\n",
        "import tensorflow as tf\n",
        "import matplotlib.pyplot as plt\n",
        "import matplotlib.ticker as ticker\n",
        "from sklearn.model_selection import train_test_split\n",
        "from google.colab import drive\n",
        "import pickle\n",
        "\n",
        "import spacy\n",
        "\n",
        "nlp = spacy.load(\"en_core_web_sm\")\n",
        "from nltk.translate.bleu_score import corpus_bleu"
      ],
      "execution_count": null,
      "outputs": [
        {
          "output_type": "stream",
          "text": [
            "`%tensorflow_version` only switches the major version: 1.x or 2.x.\n",
            "You set: `2.x # enable TF 2.x in Colab`. This will be interpreted as: `2.x`.\n",
            "\n",
            "\n",
            "TensorFlow 2.x selected.\n"
          ],
          "name": "stdout"
        }
      ]
    },
    {
      "cell_type": "code",
      "metadata": {
        "colab": {
          "base_uri": "https://localhost:8080/",
          "height": 35
        },
        "id": "i34IuYve1kUe",
        "outputId": "69363f3b-5571-4d47-db36-c0d27b73f4cc"
      },
      "source": [
        "tf.__version__"
      ],
      "execution_count": null,
      "outputs": [
        {
          "output_type": "execute_result",
          "data": {
            "application/vnd.google.colaboratory.intrinsic+json": {
              "type": "string"
            },
            "text/plain": [
              "'2.3.0'"
            ]
          },
          "metadata": {
            "tags": []
          },
          "execution_count": 2
        }
      ]
    },
    {
      "cell_type": "code",
      "metadata": {
        "id": "ZD9zprl1dsXf",
        "colab": {
          "base_uri": "https://localhost:8080/"
        },
        "outputId": "9354ca54-c3b4-4ac9-f9f9-1f81e3676f40"
      },
      "source": [
        "# Mount drive\n",
        "drive.mount('/gdrive')\n",
        "drive_root = '/gdrive/My Drive/'"
      ],
      "execution_count": null,
      "outputs": [
        {
          "output_type": "stream",
          "text": [
            "Mounted at /gdrive\n"
          ],
          "name": "stdout"
        }
      ]
    },
    {
      "cell_type": "code",
      "metadata": {
        "id": "je6ICZFi1wXc"
      },
      "source": [
        "with open(\"\\Path to dataset\") as f:\n",
        "  df = pickle.load(f)"
      ],
      "execution_count": null,
      "outputs": []
    },
    {
      "cell_type": "code",
      "metadata": {
        "id": "VLwLa6eZYrL3",
        "colab": {
          "base_uri": "https://localhost:8080/"
        },
        "outputId": "9f4cdb47-d77e-422c-916b-3931e1cdd1e6"
      },
      "source": [
        "df.shape"
      ],
      "execution_count": null,
      "outputs": [
        {
          "output_type": "execute_result",
          "data": {
            "text/plain": [
              "(38144, 2)"
            ]
          },
          "metadata": {
            "tags": []
          },
          "execution_count": 5
        }
      ]
    },
    {
      "cell_type": "code",
      "metadata": {
        "id": "tF28fvO1ZdO9",
        "colab": {
          "base_uri": "https://localhost:8080/",
          "height": 195
        },
        "outputId": "a69268f1-4257-4827-a018-5ed7dc6fda15"
      },
      "source": [
        "df.head()"
      ],
      "execution_count": null,
      "outputs": [
        {
          "output_type": "execute_result",
          "data": {
            "text/html": [
              "<div>\n",
              "<style scoped>\n",
              "    .dataframe tbody tr th:only-of-type {\n",
              "        vertical-align: middle;\n",
              "    }\n",
              "\n",
              "    .dataframe tbody tr th {\n",
              "        vertical-align: top;\n",
              "    }\n",
              "\n",
              "    .dataframe thead th {\n",
              "        text-align: right;\n",
              "    }\n",
              "</style>\n",
              "<table border=\"1\" class=\"dataframe\">\n",
              "  <thead>\n",
              "    <tr style=\"text-align: right;\">\n",
              "      <th></th>\n",
              "      <th>Question</th>\n",
              "      <th>Equation</th>\n",
              "    </tr>\n",
              "  </thead>\n",
              "  <tbody>\n",
              "    <tr>\n",
              "      <th>963</th>\n",
              "      <td>A painter needed to paint 12 rooms in a build...</td>\n",
              "      <td>X=(7.0*(12.0-5.0))</td>\n",
              "    </tr>\n",
              "    <tr>\n",
              "      <th>3897</th>\n",
              "      <td>Brenda had 253 raspberry. John gripped some ra...</td>\n",
              "      <td>X = 253 - 66</td>\n",
              "    </tr>\n",
              "    <tr>\n",
              "      <th>27626</th>\n",
              "      <td>Casey wants to share some Bread among 17 frien...</td>\n",
              "      <td>X = 39 * 17</td>\n",
              "    </tr>\n",
              "    <tr>\n",
              "      <th>32530</th>\n",
              "      <td>Liza had 34 Press. Thomas furnished him some m...</td>\n",
              "      <td>X = 64 - 34</td>\n",
              "    </tr>\n",
              "    <tr>\n",
              "      <th>16266</th>\n",
              "      <td>George wants to distribute 125 mangos among 25...</td>\n",
              "      <td>X = 125 / 25</td>\n",
              "    </tr>\n",
              "  </tbody>\n",
              "</table>\n",
              "</div>"
            ],
            "text/plain": [
              "                                                Question            Equation\n",
              "963     A painter needed to paint 12 rooms in a build...  X=(7.0*(12.0-5.0))\n",
              "3897   Brenda had 253 raspberry. John gripped some ra...        X = 253 - 66\n",
              "27626  Casey wants to share some Bread among 17 frien...         X = 39 * 17\n",
              "32530  Liza had 34 Press. Thomas furnished him some m...         X = 64 - 34\n",
              "16266  George wants to distribute 125 mangos among 25...        X = 125 / 25"
            ]
          },
          "metadata": {
            "tags": []
          },
          "execution_count": 6
        }
      ]
    },
    {
      "cell_type": "code",
      "metadata": {
        "id": "ddvYKIr_ZgSZ"
      },
      "source": [
        "def convert_eqn(eqn):\n",
        "  elements = list(eqn)\n",
        "  return ' '.join(elements)"
      ],
      "execution_count": null,
      "outputs": []
    },
    {
      "cell_type": "code",
      "metadata": {
        "id": "sXY1TlqFZoXc"
      },
      "source": [
        "input_exps = list(df['Question'].values)"
      ],
      "execution_count": null,
      "outputs": []
    },
    {
      "cell_type": "code",
      "metadata": {
        "id": "LRGqtXZDZswl"
      },
      "source": [
        "target_exps = list(df['Equation'].apply(lambda x: convert_eqn(x)).values)"
      ],
      "execution_count": null,
      "outputs": []
    },
    {
      "cell_type": "code",
      "metadata": {
        "id": "UW80DKrKZtiN",
        "colab": {
          "base_uri": "https://localhost:8080/"
        },
        "outputId": "b0942435-de42-42ff-915c-8289bd2de3de"
      },
      "source": [
        "# Input: Word Problem\n",
        "input_exps[:15]"
      ],
      "execution_count": null,
      "outputs": [
        {
          "output_type": "execute_result",
          "data": {
            "text/plain": [
              "[' A painter needed to paint 12 rooms in a building. Each room takes 7 hours to paint. If he already painted 5 rooms, how much longer will he take to paint the rest? ',\n",
              " 'Brenda had 253 raspberry. John gripped some raspberry. Now Brenda has 66  raspberry. How many did John grippeds?',\n",
              " 'Casey wants to share some Bread among 17 friends.If each friend get 39 Bread, then how many Bread john would have?',\n",
              " 'Liza had 34 Press. Thomas furnished him some more. Now Liza has 64 Press. How many did Thomas furnish him?',\n",
              " 'George wants to distribute 125 mangos among 25 friends. How many would each friend acquire?',\n",
              " 'Richard has 148 Marbles. Gary gave him 42 more. How many Marbles does Richard have altogether?',\n",
              " 'Mary wants to impart 547 limes among 24 friends. How many would each friend obtain?',\n",
              " 'Juana had some apricot. He hash each apricot into 9 slices. If total 149 apricot slices Juana make, then how many apricot Juana had?',\n",
              " 'Timmy had 86 watermelon. Kandi took 40 from him. Now How many watermelon Timmy have decreased by?',\n",
              " 'William had 99 pear. Martin took 67 from him. Now How many pear William have left over?',\n",
              " ' A worksheet had 2 problems on it. If a teacher had 14 worksheets to grade and had already graded 7 of them, how many more problems does she have to grade? ',\n",
              " 'Lin wants to divide 535 limes among 27 friends. How many would each friend obtain?',\n",
              " 'Lucille wants to share 170 mangos among 28 friends. How many would each friend earn?',\n",
              " 'James had 162 watermelon. Louise took 118 from him. Now How many watermelon James have removed?',\n",
              " 'Laura had 263 kiwi. Betty lay hold of some kiwi. Now Laura has 2  kiwi. How many did Betty lay hold ofs?']"
            ]
          },
          "metadata": {
            "tags": []
          },
          "execution_count": 10
        }
      ]
    },
    {
      "cell_type": "code",
      "metadata": {
        "id": "giBg_pIAZw5t",
        "colab": {
          "base_uri": "https://localhost:8080/"
        },
        "outputId": "3631be64-915e-47c5-ff48-d48500b8c5d4"
      },
      "source": [
        "# Target: Equation\n",
        "target_exps[:15]"
      ],
      "execution_count": null,
      "outputs": [
        {
          "output_type": "execute_result",
          "data": {
            "text/plain": [
              "['X = ( 7 . 0 * ( 1 2 . 0 - 5 . 0 ) )',\n",
              " 'X   =   2 5 3   -   6 6',\n",
              " 'X   =   3 9   *   1 7',\n",
              " 'X   =   6 4   -   3 4',\n",
              " 'X   =   1 2 5   /   2 5',\n",
              " 'X   =   4 2   +   1 4 8',\n",
              " 'X   =   5 4 7   /   2 4',\n",
              " 'X   =   1 4 9   /   9',\n",
              " 'X   =   8 6   -   4 0',\n",
              " 'X   =   9 9   -   6 7',\n",
              " 'X = ( 2 . 0 * ( 1 4 . 0 - 7 . 0 ) )',\n",
              " 'X   =   5 3 5   /   2 7',\n",
              " 'X   =   1 7 0   /   2 8',\n",
              " 'X   =   1 6 2   -   1 1 8',\n",
              " 'X   =   2 6 3   -   2']"
            ]
          },
          "metadata": {
            "tags": []
          },
          "execution_count": 11
        }
      ]
    },
    {
      "cell_type": "code",
      "metadata": {
        "id": "4fyDXXPqZ1Jb",
        "colab": {
          "base_uri": "https://localhost:8080/"
        },
        "outputId": "1f18281c-dc3d-4b35-9e4a-b2fa31ec639b"
      },
      "source": [
        "len(pd.Series(input_exps)), len(pd.Series(input_exps).unique())"
      ],
      "execution_count": null,
      "outputs": [
        {
          "output_type": "execute_result",
          "data": {
            "text/plain": [
              "(38144, 38144)"
            ]
          },
          "metadata": {
            "tags": []
          },
          "execution_count": 12
        }
      ]
    },
    {
      "cell_type": "code",
      "metadata": {
        "id": "mwOdc1HPZ4Ql",
        "colab": {
          "base_uri": "https://localhost:8080/"
        },
        "outputId": "ad81ede9-0af9-4fcb-87fc-be7bf13ccafd"
      },
      "source": [
        "len(pd.Series(target_exps)), len(pd.Series(target_exps).unique())"
      ],
      "execution_count": null,
      "outputs": [
        {
          "output_type": "execute_result",
          "data": {
            "text/plain": [
              "(38144, 23603)"
            ]
          },
          "metadata": {
            "tags": []
          },
          "execution_count": 13
        }
      ]
    },
    {
      "cell_type": "code",
      "metadata": {
        "id": "G-M4sYfuZ-Sd"
      },
      "source": [
        "def preprocess_input(sentence):\n",
        "  sentence = sentence.lower().strip()\n",
        "  sentence = re.sub(r\"([?.!,’])\", r\" \\1 \", sentence)\n",
        "  sentence = re.sub(r\"([0-9])\", r\" \\1 \", sentence)\n",
        "  sentence = re.sub(r'[\" \"]+', \" \", sentence)\n",
        "  sentence = sentence.rstrip().strip()\n",
        "  return '<start> ' + sentence + ' <end>'"
      ],
      "execution_count": null,
      "outputs": []
    },
    {
      "cell_type": "code",
      "metadata": {
        "id": "AQcXRA04aP9t"
      },
      "source": [
        "def preprocess_target(sentence):\n",
        "  sentence = sentence.lower().strip()\n",
        "  return '<start> ' + sentence + ' <end>'"
      ],
      "execution_count": null,
      "outputs": []
    },
    {
      "cell_type": "code",
      "metadata": {
        "id": "Hi1nGyYaavlH"
      },
      "source": [
        "preprocessed_input_exps = list(map(preprocess_input, input_exps))\n",
        "preprocessed_target_exps = list(map(preprocess_target, target_exps))"
      ],
      "execution_count": null,
      "outputs": []
    },
    {
      "cell_type": "code",
      "metadata": {
        "id": "AZW1eCLga_45",
        "colab": {
          "base_uri": "https://localhost:8080/"
        },
        "outputId": "8ab6512b-17f3-461b-96a8-196239c7a1d6"
      },
      "source": [
        "preprocessed_input_exps[:15]"
      ],
      "execution_count": null,
      "outputs": [
        {
          "output_type": "execute_result",
          "data": {
            "text/plain": [
              "['<start> a painter needed to paint 1 2 rooms in a building . each room takes 7 hours to paint . if he already painted 5 rooms , how much longer will he take to paint the rest ? <end>',\n",
              " '<start> brenda had 2 5 3 raspberry . john gripped some raspberry . now brenda has 6 6 raspberry . how many did john grippeds ? <end>',\n",
              " '<start> casey wants to share some bread among 1 7 friends . if each friend get 3 9 bread , then how many bread john would have ? <end>',\n",
              " '<start> liza had 3 4 press . thomas furnished him some more . now liza has 6 4 press . how many did thomas furnish him ? <end>',\n",
              " '<start> george wants to distribute 1 2 5 mangos among 2 5 friends . how many would each friend acquire ? <end>',\n",
              " '<start> richard has 1 4 8 marbles . gary gave him 4 2 more . how many marbles does richard have altogether ? <end>',\n",
              " '<start> mary wants to impart 5 4 7 limes among 2 4 friends . how many would each friend obtain ? <end>',\n",
              " '<start> juana had some apricot . he hash each apricot into 9 slices . if total 1 4 9 apricot slices juana make , then how many apricot juana had ? <end>',\n",
              " '<start> timmy had 8 6 watermelon . kandi took 4 0 from him . now how many watermelon timmy have decreased by ? <end>',\n",
              " '<start> william had 9 9 pear . martin took 6 7 from him . now how many pear william have left over ? <end>',\n",
              " '<start> a worksheet had 2 problems on it . if a teacher had 1 4 worksheets to grade and had already graded 7 of them , how many more problems does she have to grade ? <end>',\n",
              " '<start> lin wants to divide 5 3 5 limes among 2 7 friends . how many would each friend obtain ? <end>',\n",
              " '<start> lucille wants to share 1 7 0 mangos among 2 8 friends . how many would each friend earn ? <end>',\n",
              " '<start> james had 1 6 2 watermelon . louise took 1 1 8 from him . now how many watermelon james have removed ? <end>',\n",
              " '<start> laura had 2 6 3 kiwi . betty lay hold of some kiwi . now laura has 2 kiwi . how many did betty lay hold ofs ? <end>']"
            ]
          },
          "metadata": {
            "tags": []
          },
          "execution_count": 18
        }
      ]
    },
    {
      "cell_type": "code",
      "metadata": {
        "id": "xZD0_pIcbCZp",
        "colab": {
          "base_uri": "https://localhost:8080/"
        },
        "outputId": "fd64e181-9162-47af-ac77-44311002bdb9"
      },
      "source": [
        "preprocessed_target_exps[:15]"
      ],
      "execution_count": null,
      "outputs": [
        {
          "output_type": "execute_result",
          "data": {
            "text/plain": [
              "['<start> x = ( 7 . 0 * ( 1 2 . 0 - 5 . 0 ) ) <end>',\n",
              " '<start> x   =   2 5 3   -   6 6 <end>',\n",
              " '<start> x   =   3 9   *   1 7 <end>',\n",
              " '<start> x   =   6 4   -   3 4 <end>',\n",
              " '<start> x   =   1 2 5   /   2 5 <end>',\n",
              " '<start> x   =   4 2   +   1 4 8 <end>',\n",
              " '<start> x   =   5 4 7   /   2 4 <end>',\n",
              " '<start> x   =   1 4 9   /   9 <end>',\n",
              " '<start> x   =   8 6   -   4 0 <end>',\n",
              " '<start> x   =   9 9   -   6 7 <end>',\n",
              " '<start> x = ( 2 . 0 * ( 1 4 . 0 - 7 . 0 ) ) <end>',\n",
              " '<start> x   =   5 3 5   /   2 7 <end>',\n",
              " '<start> x   =   1 7 0   /   2 8 <end>',\n",
              " '<start> x   =   1 6 2   -   1 1 8 <end>',\n",
              " '<start> x   =   2 6 3   -   2 <end>']"
            ]
          },
          "metadata": {
            "tags": []
          },
          "execution_count": 19
        }
      ]
    },
    {
      "cell_type": "code",
      "metadata": {
        "id": "pSxfz4W2bIQ1"
      },
      "source": [
        "def tokenize(lang):\n",
        "  '''\n",
        "  Tokenize the given list of strings and return the tokenized output\n",
        "  along with the fitted tokenizer.\n",
        "  '''\n",
        "  lang_tokenizer = tf.keras.preprocessing.text.Tokenizer(filters='')\n",
        "  lang_tokenizer.fit_on_texts(lang)\n",
        "  tensor = lang_tokenizer.texts_to_sequences(lang)\n",
        "  tensor = tf.keras.preprocessing.sequence.pad_sequences(tensor, padding='post')\n",
        "\n",
        "  return tensor, lang_tokenizer"
      ],
      "execution_count": null,
      "outputs": []
    },
    {
      "cell_type": "code",
      "metadata": {
        "id": "qVw7yVX1bL5h"
      },
      "source": [
        "input_tensor, inp_lang_tokenizer = tokenize(preprocessed_input_exps)"
      ],
      "execution_count": null,
      "outputs": []
    },
    {
      "cell_type": "code",
      "metadata": {
        "colab": {
          "base_uri": "https://localhost:8080/"
        },
        "id": "9AiLexepCzPz",
        "outputId": "7b918f81-a280-4ba9-92e2-8b9753fe2f4f"
      },
      "source": [
        "(inp_lang_tokenizer.word_index)"
      ],
      "execution_count": null,
      "outputs": [
        {
          "output_type": "execute_result",
          "data": {
            "text/plain": [
              "{'.': 1,\n",
              " 'how': 2,\n",
              " '<start>': 3,\n",
              " '<end>': 4,\n",
              " '?': 5,\n",
              " 'many': 6,\n",
              " '1': 7,\n",
              " 'had': 8,\n",
              " '2': 9,\n",
              " 'some': 10,\n",
              " '3': 11,\n",
              " 'each': 12,\n",
              " 'him': 13,\n",
              " 'has': 14,\n",
              " 'now': 15,\n",
              " '4': 16,\n",
              " '6': 17,\n",
              " '5': 18,\n",
              " '7': 19,\n",
              " 'if': 20,\n",
              " 'have': 21,\n",
              " 'did': 22,\n",
              " '8': 23,\n",
              " '9': 24,\n",
              " 'friends': 25,\n",
              " 'slices': 26,\n",
              " ',': 27,\n",
              " '0': 28,\n",
              " 'he': 29,\n",
              " 'more': 30,\n",
              " 'of': 31,\n",
              " 'friend': 32,\n",
              " 'among': 33,\n",
              " 'to': 34,\n",
              " 'get': 35,\n",
              " 'total': 36,\n",
              " 'from': 37,\n",
              " 'would': 38,\n",
              " 'gave': 39,\n",
              " 'marbles': 40,\n",
              " 'then': 41,\n",
              " 'into': 42,\n",
              " 'make': 43,\n",
              " 'took': 44,\n",
              " 'wants': 45,\n",
              " 'in': 46,\n",
              " 'john': 47,\n",
              " 'all': 48,\n",
              " 'banana': 49,\n",
              " 'mango': 50,\n",
              " 'the': 51,\n",
              " 'there': 52,\n",
              " 'does': 53,\n",
              " 'share': 54,\n",
              " 'were': 55,\n",
              " 'his': 56,\n",
              " 'bag': 57,\n",
              " 'bags': 58,\n",
              " 'evenly': 59,\n",
              " 'hold': 60,\n",
              " 'flower': 61,\n",
              " 'blueberry': 62,\n",
              " 'chocolate': 63,\n",
              " 'pineapple': 64,\n",
              " 'blackcurrant': 65,\n",
              " 'biscuit': 66,\n",
              " 'toy': 67,\n",
              " 'nectarine': 68,\n",
              " 'bread': 69,\n",
              " 'lime': 70,\n",
              " 'lychee': 71,\n",
              " 'orange': 72,\n",
              " 'peach': 73,\n",
              " 'lemon': 74,\n",
              " 'book': 75,\n",
              " 'apple': 76,\n",
              " 'up': 77,\n",
              " 'watermelon': 78,\n",
              " 'avocado': 79,\n",
              " 'fig': 80,\n",
              " 'doll': 81,\n",
              " 'apricot': 82,\n",
              " 'cherry': 83,\n",
              " 'coconut': 84,\n",
              " 'raspberry': 85,\n",
              " 'papaya': 86,\n",
              " 'james': 87,\n",
              " 'blackberry': 88,\n",
              " 'strawberry': 89,\n",
              " 'pear': 90,\n",
              " 'plum': 91,\n",
              " 'box': 92,\n",
              " 'kiwi': 93,\n",
              " 'robert': 94,\n",
              " 'press': 95,\n",
              " 'pen': 96,\n",
              " 'watch': 97,\n",
              " 'take': 98,\n",
              " 'quince': 99,\n",
              " 'mary': 100,\n",
              " 'car': 101,\n",
              " 'beg': 102,\n",
              " 'first': 103,\n",
              " 'michael': 104,\n",
              " 'william': 105,\n",
              " 'a': 106,\n",
              " 'cut': 107,\n",
              " 'and': 108,\n",
              " 'obtain': 109,\n",
              " 'david': 110,\n",
              " 'ofs': 111,\n",
              " 'for': 112,\n",
              " 'with': 113,\n",
              " 'divide': 114,\n",
              " 'at': 115,\n",
              " 'acquire': 116,\n",
              " 'by': 117,\n",
              " 'richard': 118,\n",
              " 'joseph': 119,\n",
              " 'charles': 120,\n",
              " 'thomas': 121,\n",
              " 'lay': 122,\n",
              " 'buy': 123,\n",
              " 'she': 124,\n",
              " 'pick': 125,\n",
              " 'begin': 126,\n",
              " 'initially': 127,\n",
              " 'bananas': 128,\n",
              " 'incipiently': 129,\n",
              " 'primitively': 130,\n",
              " 'carve': 131,\n",
              " 'earlier': 132,\n",
              " 'originally': 133,\n",
              " 'beginning': 134,\n",
              " 'receive': 135,\n",
              " 'mince': 136,\n",
              " 'christopher': 137,\n",
              " 'dice': 138,\n",
              " 'procure': 139,\n",
              " 'patricia': 140,\n",
              " 'linda': 141,\n",
              " 'cube': 142,\n",
              " 'hash': 143,\n",
              " 'left': 144,\n",
              " 'chop': 145,\n",
              " 'much': 146,\n",
              " 'snap': 147,\n",
              " 'mangos': 148,\n",
              " 'pay': 149,\n",
              " 'daniel': 150,\n",
              " 'slice': 151,\n",
              " 'elizabeth': 152,\n",
              " 'barbara': 153,\n",
              " 'paul': 154,\n",
              " 'invest': 155,\n",
              " 'together': 156,\n",
              " 'are': 157,\n",
              " 'books': 158,\n",
              " 'on': 159,\n",
              " 'mark': 160,\n",
              " 'donald': 161,\n",
              " 'george': 162,\n",
              " 'maria': 163,\n",
              " 'steven': 164,\n",
              " 'jennifer': 165,\n",
              " 'edward': 166,\n",
              " 'ronald': 167,\n",
              " 'susan': 168,\n",
              " 'kenneth': 169,\n",
              " 'her': 170,\n",
              " 'jason': 171,\n",
              " 'apples': 172,\n",
              " 'lisa': 173,\n",
              " 'dorothy': 174,\n",
              " 'gripped': 175,\n",
              " 'grippeds': 176,\n",
              " 'chocolates': 177,\n",
              " 'clutched': 178,\n",
              " 'clutcheds': 179,\n",
              " 'margaret': 180,\n",
              " 'matthew': 181,\n",
              " 'nancy': 182,\n",
              " 'kevin': 183,\n",
              " 'brian': 184,\n",
              " 'clasped': 185,\n",
              " 'claspeds': 186,\n",
              " 'betty': 187,\n",
              " 'helen': 188,\n",
              " 'sandra': 189,\n",
              " 'shares': 190,\n",
              " 'sunders': 191,\n",
              " 'anthony': 192,\n",
              " 'frank': 193,\n",
              " 'grasped': 194,\n",
              " 'graspeds': 195,\n",
              " 'grabbed': 196,\n",
              " 'grabbeds': 197,\n",
              " 'they': 198,\n",
              " 'dispense': 199,\n",
              " 'oranges': 200,\n",
              " 'halve': 201,\n",
              " 'split': 202,\n",
              " 'earn': 203,\n",
              " 'cars': 204,\n",
              " 'diverge': 205,\n",
              " 'distributes': 206,\n",
              " 'peachs': 207,\n",
              " 'divides': 208,\n",
              " 'distribute': 209,\n",
              " 'dispenses': 210,\n",
              " 'karen': 211,\n",
              " 'than': 212,\n",
              " 'timothy': 213,\n",
              " 'jeffrey': 214,\n",
              " 'halves': 215,\n",
              " 'diverges': 216,\n",
              " 'carol': 217,\n",
              " 'pineapples': 218,\n",
              " 'flowers': 219,\n",
              " 'larry': 220,\n",
              " 'boxs': 221,\n",
              " 'come': 222,\n",
              " 'jose': 223,\n",
              " 'michelle': 224,\n",
              " 'biscuits': 225,\n",
              " 'splits': 226,\n",
              " 'papayas': 227,\n",
              " 'away': 228,\n",
              " 'dollars': 229,\n",
              " 'imparts': 230,\n",
              " 'gary': 231,\n",
              " 'breads': 232,\n",
              " 'sunder': 233,\n",
              " 'donna': 234,\n",
              " 'presss': 235,\n",
              " 'pears': 236,\n",
              " 'experience': 237,\n",
              " 'gain': 238,\n",
              " 'impart': 239,\n",
              " 'cherrys': 240,\n",
              " 'achieve': 241,\n",
              " 'toys': 242,\n",
              " 'begs': 243,\n",
              " 'stephen': 244,\n",
              " 'dolls': 245,\n",
              " 'add': 246,\n",
              " 'eric': 247,\n",
              " 'watermelons': 248,\n",
              " 'figs': 249,\n",
              " 'avocados': 250,\n",
              " 'sarah': 251,\n",
              " 'strawberrys': 252,\n",
              " 'ruth': 253,\n",
              " 'blackberrys': 254,\n",
              " 'sharon': 255,\n",
              " 'jessica': 256,\n",
              " 'blueberrys': 257,\n",
              " 'kiwis': 258,\n",
              " 'apricots': 259,\n",
              " 'nectarines': 260,\n",
              " 'cynthia': 261,\n",
              " 'raymond': 262,\n",
              " 'raspberrys': 263,\n",
              " 'lychees': 264,\n",
              " 'coconuts': 265,\n",
              " 'lemons': 266,\n",
              " 'laura': 267,\n",
              " 'limes': 268,\n",
              " 'watchs': 269,\n",
              " 'is': 270,\n",
              " 'plums': 271,\n",
              " 'shirley': 272,\n",
              " 'andrew': 273,\n",
              " 'will': 274,\n",
              " 'blackcurrants': 275,\n",
              " 'was': 276,\n",
              " 'deborah': 277,\n",
              " 'joan': 278,\n",
              " 'scott': 279,\n",
              " 'kiwi(fruit)': 280,\n",
              " 'quinces': 281,\n",
              " 'brenda': 282,\n",
              " 'altogether': 283,\n",
              " 'reduced': 284,\n",
              " 'difference': 285,\n",
              " 'over': 286,\n",
              " 'increased': 287,\n",
              " 'debra': 288,\n",
              " 'pens': 289,\n",
              " 'martha': 290,\n",
              " 'stephanie': 291,\n",
              " 'seashells': 292,\n",
              " 'pamela': 293,\n",
              " 'kimberly': 294,\n",
              " 'amy': 295,\n",
              " 'jerry': 296,\n",
              " 'less': 297,\n",
              " 'angela': 298,\n",
              " 'rebecca': 299,\n",
              " 'amanda': 300,\n",
              " 'plus': 301,\n",
              " 'anna': 302,\n",
              " 'grant': 303,\n",
              " 'melissa': 304,\n",
              " 'gregory': 305,\n",
              " 'detracted': 306,\n",
              " 'decreased': 307,\n",
              " 'removed': 308,\n",
              " 'subtracted': 309,\n",
              " 'remains': 310,\n",
              " 'joshua': 311,\n",
              " 'combined': 312,\n",
              " '$': 313,\n",
              " 'minus': 314,\n",
              " 'walter': 315,\n",
              " 'sum': 316,\n",
              " 'harold': 317,\n",
              " 'douglas': 318,\n",
              " 'deducted': 319,\n",
              " 'join': 320,\n",
              " 'peter': 321,\n",
              " 'virginia': 322,\n",
              " 'accorded': 323,\n",
              " 'accord': 324,\n",
              " 'them': 325,\n",
              " 'willie': 326,\n",
              " 'patrick': 327,\n",
              " 'furnished': 328,\n",
              " 'furnish': 329,\n",
              " 'give': 330,\n",
              " 'keith': 331,\n",
              " 'it': 332,\n",
              " 'diane': 333,\n",
              " 'christine': 334,\n",
              " 'awarded': 335,\n",
              " 'award': 336,\n",
              " 'gloria': 337,\n",
              " 'granted': 338,\n",
              " 'donateed': 339,\n",
              " 'donate': 340,\n",
              " 'offered': 341,\n",
              " 'offer': 342,\n",
              " 'supply': 343,\n",
              " 'present': 344,\n",
              " 'bought': 345,\n",
              " 'carl': 346,\n",
              " 'presented': 347,\n",
              " 'kathleen': 348,\n",
              " 'sara': 349,\n",
              " 'gift': 350,\n",
              " 'marie': 351,\n",
              " 'confered': 352,\n",
              " 'confer': 353,\n",
              " 'gifted': 354,\n",
              " 'janet': 355,\n",
              " 'proffered': 356,\n",
              " 'proffer': 357,\n",
              " 'bestowed': 358,\n",
              " 'bestow': 359,\n",
              " 'juan': 360,\n",
              " 'contributeed': 361,\n",
              " 'contribute': 362,\n",
              " 'julie': 363,\n",
              " 'henry': 364,\n",
              " 'supplyed': 365,\n",
              " 'dennis': 366,\n",
              " 'provideed': 367,\n",
              " 'provide': 368,\n",
              " 'giveed': 369,\n",
              " 'fred': 370,\n",
              " 'frances': 371,\n",
              " 'carolyn': 372,\n",
              " 'justin': 373,\n",
              " 'ashley': 374,\n",
              " 'joyce': 375,\n",
              " 'jack': 376,\n",
              " 'catherine': 377,\n",
              " 'terry': 378,\n",
              " 'jonathan': 379,\n",
              " 'ann': 380,\n",
              " 'rose': 381,\n",
              " 'teresa': 382,\n",
              " 'joe': 383,\n",
              " 'heather': 384,\n",
              " 'ryan': 385,\n",
              " 'roger': 386,\n",
              " 'jean': 387,\n",
              " 'harry': 388,\n",
              " 'katherine': 389,\n",
              " 'arthur': 390,\n",
              " 'albert': 391,\n",
              " 'theresa': 392,\n",
              " 'christina': 393,\n",
              " 'steve': 394,\n",
              " 'lawrence': 395,\n",
              " 'kelly': 396,\n",
              " 'marilyn': 397,\n",
              " 'brandon': 398,\n",
              " 'picked': 399,\n",
              " 'howard': 400,\n",
              " 'denise': 401,\n",
              " 'judy': 402,\n",
              " 'norma': 403,\n",
              " 'benjamin': 404,\n",
              " 'cards': 405,\n",
              " 'aaron': 406,\n",
              " 'evelyn': 407,\n",
              " 'billy': 408,\n",
              " 'mike': 409,\n",
              " 'samuel': 410,\n",
              " 'mildred': 411,\n",
              " 'doris': 412,\n",
              " 'rachel': 413,\n",
              " 'adam': 414,\n",
              " 'ruby': 415,\n",
              " 'ralph': 416,\n",
              " 'martin': 417,\n",
              " 'janice': 418,\n",
              " 'jane': 419,\n",
              " 'students': 420,\n",
              " 'annie': 421,\n",
              " 'cheryl': 422,\n",
              " 'nicole': 423,\n",
              " 'louis': 424,\n",
              " 'shawn': 425,\n",
              " 'games': 426,\n",
              " 'carlos': 427,\n",
              " 'money': 428,\n",
              " 'randy': 429,\n",
              " 'tammy': 430,\n",
              " 'emily': 431,\n",
              " 'victor': 432,\n",
              " 'jamie': 433,\n",
              " 'eugene': 434,\n",
              " 'jeremy': 435,\n",
              " 'leslie': 436,\n",
              " 'chris': 437,\n",
              " 'danny': 438,\n",
              " 'antonio': 439,\n",
              " 'diana': 440,\n",
              " 'nicholas': 441,\n",
              " 'todd': 442,\n",
              " 'alice': 443,\n",
              " 'tom': 444,\n",
              " 'bruce': 445,\n",
              " 'peggy': 446,\n",
              " 'connie': 447,\n",
              " 'kathy': 448,\n",
              " 'wendy': 449,\n",
              " 'gerald': 450,\n",
              " 'rita': 451,\n",
              " 'russell': 452,\n",
              " 'bonnie': 453,\n",
              " 'roy': 454,\n",
              " 'but': 455,\n",
              " 'wayne': 456,\n",
              " 'pieces': 457,\n",
              " 'judith': 458,\n",
              " 'gladys': 459,\n",
              " 'jacqueline': 460,\n",
              " 'irene': 461,\n",
              " 'robin': 462,\n",
              " 'charlotte': 463,\n",
              " 'dan': 464,\n",
              " 'andrea': 465,\n",
              " 'leonard': 466,\n",
              " 'tracy': 467,\n",
              " 'pounds': 468,\n",
              " 'what': 469,\n",
              " 'that': 470,\n",
              " 'trees': 471,\n",
              " 'kathryn': 472,\n",
              " 'julia': 473,\n",
              " 'tony': 474,\n",
              " 'sally': 475,\n",
              " 'kyle': 476,\n",
              " 'game': 477,\n",
              " 'sean': 478,\n",
              " 'miles': 479,\n",
              " 'jesse': 480,\n",
              " 'shannon': 481,\n",
              " 'louise': 482,\n",
              " 'beverly': 483,\n",
              " 'park': 484,\n",
              " 'crystal': 485,\n",
              " 'sheila': 486,\n",
              " 'valerie': 487,\n",
              " 'craig': 488,\n",
              " 'long': 489,\n",
              " 'put': 490,\n",
              " 'dale': 491,\n",
              " 'carmen': 492,\n",
              " 'dawn': 493,\n",
              " 'bobby': 494,\n",
              " 'store': 495,\n",
              " 'eva': 496,\n",
              " 'bryan': 497,\n",
              " 'school': 498,\n",
              " 'phillip': 499,\n",
              " 'tina': 500,\n",
              " 'anne': 501,\n",
              " 'paula': 502,\n",
              " 'marvin': 503,\n",
              " 'gail': 504,\n",
              " 'ernest': 505,\n",
              " 'lori': 506,\n",
              " 'edna': 507,\n",
              " 'clarence': 508,\n",
              " 'wanda': 509,\n",
              " 'be': 510,\n",
              " 'phyllis': 511,\n",
              " 'ethel': 512,\n",
              " 'new': 513,\n",
              " 'tiffany': 514,\n",
              " 'esther': 515,\n",
              " 'tim': 516,\n",
              " 'monica': 517,\n",
              " 'lillian': 518,\n",
              " 'balloons': 519,\n",
              " 'cindy': 520,\n",
              " 'thelma': 521,\n",
              " 'alan': 522,\n",
              " 'kim': 523,\n",
              " 'curtis': 524,\n",
              " 'elaine': 525,\n",
              " 'megan': 526,\n",
              " 'end': 527,\n",
              " 'florence': 528,\n",
              " 'lois': 529,\n",
              " 'francis': 530,\n",
              " 'nathan': 531,\n",
              " \"'s\": 532,\n",
              " 'ellen': 533,\n",
              " 'manuel': 534,\n",
              " 'josephine': 535,\n",
              " 'boxes': 536,\n",
              " 'barry': 537,\n",
              " 'melanie': 538,\n",
              " 'tickets': 539,\n",
              " 'johnny': 540,\n",
              " 'sam': 541,\n",
              " 'luis': 542,\n",
              " 'marion': 543,\n",
              " 'jimmy': 544,\n",
              " 'do': 545,\n",
              " 'stanley': 546,\n",
              " 'spent': 547,\n",
              " 'grace': 548,\n",
              " 'lee': 549,\n",
              " 'alexander': 550,\n",
              " 'one': 551,\n",
              " 'travis': 552,\n",
              " 'alicia': 553,\n",
              " 'vanessa': 554,\n",
              " 'sherry': 555,\n",
              " 'danielle': 556,\n",
              " 'workers': 557,\n",
              " 'yvonne': 558,\n",
              " 'vincent': 559,\n",
              " 'year': 560,\n",
              " 'number': 561,\n",
              " 'norman': 562,\n",
              " 'victoria': 563,\n",
              " 'points': 564,\n",
              " 'kristen': 565,\n",
              " 'cost': 566,\n",
              " 'eleanor': 567,\n",
              " 'rodney': 568,\n",
              " 'miguel': 569,\n",
              " 'candy': 570,\n",
              " 'rosa': 571,\n",
              " 'jacob': 572,\n",
              " 'pauline': 573,\n",
              " 'pencils': 574,\n",
              " 'april': 575,\n",
              " 'philip': 576,\n",
              " 'during': 577,\n",
              " 'sylvia': 578,\n",
              " 'edith': 579,\n",
              " 'clara': 580,\n",
              " 'jeffery': 581,\n",
              " 'cathy': 582,\n",
              " 'dana': 583,\n",
              " 'ricky': 584,\n",
              " 'darlene': 585,\n",
              " 'juanita': 586,\n",
              " 'bertha': 587,\n",
              " 'alfred': 588,\n",
              " 'hours': 589,\n",
              " 'when': 590,\n",
              " 'regina': 591,\n",
              " 'melvin': 592,\n",
              " 'jim': 593,\n",
              " 'rest': 594,\n",
              " 'day': 595,\n",
              " 'found': 596,\n",
              " 'per': 597,\n",
              " 'carrie': 598,\n",
              " 'jessie': 599,\n",
              " 'herbert': 600,\n",
              " 'jill': 601,\n",
              " 'emma': 602,\n",
              " 'bradley': 603,\n",
              " 'last': 604,\n",
              " 'can': 605,\n",
              " 'bill': 606,\n",
              " 'jeff': 607,\n",
              " 'rhonda': 608,\n",
              " 'got': 609,\n",
              " 'earl': 610,\n",
              " 'chad': 611,\n",
              " 'eddie': 612,\n",
              " 'allen': 613,\n",
              " 'roberto': 614,\n",
              " 'an': 615,\n",
              " 'sold': 616,\n",
              " 'baseball': 617,\n",
              " 'frederick': 618,\n",
              " 'francisco': 619,\n",
              " 'marjorie': 620,\n",
              " 'calvin': 621,\n",
              " 'lucille': 622,\n",
              " 'glenn': 623,\n",
              " 'made': 624,\n",
              " 'vivian': 625,\n",
              " 'went': 626,\n",
              " 'people': 627,\n",
              " 'theodore': 628,\n",
              " 'vicki': 629,\n",
              " 'audrey': 630,\n",
              " 'could': 631,\n",
              " 'debbie': 632,\n",
              " 'beth': 633,\n",
              " 'sale': 634,\n",
              " 'hazel': 635,\n",
              " 'jay': 636,\n",
              " 'amber': 637,\n",
              " 'leon': 638,\n",
              " 'joann': 639,\n",
              " 'samantha': 640,\n",
              " 'alma': 641,\n",
              " 'crayons': 642,\n",
              " 'elmer': 643,\n",
              " 'ana': 644,\n",
              " 'ida': 645,\n",
              " 'dean': 646,\n",
              " 'stacy': 647,\n",
              " 'joel': 648,\n",
              " 'yolanda': 649,\n",
              " 'sandy': 650,\n",
              " 'viola': 651,\n",
              " 'alex': 652,\n",
              " 'grew': 653,\n",
              " 'you': 654,\n",
              " 'blue': 655,\n",
              " 'cookies': 656,\n",
              " 'troy': 657,\n",
              " 'clifford': 658,\n",
              " 'use': 659,\n",
              " 'don': 660,\n",
              " 'lorraine': 661,\n",
              " 'mile': 662,\n",
              " 'hour': 663,\n",
              " 'jeanette': 664,\n",
              " 'today': 665,\n",
              " 'gordon': 666,\n",
              " 'only': 667,\n",
              " 'joanne': 668,\n",
              " 'alyssa': 669,\n",
              " 'spend': 670,\n",
              " 'gertrude': 671,\n",
              " 'veronica': 672,\n",
              " 'another': 673,\n",
              " 'need': 674,\n",
              " 'hector': 675,\n",
              " 'jesus': 676,\n",
              " 'edwin': 677,\n",
              " 'suzanne': 678,\n",
              " 'lucy': 679,\n",
              " 'tara': 680,\n",
              " 'darrell': 681,\n",
              " 'erin': 682,\n",
              " 'maurice': 683,\n",
              " 'erica': 684,\n",
              " 'anita': 685,\n",
              " 'leroy': 686,\n",
              " 'michele': 687,\n",
              " 'natalie': 688,\n",
              " 'brittany': 689,\n",
              " 'bernard': 690,\n",
              " 'lynn': 691,\n",
              " 'charlie': 692,\n",
              " 'kristin': 693,\n",
              " 'this': 694,\n",
              " 'annette': 695,\n",
              " 'lauren': 696,\n",
              " 'dolores': 697,\n",
              " 'angel': 698,\n",
              " 'greg': 699,\n",
              " 'problems': 700,\n",
              " 'johnnie': 701,\n",
              " 'alvin': 702,\n",
              " 'derek': 703,\n",
              " 'bessie': 704,\n",
              " 'jackie': 705,\n",
              " 'out': 706,\n",
              " 'bernice': 707,\n",
              " 'tonya': 708,\n",
              " 'holly': 709,\n",
              " 'pictures': 710,\n",
              " 'micheal': 711,\n",
              " 'june': 712,\n",
              " 'gina': 713,\n",
              " 'warren': 714,\n",
              " 'agnes': 715,\n",
              " 'jorge': 716,\n",
              " 'drawer': 717,\n",
              " 'renee': 718,\n",
              " 'randall': 719,\n",
              " 'house': 720,\n",
              " 'eggs': 721,\n",
              " 'billie': 722,\n",
              " 'lives': 723,\n",
              " 'rosemary': 724,\n",
              " 'lillie': 725,\n",
              " 'margie': 726,\n",
              " 'tyler': 727,\n",
              " 'mrs': 728,\n",
              " 'geraldine': 729,\n",
              " 'used': 730,\n",
              " 'colleen': 731,\n",
              " 'glen': 732,\n",
              " 'ella': 733,\n",
              " 'gilbert': 734,\n",
              " 'jon': 735,\n",
              " 'playing': 736,\n",
              " 'bottle': 737,\n",
              " 'deanna': 738,\n",
              " 'marcus': 739,\n",
              " 'dimes': 740,\n",
              " 'green': 741,\n",
              " 'go': 742,\n",
              " 'vernon': 743,\n",
              " 'shelves': 744,\n",
              " 'lena': 745,\n",
              " 'loretta': 746,\n",
              " 'terri': 747,\n",
              " 'derrick': 748,\n",
              " 'tanya': 749,\n",
              " 'reginald': 750,\n",
              " 'pearl': 751,\n",
              " 'lloyd': 752,\n",
              " 'kay': 753,\n",
              " 'ray': 754,\n",
              " 'katie': 755,\n",
              " 'takes': 756,\n",
              " 'rick': 757,\n",
              " 'video': 758,\n",
              " 'shane': 759,\n",
              " 'beatrice': 760,\n",
              " 'lydia': 761,\n",
              " 'carrots': 762,\n",
              " 'cecil': 763,\n",
              " 'carla': 764,\n",
              " 'karl': 765,\n",
              " 'melinda': 766,\n",
              " 'christy': 767,\n",
              " 'corey': 768,\n",
              " 'elsie': 769,\n",
              " 'tommy': 770,\n",
              " 'customers': 771,\n",
              " 'gabriel': 772,\n",
              " 'naomi': 773,\n",
              " 'brent': 774,\n",
              " 'zachary': 775,\n",
              " 'lewis': 776,\n",
              " 'tracey': 777,\n",
              " 'minnie': 778,\n",
              " 'constance': 779,\n",
              " 'laurie': 780,\n",
              " 'week': 781,\n",
              " 'sherri': 782,\n",
              " 'ronnie': 783,\n",
              " 'old': 784,\n",
              " 'find': 785,\n",
              " 'duane': 786,\n",
              " 'roberta': 787,\n",
              " 'benny': 788,\n",
              " 'sue': 789,\n",
              " 'dora': 790,\n",
              " 'inches': 791,\n",
              " 'charlene': 792,\n",
              " 'finished': 793,\n",
              " 'lunch': 794,\n",
              " 'red': 795,\n",
              " 'starts': 796,\n",
              " 'jerome': 797,\n",
              " 'cecilia': 798,\n",
              " 'team': 799,\n",
              " 'lester': 800,\n",
              " 'blocks': 801,\n",
              " 'restaurant': 802,\n",
              " 'ruben': 803,\n",
              " 'leo': 804,\n",
              " 'their': 805,\n",
              " 'brett': 806,\n",
              " '’': 807,\n",
              " 's': 808,\n",
              " 'wesley': 809,\n",
              " 'ricardo': 810,\n",
              " 'gwendolyn': 811,\n",
              " 'dustin': 812,\n",
              " 'casey': 813,\n",
              " 'floyd': 814,\n",
              " 'marian': 815,\n",
              " 'raul': 816,\n",
              " 'katrina': 817,\n",
              " 'eileen': 818,\n",
              " 'allison': 819,\n",
              " 'roses': 820,\n",
              " 'stacey': 821,\n",
              " 'stella': 822,\n",
              " 'claudia': 823,\n",
              " 'already': 824,\n",
              " 'same': 825,\n",
              " 'caps': 826,\n",
              " 'ate': 827,\n",
              " 'nellie': 828,\n",
              " 'cory': 829,\n",
              " 'times': 830,\n",
              " 'wilma': 831,\n",
              " 'caroline': 832,\n",
              " 'brad': 833,\n",
              " 'scored': 834,\n",
              " 'felicia': 835,\n",
              " 'cups': 836,\n",
              " 'still': 837,\n",
              " 'chester': 838,\n",
              " 'month': 839,\n",
              " 'darryl': 840,\n",
              " 'irma': 841,\n",
              " 'herman': 842,\n",
              " 'patsy': 843,\n",
              " 'myrtle': 844,\n",
              " 'mathew': 845,\n",
              " 'cody': 846,\n",
              " 'costs': 847,\n",
              " 'clayton': 848,\n",
              " 'maureen': 849,\n",
              " 'becky': 850,\n",
              " 'quarters': 851,\n",
              " 'violet': 852,\n",
              " 'jeanne': 853,\n",
              " 'lindsay': 854,\n",
              " 'ramona': 855,\n",
              " 'marsha': 856,\n",
              " 'ron': 857,\n",
              " 'gives': 858,\n",
              " 'songs': 859,\n",
              " 'ada': 860,\n",
              " 'jimmie': 861,\n",
              " 'oscar': 862,\n",
              " 'class': 863,\n",
              " 'rafael': 864,\n",
              " \"didn't\": 865,\n",
              " 'pedro': 866,\n",
              " 'vickie': 867,\n",
              " 'arlene': 868,\n",
              " 'grade': 869,\n",
              " 'faye': 870,\n",
              " 'while': 871,\n",
              " 'cupcakes': 872,\n",
              " 'darren': 873,\n",
              " 'water': 874,\n",
              " 'andre': 875,\n",
              " 'joy': 876,\n",
              " 'claire': 877,\n",
              " 'arnold': 878,\n",
              " 'allan': 879,\n",
              " 'minutes': 880,\n",
              " 'kristi': 881,\n",
              " 'ramon': 882,\n",
              " 'kristina': 883,\n",
              " 'carole': 884,\n",
              " 'tree': 885,\n",
              " 'pet': 886,\n",
              " 'group': 887,\n",
              " 'pages': 888,\n",
              " 'miriam': 889,\n",
              " 'groups': 890,\n",
              " 'second': 891,\n",
              " 'monique': 892,\n",
              " 'bus': 893,\n",
              " 'lynda': 894,\n",
              " 'jody': 895,\n",
              " 'mario': 896,\n",
              " 'ben': 897,\n",
              " 'glenda': 898,\n",
              " 'party': 899,\n",
              " 'mattie': 900,\n",
              " 'cents': 901,\n",
              " 'guadalupe': 902,\n",
              " 'erik': 903,\n",
              " 'cats': 904,\n",
              " 'needed': 905,\n",
              " 'jordan': 906,\n",
              " 'kent': 907,\n",
              " 'currently': 908,\n",
              " 'plant': 909,\n",
              " 'jared': 910,\n",
              " 'bank': 911,\n",
              " 'luke': 912,\n",
              " 'lindsey': 913,\n",
              " '%': 914,\n",
              " 'garden': 915,\n",
              " 'jennie': 916,\n",
              " 'pete': 917,\n",
              " 'sabrina': 918,\n",
              " 'loren': 919,\n",
              " 'nora': 920,\n",
              " 'daryl': 921,\n",
              " 'bob': 922,\n",
              " 'iris': 923,\n",
              " 'beach': 924,\n",
              " 'susie': 925,\n",
              " 'pokemon': 926,\n",
              " 'geneva': 927,\n",
              " 'felipe': 928,\n",
              " 'courtney': 929,\n",
              " 'delores': 930,\n",
              " 'fish': 931,\n",
              " 'mitchell': 932,\n",
              " 'margarita': 933,\n",
              " 'georgia': 934,\n",
              " 'jan': 935,\n",
              " 'later': 936,\n",
              " 'kirk': 937,\n",
              " 'jaime': 938,\n",
              " 'hilt': 939,\n",
              " 'tyrone': 940,\n",
              " 'terrance': 941,\n",
              " 'alberta': 942,\n",
              " 'shelia': 943,\n",
              " 'leona': 944,\n",
              " 'hugh': 945,\n",
              " 'christian': 946,\n",
              " 'after': 947,\n",
              " 'jo': 948,\n",
              " 'harriet': 949,\n",
              " 'vera': 950,\n",
              " 'marlene': 951,\n",
              " 'toni': 952,\n",
              " 'guy': 953,\n",
              " 'pat': 954,\n",
              " 'lance': 955,\n",
              " 'every': 956,\n",
              " 'julian': 957,\n",
              " 'penny': 958,\n",
              " 'albums': 959,\n",
              " 'dianne': 960,\n",
              " 'before': 961,\n",
              " 'priscilla': 962,\n",
              " 'gene': 963,\n",
              " 'austin': 964,\n",
              " 'gallons': 965,\n",
              " 'placed': 966,\n",
              " 'adrian': 967,\n",
              " 'erasers': 968,\n",
              " 'time': 969,\n",
              " 'jenny': 970,\n",
              " 'eat': 971,\n",
              " 'brandy': 972,\n",
              " 'yvette': 973,\n",
              " 'isabel': 974,\n",
              " 'eduardo': 975,\n",
              " 'marc': 976,\n",
              " 'sister': 977,\n",
              " 'kenny': 978,\n",
              " 'hilda': 979,\n",
              " 'chelsea': 980,\n",
              " 'neil': 981,\n",
              " 'madeline': 982,\n",
              " 'javier': 983,\n",
              " 'marshall': 984,\n",
              " 'max': 985,\n",
              " 'bethany': 986,\n",
              " 'ken': 987,\n",
              " 'mercedes': 988,\n",
              " 'homer': 989,\n",
              " 'dianna': 990,\n",
              " 'dwayne': 991,\n",
              " 'della': 992,\n",
              " 'joanna': 993,\n",
              " 'candace': 994,\n",
              " 'puppies': 995,\n",
              " 'alberto': 996,\n",
              " 'player': 997,\n",
              " 'velma': 998,\n",
              " 'birthday': 999,\n",
              " 'ones': 1000,\n",
              " ...}"
            ]
          },
          "metadata": {
            "tags": []
          },
          "execution_count": 23
        }
      ]
    },
    {
      "cell_type": "code",
      "metadata": {
        "id": "azEgUbcrbOay",
        "colab": {
          "base_uri": "https://localhost:8080/"
        },
        "outputId": "ae68360e-d445-49ec-b50f-b66830777bb1"
      },
      "source": [
        "len(inp_lang_tokenizer.word_index)"
      ],
      "execution_count": null,
      "outputs": [
        {
          "output_type": "execute_result",
          "data": {
            "text/plain": [
              "5889"
            ]
          },
          "metadata": {
            "tags": []
          },
          "execution_count": 25
        }
      ]
    },
    {
      "cell_type": "code",
      "metadata": {
        "id": "wHYWqR49bQ89",
        "colab": {
          "base_uri": "https://localhost:8080/"
        },
        "outputId": "b625d33d-990c-4129-a817-d14846c17d7d"
      },
      "source": [
        "input_tensor"
      ],
      "execution_count": null,
      "outputs": [
        {
          "output_type": "execute_result",
          "data": {
            "text/plain": [
              "array([[   3,  106, 2456, ...,    0,    0,    0],\n",
              "       [   3,  282,    8, ...,    0,    0,    0],\n",
              "       [   3,  813,   45, ...,    0,    0,    0],\n",
              "       ...,\n",
              "       [   3,  382,   14, ...,    0,    0,    0],\n",
              "       [   3,  169,    8, ...,    0,    0,    0],\n",
              "       [   3,  406,    8, ...,    0,    0,    0]], dtype=int32)"
            ]
          },
          "metadata": {
            "tags": []
          },
          "execution_count": 26
        }
      ]
    },
    {
      "cell_type": "code",
      "metadata": {
        "colab": {
          "base_uri": "https://localhost:8080/"
        },
        "id": "ISidvIQ5DSZy",
        "outputId": "0264dd77-665b-48f7-9a65-0ded531963b2"
      },
      "source": [
        "input_tensor[0]"
      ],
      "execution_count": null,
      "outputs": [
        {
          "output_type": "execute_result",
          "data": {
            "text/plain": [
              "array([   3,  106, 2456,  905,   34, 1155,    7,    9, 1627,   46,  106,\n",
              "       1628,    1,   12, 1991,  756,   19,  589,   34, 1155,    1,   20,\n",
              "         29,  824, 2255,   18, 1627,   27,    2,  146, 1275,  274,   29,\n",
              "         98,   34, 1155,   51,  594,    5,    4,    0,    0,    0,    0,\n",
              "          0,    0,    0,    0,    0,    0,    0,    0,    0,    0,    0,\n",
              "          0,    0,    0,    0,    0,    0,    0,    0,    0,    0,    0,\n",
              "          0,    0,    0,    0,    0,    0,    0,    0,    0,    0,    0,\n",
              "          0,    0,    0,    0,    0,    0,    0,    0,    0,    0,    0,\n",
              "          0,    0,    0,    0,    0,    0,    0,    0,    0,    0,    0,\n",
              "          0,    0,    0,    0,    0,    0,    0,    0,    0,    0,    0,\n",
              "          0,    0,    0,    0,    0,    0,    0,    0,    0,    0,    0,\n",
              "          0,    0,    0], dtype=int32)"
            ]
          },
          "metadata": {
            "tags": []
          },
          "execution_count": 27
        }
      ]
    },
    {
      "cell_type": "code",
      "metadata": {
        "id": "ItBARXwybW8C"
      },
      "source": [
        "target_tensor, targ_lang_tokenizer = tokenize(preprocessed_target_exps)"
      ],
      "execution_count": null,
      "outputs": []
    },
    {
      "cell_type": "code",
      "metadata": {
        "colab": {
          "base_uri": "https://localhost:8080/"
        },
        "id": "rz3hXdgZDeXn",
        "outputId": "1a103c73-e8ac-40d8-a03c-9962d36f2601"
      },
      "source": [
        "(targ_lang_tokenizer.word_index)"
      ],
      "execution_count": null,
      "outputs": [
        {
          "output_type": "execute_result",
          "data": {
            "text/plain": [
              "{'(': 20,\n",
              " ')': 21,\n",
              " '*': 18,\n",
              " '+': 17,\n",
              " '-': 12,\n",
              " '.': 19,\n",
              " '/': 14,\n",
              " '0': 11,\n",
              " '1': 5,\n",
              " '2': 6,\n",
              " '3': 7,\n",
              " '4': 8,\n",
              " '5': 10,\n",
              " '6': 9,\n",
              " '7': 13,\n",
              " '8': 15,\n",
              " '9': 16,\n",
              " '<end>': 3,\n",
              " '<start>': 2,\n",
              " '=': 1,\n",
              " '_': 29,\n",
              " 'a': 28,\n",
              " 'b': 38,\n",
              " 'c': 34,\n",
              " 'd': 37,\n",
              " 'e': 22,\n",
              " 'f': 40,\n",
              " 'g': 39,\n",
              " 'h': 36,\n",
              " 'i': 27,\n",
              " 'j': 47,\n",
              " 'k': 44,\n",
              " 'l': 32,\n",
              " 'm': 30,\n",
              " 'n': 24,\n",
              " 'o': 31,\n",
              " 'p': 35,\n",
              " 'q': 45,\n",
              " 'r': 23,\n",
              " 's': 26,\n",
              " 't': 25,\n",
              " 'u': 33,\n",
              " 'v': 41,\n",
              " 'w': 43,\n",
              " 'x': 4,\n",
              " 'y': 42,\n",
              " 'z': 46}"
            ]
          },
          "metadata": {
            "tags": []
          },
          "execution_count": 29
        }
      ]
    },
    {
      "cell_type": "code",
      "metadata": {
        "id": "3U4MKzdqbY8h",
        "colab": {
          "base_uri": "https://localhost:8080/"
        },
        "outputId": "931c1c3e-f660-4e81-f40d-2b2454a8b29b"
      },
      "source": [
        "len(targ_lang_tokenizer.word_index)"
      ],
      "execution_count": null,
      "outputs": [
        {
          "output_type": "execute_result",
          "data": {
            "text/plain": [
              "47"
            ]
          },
          "metadata": {
            "tags": []
          },
          "execution_count": 24
        }
      ]
    },
    {
      "cell_type": "code",
      "metadata": {
        "id": "SWFG2Wl1bbiv",
        "colab": {
          "base_uri": "https://localhost:8080/"
        },
        "outputId": "f5393cb9-bdb2-482d-8993-5fbba609d628"
      },
      "source": [
        "target_tensor"
      ],
      "execution_count": null,
      "outputs": [
        {
          "output_type": "execute_result",
          "data": {
            "text/plain": [
              "array([[2, 4, 1, ..., 0, 0, 0],\n",
              "       [2, 4, 1, ..., 0, 0, 0],\n",
              "       [2, 4, 1, ..., 0, 0, 0],\n",
              "       ...,\n",
              "       [2, 4, 1, ..., 0, 0, 0],\n",
              "       [2, 4, 1, ..., 0, 0, 0],\n",
              "       [2, 4, 1, ..., 0, 0, 0]], dtype=int32)"
            ]
          },
          "metadata": {
            "tags": []
          },
          "execution_count": 30
        }
      ]
    },
    {
      "cell_type": "code",
      "metadata": {
        "colab": {
          "base_uri": "https://localhost:8080/"
        },
        "id": "fKqzW1sPD6Y2",
        "outputId": "0b3c1e24-24dc-481f-e329-7977e23620f0"
      },
      "source": [
        "target_tensor[0]"
      ],
      "execution_count": null,
      "outputs": [
        {
          "output_type": "execute_result",
          "data": {
            "text/plain": [
              "array([ 2,  4,  1, 20, 13, 19, 11, 18, 20,  5,  6, 19, 11, 12, 10, 19, 11,\n",
              "       21, 21,  3,  0,  0,  0,  0,  0,  0,  0,  0,  0,  0,  0,  0,  0,  0,\n",
              "        0,  0,  0,  0,  0,  0,  0,  0,  0,  0,  0,  0,  0,  0,  0,  0,  0,\n",
              "        0,  0,  0,  0,  0,  0,  0,  0,  0,  0,  0,  0,  0,  0,  0],\n",
              "      dtype=int32)"
            ]
          },
          "metadata": {
            "tags": []
          },
          "execution_count": 31
        }
      ]
    },
    {
      "cell_type": "code",
      "metadata": {
        "id": "dxUoWd7xbf0G"
      },
      "source": [
        "# Creating training and validation sets\n",
        "input_tensor_train, input_tensor_val, target_tensor_train, target_tensor_val = train_test_split(input_tensor,target_tensor,test_size=0.05,random_state=42)                                                                                               "
      ],
      "execution_count": null,
      "outputs": []
    },
    {
      "cell_type": "code",
      "metadata": {
        "id": "AOZKhWs-bu2O",
        "colab": {
          "base_uri": "https://localhost:8080/"
        },
        "outputId": "6d2d22b1-03be-4aa7-99e9-7f69ce832186"
      },
      "source": [
        "len(input_tensor_train)"
      ],
      "execution_count": null,
      "outputs": [
        {
          "output_type": "execute_result",
          "data": {
            "text/plain": [
              "36236"
            ]
          },
          "metadata": {
            "tags": []
          },
          "execution_count": 33
        }
      ]
    },
    {
      "cell_type": "code",
      "metadata": {
        "id": "Sz3N9tHjbyhB",
        "colab": {
          "base_uri": "https://localhost:8080/"
        },
        "outputId": "78361827-1bdf-4cca-8a06-df2ebb510d6e"
      },
      "source": [
        "len(input_tensor_val)"
      ],
      "execution_count": null,
      "outputs": [
        {
          "output_type": "execute_result",
          "data": {
            "text/plain": [
              "1908"
            ]
          },
          "metadata": {
            "tags": []
          },
          "execution_count": 28
        }
      ]
    },
    {
      "cell_type": "code",
      "metadata": {
        "id": "1ootY4_db1NH"
      },
      "source": [
        "BUFFER_SIZE = len(input_tensor_train)\n",
        "BATCH_SIZE = 64\n",
        "steps_per_epoch = len(input_tensor_train)//BATCH_SIZE\n",
        "embedding_dim = 32\n",
        "units = 256\n",
        "vocab_inp_size = len(inp_lang_tokenizer.word_index)+1\n",
        "vocab_tar_size = len(targ_lang_tokenizer.word_index)+1\n",
        "dropout = 0.5\n",
        "dataset = tf.data.Dataset.from_tensor_slices((input_tensor_train, target_tensor_train)).shuffle(BUFFER_SIZE)\n",
        "dataset = dataset.batch(BATCH_SIZE, drop_remainder=True)"
      ],
      "execution_count": null,
      "outputs": []
    },
    {
      "cell_type": "code",
      "metadata": {
        "colab": {
          "base_uri": "https://localhost:8080/"
        },
        "id": "EqgpikWaiMcz",
        "outputId": "94436e31-817e-4994-9e24-2de031139f20"
      },
      "source": [
        "print(\"BUFFER_SIZE: \",BUFFER_SIZE)\n",
        "print(\"BATCH_SIZE: \",BATCH_SIZE)\n",
        "print(\"steps_per_epoch: \", steps_per_epoch)\n",
        "print(\"dropout: \", dropout)"
      ],
      "execution_count": null,
      "outputs": [
        {
          "output_type": "stream",
          "text": [
            "BUFFER_SIZE:  36236\n",
            "BATCH_SIZE:  64\n",
            "steps_per_epoch:  566\n",
            "dropout:  0.5\n"
          ],
          "name": "stdout"
        }
      ]
    },
    {
      "cell_type": "code",
      "metadata": {
        "id": "2JxRFU3EcScl",
        "colab": {
          "base_uri": "https://localhost:8080/"
        },
        "outputId": "ab769302-409f-4690-eaf9-1aaf924da66b"
      },
      "source": [
        "vocab_inp_size, vocab_tar_size"
      ],
      "execution_count": null,
      "outputs": [
        {
          "output_type": "execute_result",
          "data": {
            "text/plain": [
              "(5890, 48)"
            ]
          },
          "metadata": {
            "tags": []
          },
          "execution_count": 30
        }
      ]
    },
    {
      "cell_type": "code",
      "metadata": {
        "id": "MA6T4MhhcVHw",
        "colab": {
          "base_uri": "https://localhost:8080/"
        },
        "outputId": "e7d9c034-cfc8-4c5d-8fc0-e7660fb84f19"
      },
      "source": [
        "example_input_batch, example_target_batch = next(iter(dataset))\n",
        "example_input_batch.shape, example_target_batch.shape"
      ],
      "execution_count": null,
      "outputs": [
        {
          "output_type": "execute_result",
          "data": {
            "text/plain": [
              "(TensorShape([64, 124]), TensorShape([64, 66]))"
            ]
          },
          "metadata": {
            "tags": []
          },
          "execution_count": 31
        }
      ]
    },
    {
      "cell_type": "code",
      "metadata": {
        "id": "wPWwMNz0cYU0"
      },
      "source": [
        "class Encoder(tf.keras.Model):\n",
        "  def __init__(self, vocab_size, embedding_dim, enc_units, batch_sz, dropout):\n",
        "    super(Encoder, self).__init__()\n",
        "    self.batch_sz = batch_sz\n",
        "    \n",
        "    self.enc_units = enc_units\n",
        "    self.embedding = tf.keras.layers.Embedding(vocab_size, embedding_dim)\n",
        "    \n",
        "    # Bidirectional GRU Unit\n",
        "    self.gru = tf.keras.layers.Bidirectional(tf.keras.layers.GRU(self.enc_units,\n",
        "                                   return_sequences=True,\n",
        "                                   return_state=True,\n",
        "                                   recurrent_initializer='glorot_uniform',\n",
        "                                   dropout = dropout))\n",
        "\n",
        "  def call(self, x, hidden):\n",
        "    x = self.embedding(x)\n",
        "    output, state1, state2 = self.gru(x, initial_state = hidden)\n",
        "    state = [state1,state2]\n",
        "    return output, state\n",
        "\n",
        "  def initialize_hidden_state(self):\n",
        "    return [tf.zeros((self.batch_sz, self.enc_units)),tf.zeros((self.batch_sz, self.enc_units))]"
      ],
      "execution_count": null,
      "outputs": []
    },
    {
      "cell_type": "code",
      "metadata": {
        "id": "a3-bBTzmccjQ"
      },
      "source": [
        "encoder = Encoder(vocab_inp_size, embedding_dim, units, BATCH_SIZE, dropout)"
      ],
      "execution_count": null,
      "outputs": []
    },
    {
      "cell_type": "code",
      "metadata": {
        "id": "KrxD1-HYcoFT"
      },
      "source": [
        "class BahdanauAttention(tf.keras.layers.Layer):\n",
        "  def __init__(self, units):\n",
        "    super(BahdanauAttention, self).__init__()\n",
        "    self.W1 = tf.keras.layers.Dense(units)\n",
        "    self.W2 = tf.keras.layers.Dense(units)\n",
        "    self.V = tf.keras.layers.Dense(1)\n",
        "\n",
        "  def call(self, query, values):\n",
        "    \n",
        "    # we are doing this to perform addition to calculate the score\n",
        "    hidden_with_time_axis = tf.expand_dims(query, 1)\n",
        "\n",
        "    score = self.V(tf.nn.tanh(\n",
        "        self.W1(values) + self.W2(hidden_with_time_axis)))\n",
        "\n",
        "    # Get attention_weights\n",
        "    attention_weights = tf.nn.softmax(score, axis=1)\n",
        "\n",
        "    context_vector = attention_weights * values\n",
        "    context_vector = tf.reduce_sum(context_vector, axis=1)\n",
        "\n",
        "    return context_vector, attention_weights"
      ],
      "execution_count": null,
      "outputs": []
    },
    {
      "cell_type": "code",
      "metadata": {
        "id": "hCvsdli9csHK"
      },
      "source": [
        "attention_layer = BahdanauAttention(100)"
      ],
      "execution_count": null,
      "outputs": []
    },
    {
      "cell_type": "code",
      "metadata": {
        "id": "IHPmqY-qcwsj"
      },
      "source": [
        "class Decoder(tf.keras.Model):\n",
        "  def __init__(self, vocab_size, embedding_dim, dec_units, batch_sz):\n",
        "    super(Decoder, self).__init__()\n",
        "    self.batch_sz = batch_sz\n",
        "    self.dec_units = dec_units\n",
        "    self.embedding = tf.keras.layers.Embedding(vocab_size, embedding_dim)\n",
        "\n",
        "    #LSTM Unit\n",
        "    self.lstm = tf.keras.layers.LSTM(self.dec_units,\n",
        "                                   return_sequences=True,\n",
        "                                   return_state=True,\n",
        "                                   recurrent_initializer='glorot_uniform')\n",
        "    self.fc = tf.keras.layers.Dense(vocab_size)\n",
        "\n",
        "    # used for attention\n",
        "    self.attention = BahdanauAttention(self.dec_units)\n",
        "\n",
        "  def call(self, x, hidden, enc_output):\n",
        "    context_vector, attention_weights = self.attention(hidden, enc_output)\n",
        "\n",
        "    x = self.embedding(x)\n",
        "    \n",
        "    x = tf.concat([tf.expand_dims(context_vector, 1), x], axis=-1)\n",
        "\n",
        "    # passing the concatenated vector to the LSTM\n",
        "    output, state, cell_state = self.lstm(x)\n",
        "\n",
        "    output = tf.reshape(output, (-1, output.shape[2]))\n",
        "\n",
        "    x = self.fc(output)\n",
        "\n",
        "    return x, state, attention_weights"
      ],
      "execution_count": null,
      "outputs": []
    },
    {
      "cell_type": "code",
      "metadata": {
        "id": "GMVQszsxdD_S"
      },
      "source": [
        "decoder = Decoder(vocab_tar_size, embedding_dim, units, BATCH_SIZE)"
      ],
      "execution_count": null,
      "outputs": []
    },
    {
      "cell_type": "code",
      "metadata": {
        "id": "aXcNaPrkdIIN"
      },
      "source": [
        "optimizer = tf.keras.optimizers.Adam(lr=0.001)\n",
        "loss_object = tf.keras.losses.SparseCategoricalCrossentropy(\n",
        "    from_logits=True, reduction='none')\n",
        "\n",
        "def loss_function(real, pred):\n",
        "  # Apply a mask to paddings (0)\n",
        "  mask = tf.math.logical_not(tf.math.equal(real, 0))\n",
        "  loss_ = loss_object(real, pred)\n",
        "\n",
        "  mask = tf.cast(mask, dtype=loss_.dtype)\n",
        "  loss_ *= mask\n",
        "\n",
        "  return tf.reduce_mean(loss_)"
      ],
      "execution_count": null,
      "outputs": []
    },
    {
      "cell_type": "code",
      "metadata": {
        "id": "7n1gWzR3eiPM"
      },
      "source": [
        "checkpoint_dir = os.path.join(drive_root, \"Model/checkpoints\")\n",
        "checkpoint_dir = os.path.join(checkpoint_dir, \"MWPs/Seq2Seq_attention\")\n",
        "\n",
        "print(\"Checkpoints directory is\", checkpoint_dir)\n",
        "if os.path.exists(checkpoint_dir):\n",
        "  print(\"Checkpoints folder already exists\")\n",
        "else:\n",
        "  print(\"Creating a checkpoints directory\")\n",
        "  os.makedirs(checkpoint_dir)\n",
        "\n",
        "\n",
        "checkpoint_prefix = os.path.join(checkpoint_dir, \"ckpt\")\n",
        "checkpoint = tf.train.Checkpoint(optimizer=optimizer,\n",
        "                                 encoder=encoder,\n",
        "                                 decoder=decoder)"
      ],
      "execution_count": null,
      "outputs": []
    },
    {
      "cell_type": "code",
      "metadata": {
        "id": "_AG7POMCemZN"
      },
      "source": [
        "latest = tf.train.latest_checkpoint(checkpoint_dir)\n",
        "latest"
      ],
      "execution_count": null,
      "outputs": []
    },
    {
      "cell_type": "code",
      "metadata": {
        "id": "yyIgG9s_k4OK"
      },
      "source": [
        "if latest:\n",
        "  epoch_num = int(latest.split('/')[-1].split('-')[-1])\n",
        "  checkpoint.restore(latest)\n",
        "else:\n",
        "  epoch_num = 0"
      ],
      "execution_count": null,
      "outputs": []
    },
    {
      "cell_type": "code",
      "metadata": {
        "id": "BIGw3Ml8k-SU",
        "colab": {
          "base_uri": "https://localhost:8080/"
        },
        "outputId": "107b746c-b9ab-475a-e844-74c3dc0885de"
      },
      "source": [
        "epoch_num"
      ],
      "execution_count": null,
      "outputs": [
        {
          "output_type": "execute_result",
          "data": {
            "text/plain": [
              "5"
            ]
          },
          "metadata": {
            "tags": []
          },
          "execution_count": 42
        }
      ]
    },
    {
      "cell_type": "code",
      "metadata": {
        "id": "TXB4jxiJdPno"
      },
      "source": [
        "@tf.function\n",
        "def train_step(inp, targ, enc_hidden):\n",
        "  loss = 0\n",
        "\n",
        "  with tf.GradientTape() as tape:\n",
        "    enc_output, enc_hidden = encoder(inp, enc_hidden)\n",
        "    dec_hidden = enc_hidden[0]\n",
        "\n",
        "    dec_input = tf.expand_dims([targ_lang_tokenizer.word_index['<start>']] * BATCH_SIZE, 1)\n",
        "\n",
        "    # Teacher forcing - feeding the target as the next input, to ensure proper training\n",
        "    for t in range(1, targ.shape[1]):\n",
        "      # passing enc_output to the decoder\n",
        "      predictions, dec_hidden, _ = decoder(dec_input, dec_hidden, enc_output)\n",
        "\n",
        "      loss += loss_function(targ[:, t], predictions)\n",
        "\n",
        "      # using teacher forcing\n",
        "      dec_input = tf.expand_dims(targ[:, t], 1)\n",
        "\n",
        "  batch_loss = (loss / int(targ.shape[1]))\n",
        "\n",
        "  variables = encoder.trainable_variables + decoder.trainable_variables\n",
        "\n",
        "  gradients = tape.gradient(loss, variables)\n",
        "\n",
        "  optimizer.apply_gradients(zip(gradients, variables))\n",
        "\n",
        "  return batch_loss"
      ],
      "execution_count": null,
      "outputs": []
    },
    {
      "cell_type": "code",
      "metadata": {
        "id": "rk4x1pHFddA_"
      },
      "source": [
        "EPOCHS = 5\n",
        "\n",
        "for epoch in range(epoch_num, EPOCHS):\n",
        "  start = time.time()\n",
        "\n",
        "  enc_hidden = encoder.initialize_hidden_state()\n",
        "  total_loss = 0\n",
        "\n",
        "  for (batch, (inp, targ)) in enumerate(dataset.take(steps_per_epoch)):\n",
        "    batch_loss = train_step(inp, targ, enc_hidden)\n",
        "    total_loss += batch_loss\n",
        "\n",
        "    if batch % 100 == 0:\n",
        "        print('Epoch {} Batch {} Loss {:.4f}'.format(epoch + 1,\n",
        "                                                     batch,\n",
        "                                                     batch_loss.numpy()))\n",
        "  checkpoint.save(file_prefix = checkpoint_prefix)\n",
        "  print('Saved epoch: {} at {}'.format(epoch+1, checkpoint_dir))\n",
        "\n",
        "  print('Epoch {} Loss {:.4f}'.format(epoch + 1,\n",
        "                                      total_loss / steps_per_epoch))\n",
        "  print('Time taken for 1 epoch {} sec\\n'.format(time.time() - start))"
      ],
      "execution_count": null,
      "outputs": []
    },
    {
      "cell_type": "code",
      "metadata": {
        "id": "tlvKCcmPlGV2"
      },
      "source": [
        "def max_length(tensor):\n",
        "    return max(len(t) for t in tensor)"
      ],
      "execution_count": null,
      "outputs": []
    },
    {
      "cell_type": "code",
      "metadata": {
        "id": "BYvTzEH6lKlu"
      },
      "source": [
        "max_length_targ, max_length_inp = max_length(target_tensor), max_length(input_tensor)"
      ],
      "execution_count": null,
      "outputs": []
    },
    {
      "cell_type": "code",
      "metadata": {
        "id": "JBiJNGi2oaMb"
      },
      "source": [
        "def evaluate(sentence):\n",
        "    attention_plot = np.zeros((max_length_targ, max_length_inp))\n",
        "\n",
        "    # Preprocess the input\n",
        "    sentence = preprocess_input(sentence)\n",
        "\n",
        "    inputs = [inp_lang_tokenizer.word_index[i] for i in sentence.split(' ')]\n",
        "    inputs = tf.keras.preprocessing.sequence.pad_sequences([inputs],\n",
        "                                                           maxlen=max_length_inp,\n",
        "                                                           padding='post')\n",
        "    inputs = tf.convert_to_tensor(inputs)\n",
        "    \n",
        "    result = ''\n",
        "\n",
        "    hidden = [tf.zeros((1, units)),tf.zeros((1, units))]\n",
        "    enc_out, enc_hidden = encoder(inputs, hidden)\n",
        "\n",
        "    dec_hidden = enc_hidden[0]\n",
        "    dec_input = tf.expand_dims([targ_lang_tokenizer.word_index['<start>']], 0)\n",
        "\n",
        "    for t in range(max_length_targ):\n",
        "        predictions, dec_hidden, attention_weights = decoder(dec_input,\n",
        "                                                             dec_hidden,\n",
        "                                                             enc_out)\n",
        "\n",
        "        # storing the attention weights to plot later on\n",
        "        attention_weights = tf.reshape(attention_weights, (-1, ))\n",
        "        attention_plot[t] = attention_weights.numpy()\n",
        "\n",
        "        predicted_id = tf.argmax(predictions[0]).numpy()\n",
        "\n",
        "        result += targ_lang_tokenizer.index_word[predicted_id] + ' '\n",
        "\n",
        "        if targ_lang_tokenizer.index_word[predicted_id] == '<end>':\n",
        "            return result, sentence, attention_plot\n",
        "\n",
        "        # the predicted ID is fed back into the model\n",
        "        dec_input = tf.expand_dims([predicted_id], 0)\n",
        "\n",
        "    return result, sentence, attention_plot"
      ],
      "execution_count": null,
      "outputs": []
    },
    {
      "cell_type": "code",
      "metadata": {
        "id": "UgDQ0qkvoeFX"
      },
      "source": [
        "# function for plotting the attention weights\n",
        "def plot_attention(attention, sentence, predicted_sentence):\n",
        "    fig = plt.figure(figsize=(10,10))\n",
        "    ax = fig.add_subplot(1, 1, 1)\n",
        "    ax.matshow(attention, cmap='viridis')\n",
        "\n",
        "    fontdict = {'fontsize': 14}\n",
        "\n",
        "    ax.set_xticklabels([''] + sentence, fontdict=fontdict, rotation=90)\n",
        "    ax.set_yticklabels([''] + predicted_sentence, fontdict=fontdict)\n",
        "\n",
        "    ax.xaxis.set_major_locator(ticker.MultipleLocator(1))\n",
        "    ax.yaxis.set_major_locator(ticker.MultipleLocator(1))\n",
        "\n",
        "    plt.show()"
      ],
      "execution_count": null,
      "outputs": []
    },
    {
      "cell_type": "code",
      "metadata": {
        "id": "WCoxwB0IoiEv"
      },
      "source": [
        "def translate(sentence):\n",
        "    result, sentence, attention_plot = evaluate(sentence)\n",
        "\n",
        "    print('Input: %s' % (sentence))\n",
        "    print('Predicted translation: {}'.format(result))\n",
        "\n",
        "    attention_plot = attention_plot[:len(result.split(' ')), :len(sentence.split(' '))]\n",
        "    plot_attention(attention_plot, sentence.split(' '), result.split(' '))"
      ],
      "execution_count": null,
      "outputs": []
    },
    {
      "cell_type": "code",
      "metadata": {
        "id": "Kvj_wI4JovnC",
        "colab": {
          "base_uri": "https://localhost:8080/"
        },
        "outputId": "0fd388ef-83e3-4b77-ab34-dc2f3c81969d"
      },
      "source": [
        "# restoring the latest checkpoint in checkpoint_dir\n",
        "checkpoint.restore(tf.train.latest_checkpoint(checkpoint_dir))"
      ],
      "execution_count": null,
      "outputs": [
        {
          "output_type": "execute_result",
          "data": {
            "text/plain": [
              "<tensorflow.python.training.tracking.util.CheckpointLoadStatus at 0x7f2a25d771d0>"
            ]
          },
          "metadata": {
            "tags": []
          },
          "execution_count": 50
        }
      ]
    },
    {
      "cell_type": "code",
      "metadata": {
        "id": "0gsKck2ioyOS"
      },
      "source": [
        "def evaluate_accuracy(inputs):\n",
        "    attention_plot = np.zeros((max_length_targ, max_length_inp))\n",
        "    sentence = ''\n",
        "    for i in range(len(inputs.numpy()[0])):\n",
        "      if inputs.numpy()[0][i] != 0: #padding token\n",
        "        sentence += inp_lang_tokenizer.index_word[inputs.numpy()[0][i]] + ' '\n",
        "\n",
        "    inputs = tf.convert_to_tensor(inputs)\n",
        "    \n",
        "    result = ''\n",
        "    result_seq = ''\n",
        "    \n",
        "    hidden = [tf.zeros((1, units)),tf.zeros((1, units))]\n",
        "    enc_out, enc_hidden = encoder(inputs, hidden)\n",
        "    \n",
        "    dec_hidden = enc_hidden[0]\n",
        "    dec_input = tf.expand_dims([targ_lang_tokenizer.word_index['<start>']], 0)\n",
        "    \n",
        "    for t in range(max_length_targ):\n",
        "        predictions, dec_hidden, attention_weights = decoder(dec_input, dec_hidden, enc_out)\n",
        "        attention_weights = tf.reshape(attention_weights, (-1, ))\n",
        "        attention_plot[t] = attention_weights.numpy()\n",
        "\n",
        "        predicted_id = tf.argmax(predictions[0]).numpy()\n",
        "        \n",
        "        result_seq += str(predicted_id) +' '\n",
        "        \n",
        "        result += targ_lang_tokenizer.index_word[predicted_id] + ' '\n",
        "\n",
        "        if targ_lang_tokenizer.index_word[predicted_id] == '<end>':\n",
        "            return result_seq, result, sentence, attention_plot\n",
        "        dec_input = tf.expand_dims([predicted_id], 0)\n",
        "\n",
        "    return result_seq, result, sentence, attention_plot"
      ],
      "execution_count": null,
      "outputs": []
    },
    {
      "cell_type": "code",
      "metadata": {
        "id": "dV6jkAFDo2u8"
      },
      "source": [
        "dataset_val = tf.data.Dataset.from_tensor_slices((input_tensor_val, target_tensor_val)).shuffle(BUFFER_SIZE)\n",
        "dataset_val = dataset_val.batch(1, drop_remainder=True)"
      ],
      "execution_count": null,
      "outputs": []
    },
    {
      "cell_type": "code",
      "metadata": {
        "id": "J-uVXelco6ly",
        "colab": {
          "base_uri": "https://localhost:8080/"
        },
        "outputId": "e5691c37-c10d-4a3f-f6ed-e833ad5bfb3a"
      },
      "source": [
        "y_true = []\n",
        "y_pred = []\n",
        "acc_cnt = 0\n",
        "\n",
        "a = 0\n",
        "for (inp_val_batch, target_val_batch) in iter(dataset_val):\n",
        "  a += 1\n",
        "  if a % 50 == 0:\n",
        "    print(a)\n",
        "    print(\"Accuracy count: \",acc_cnt)\n",
        "    print('------------------')\n",
        "\n",
        "  target_sentence = ''\n",
        "  for i in target_val_batch.numpy()[0]:\n",
        "    if i!= 0:\n",
        "      target_sentence += (targ_lang_tokenizer.index_word[i] + ' ')\n",
        "  target_sentence = target_sentence.split('<start> ')[1]\n",
        "\n",
        "  y_true.append([target_sentence.split(' ')])\n",
        "\n",
        "  res_seq, res, sent, att = evaluate_accuracy(inp_val_batch)\n",
        "  y_pred.append(res.split(' '))\n",
        "  \n",
        "  if target_sentence == res:\n",
        "    acc_cnt += 1"
      ],
      "execution_count": null,
      "outputs": [
        {
          "output_type": "stream",
          "text": [
            "50\n",
            "Accuracy count:  44\n",
            "------------------\n",
            "100\n",
            "Accuracy count:  90\n",
            "------------------\n",
            "150\n",
            "Accuracy count:  138\n",
            "------------------\n",
            "200\n",
            "Accuracy count:  186\n",
            "------------------\n",
            "250\n",
            "Accuracy count:  235\n",
            "------------------\n",
            "300\n",
            "Accuracy count:  283\n",
            "------------------\n",
            "350\n",
            "Accuracy count:  331\n",
            "------------------\n",
            "400\n",
            "Accuracy count:  378\n",
            "------------------\n",
            "450\n",
            "Accuracy count:  424\n",
            "------------------\n",
            "500\n",
            "Accuracy count:  474\n",
            "------------------\n",
            "550\n",
            "Accuracy count:  523\n",
            "------------------\n",
            "600\n",
            "Accuracy count:  570\n",
            "------------------\n",
            "650\n",
            "Accuracy count:  617\n",
            "------------------\n",
            "700\n",
            "Accuracy count:  666\n",
            "------------------\n",
            "750\n",
            "Accuracy count:  712\n",
            "------------------\n",
            "800\n",
            "Accuracy count:  760\n",
            "------------------\n",
            "850\n",
            "Accuracy count:  805\n",
            "------------------\n",
            "900\n",
            "Accuracy count:  853\n",
            "------------------\n",
            "950\n",
            "Accuracy count:  901\n",
            "------------------\n",
            "1000\n",
            "Accuracy count:  948\n",
            "------------------\n",
            "1050\n",
            "Accuracy count:  996\n",
            "------------------\n",
            "1100\n",
            "Accuracy count:  1043\n",
            "------------------\n",
            "1150\n",
            "Accuracy count:  1090\n",
            "------------------\n",
            "1200\n",
            "Accuracy count:  1140\n",
            "------------------\n",
            "1250\n",
            "Accuracy count:  1186\n",
            "------------------\n",
            "1300\n",
            "Accuracy count:  1234\n",
            "------------------\n",
            "1350\n",
            "Accuracy count:  1283\n",
            "------------------\n",
            "1400\n",
            "Accuracy count:  1330\n",
            "------------------\n",
            "1450\n",
            "Accuracy count:  1375\n",
            "------------------\n",
            "1500\n",
            "Accuracy count:  1420\n",
            "------------------\n",
            "1550\n",
            "Accuracy count:  1467\n",
            "------------------\n",
            "1600\n",
            "Accuracy count:  1515\n",
            "------------------\n",
            "1650\n",
            "Accuracy count:  1564\n",
            "------------------\n",
            "1700\n",
            "Accuracy count:  1610\n",
            "------------------\n",
            "1750\n",
            "Accuracy count:  1658\n",
            "------------------\n",
            "1800\n",
            "Accuracy count:  1707\n",
            "------------------\n",
            "1850\n",
            "Accuracy count:  1756\n",
            "------------------\n",
            "1900\n",
            "Accuracy count:  1803\n",
            "------------------\n"
          ],
          "name": "stdout"
        }
      ]
    },
    {
      "cell_type": "code",
      "metadata": {
        "id": "uThJJInQpYL3",
        "colab": {
          "base_uri": "https://localhost:8080/"
        },
        "outputId": "b68f31d9-6957-4417-f140-4da5b7bf5a2d"
      },
      "source": [
        "print('BLEU score: ', corpus_bleu(y_true, y_pred))"
      ],
      "execution_count": null,
      "outputs": [
        {
          "output_type": "stream",
          "text": [
            "BLEU score:  0.8916300115772645\n"
          ],
          "name": "stdout"
        }
      ]
    },
    {
      "cell_type": "code",
      "metadata": {
        "id": "AvYkAZfGsPrt",
        "colab": {
          "base_uri": "https://localhost:8080/"
        },
        "outputId": "d0a8dbdc-7e66-4685-ea7a-5283f762b4be"
      },
      "source": [
        "print('Model accuracy: ', acc_cnt/len(input_tensor_val))"
      ],
      "execution_count": null,
      "outputs": [
        {
          "output_type": "stream",
          "text": [
            "Model accuracy:  0.94916142557652\n"
          ],
          "name": "stdout"
        }
      ]
    },
    {
      "cell_type": "code",
      "metadata": {
        "id": "FkKhwpfasTsb"
      },
      "source": [
        "check_str = ' '.join([inp_lang_tokenizer.index_word[i] for i in input_tensor_val[0] if i != 0][1:-1])"
      ],
      "execution_count": null,
      "outputs": []
    },
    {
      "cell_type": "code",
      "metadata": {
        "id": "Q7HLfyRRsXZZ",
        "colab": {
          "base_uri": "https://localhost:8080/",
          "height": 52
        },
        "outputId": "a29b4e95-bce0-42f8-c4ba-09d5abd403b8"
      },
      "source": [
        "check_str"
      ],
      "execution_count": null,
      "outputs": [
        {
          "output_type": "execute_result",
          "data": {
            "application/vnd.google.colaboratory.intrinsic+json": {
              "type": "string"
            },
            "text/plain": [
              "'ronnie had some blackberry . he divide each blackberry into 1 3 slices . if total 1 8 9 blackberry slices ronnie make , then how many blackberry ronnie had ?'"
            ]
          },
          "metadata": {
            "tags": []
          },
          "execution_count": 57
        }
      ]
    },
    {
      "cell_type": "code",
      "metadata": {
        "id": "xOIBIi_9sZ17",
        "colab": {
          "base_uri": "https://localhost:8080/",
          "height": 338
        },
        "outputId": "645e093d-ba41-4979-8233-f925d3ff3b33"
      },
      "source": [
        "translate(check_str)"
      ],
      "execution_count": null,
      "outputs": [
        {
          "output_type": "stream",
          "text": [
            "Input: <start> ronnie had some blackberry . he divide each blackberry into 1 3 slices . if total 1 8 9 blackberry slices ronnie make , then how many blackberry ronnie had ? <end>\n",
            "Predicted translation: x = 1 8 9 / 1 3 <end> \n"
          ],
          "name": "stdout"
        },
        {
          "output_type": "display_data",
          "data": {
            "image/png": "[encoded data removed]",
            "text/plain": [
              "<Figure size 720x720 with 1 Axes>"
            ]
          },
          "metadata": {
            "tags": [],
            "needs_background": "light"
          }
        }
      ]
    },
    {
      "cell_type": "code",
      "metadata": {
        "id": "FPprILWRsj-q",
        "colab": {
          "base_uri": "https://localhost:8080/",
          "height": 382
        },
        "outputId": "d7b4a86f-03a6-409a-91dd-69b4ba562b3c"
      },
      "source": [
        "translate(\"Glenn had 142 lychee. Christine took 107 from him. Now How many lychee Glenn have left?\")"
      ],
      "execution_count": null,
      "outputs": [
        {
          "output_type": "stream",
          "text": [
            "Input: <start> glenn had 1 4 2 lychee . christine took 1 0 7 from him . now how many lychee glenn have left ? <end>\n",
            "Predicted translation: x = 1 4 2 - 1 0 7 <end> \n"
          ],
          "name": "stdout"
        },
        {
          "output_type": "display_data",
          "data": {
            "image/png": "[encoded data removed]",
            "text/plain": [
              "<Figure size 720x720 with 1 Axes>"
            ]
          },
          "metadata": {
            "tags": [],
            "needs_background": "light"
          }
        }
      ]
    },
    {
      "cell_type": "code",
      "metadata": {
        "colab": {
          "base_uri": "https://localhost:8080/",
          "height": 318
        },
        "id": "ROXehMbqboda",
        "outputId": "d45301a1-b7e4-4098-e510-7db5c90b119b"
      },
      "source": [
        "translate(\"James procure 4 bags of Mango . how many Mango in each bag? If total 52 Mango James  procure.\")"
      ],
      "execution_count": null,
      "outputs": [
        {
          "output_type": "stream",
          "text": [
            "Input: <start> james procure 4 bags of mango . how many mango in each bag ? if total 5 2 mango james procure . <end>\n",
            "Predicted translation: x = 5 2 / 4 <end> \n"
          ],
          "name": "stdout"
        },
        {
          "output_type": "display_data",
          "data": {
            "image/png": "[encoded data removed]",
            "text/plain": [
              "<Figure size 720x720 with 1 Axes>"
            ]
          },
          "metadata": {
            "tags": [],
            "needs_background": "light"
          }
        }
      ]
    },
    {
      "cell_type": "code",
      "metadata": {
        "colab": {
          "base_uri": "https://localhost:8080/",
          "height": 714
        },
        "id": "qaakpcZwkcen",
        "outputId": "74b66d4f-00b3-468f-e3d7-9a88c7b1717f"
      },
      "source": [
        "translate(\"A dust storm sweeps across the prairie . It covers 64535 acres of the prairie in dust , but leaves 522 acres untouched . How many acres does the prairie cover ?\") "
      ],
      "execution_count": null,
      "outputs": [
        {
          "output_type": "stream",
          "text": [
            "Input: <start> a dust storm sweeps across the prairie . it covers 6 4 5 3 5 acres of the prairie in dust , but leaves 5 2 2 acres untouched . how many acres does the prairie cover ? <end>\n",
            "Predicted translation: x = ( 5 5 5 5 5 5 5 5 5 5 5 5 5 5 5 5 5 5 5 5 5 5 5 5 5 5 5 5 5 5 5 5 5 5 5 5 5 5 5 5 5 5 5 5 5 5 5 5 5 5 5 5 5 5 5 5 5 5 5 5 5 5 5 \n"
          ],
          "name": "stdout"
        },
        {
          "output_type": "display_data",
          "data": {
            "image/png": "[encoded data removed]",
            "text/plain": [
              "<Figure size 720x720 with 1 Axes>"
            ]
          },
          "metadata": {
            "tags": [],
            "needs_background": "light"
          }
        }
      ]
    },
    {
      "cell_type": "code",
      "metadata": {
        "colab": {
          "base_uri": "https://localhost:8080/",
          "height": 333
        },
        "id": "jEp-WfJ0l3Bm",
        "outputId": "9853dba5-8d04-41bb-cd48-8e7b4d9e5cea"
      },
      "source": [
        "translate(\"Joanne invest 11 bags of orange . how many orange in each bag? If total 77 orange Joanne  invest.\")"
      ],
      "execution_count": null,
      "outputs": [
        {
          "output_type": "stream",
          "text": [
            "Input: <start> joanne invest 1 1 bags of orange . how many orange in each bag ? if total 7 7 orange joanne invest . <end>\n",
            "Predicted translation: x = 7 7 / 1 1 <end> \n"
          ],
          "name": "stdout"
        },
        {
          "output_type": "display_data",
          "data": {
            "image/png": "[encoded data removed]",
            "text/plain": [
              "<Figure size 720x720 with 1 Axes>"
            ]
          },
          "metadata": {
            "tags": [],
            "needs_background": "light"
          }
        }
      ]
    }
  ]
}