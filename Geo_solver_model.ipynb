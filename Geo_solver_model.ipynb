{
  "nbformat": 4,
  "nbformat_minor": 0,
  "metadata": {
    "accelerator": "GPU",
    "colab": {
      "name": "Geo solver model.ipynb",
      "provenance": [],
      "collapsed_sections": []
    },
    "kernelspec": {
      "display_name": "Python 3",
      "name": "python3"
    }
  },
  "cells": [
    {
      "cell_type": "code",
      "metadata": {
        "colab": {
          "base_uri": "https://localhost:8080/"
        },
        "id": "6xpf68Ub1Xfr",
        "outputId": "eef97a09-fac6-47de-f199-df1f77402ecc"
      },
      "source": [
        "#@title\n",
        "import pandas as pd\n",
        "import re\n",
        "import os\n",
        "import time\n",
        "import random\n",
        "import numpy as np\n",
        "\n",
        "try:\n",
        "  %tensorflow_version 2.x # enable TF 2.x in Colab\n",
        "except Exception:\n",
        "  pass\n",
        "\n",
        "import tensorflow as tf\n",
        "import matplotlib.pyplot as plt\n",
        "import matplotlib.ticker as ticker\n",
        "from sklearn.model_selection import train_test_split\n",
        "from google.colab import drive\n",
        "import pickle\n",
        "\n",
        "import spacy\n",
        "\n",
        "nlp = spacy.load(\"en_core_web_sm\")\n",
        "from nltk.translate.bleu_score import corpus_bleu"
      ],
      "execution_count": null,
      "outputs": [
        {
          "output_type": "stream",
          "text": [
            "`%tensorflow_version` only switches the major version: 1.x or 2.x.\n",
            "You set: `2.x # enable TF 2.x in Colab`. This will be interpreted as: `2.x`.\n",
            "\n",
            "\n",
            "TensorFlow is already loaded. Please restart the runtime to change versions.\n"
          ],
          "name": "stdout"
        }
      ]
    },
    {
      "cell_type": "code",
      "metadata": {
        "colab": {
          "base_uri": "https://localhost:8080/",
          "height": 35
        },
        "id": "i34IuYve1kUe",
        "outputId": "d3bf10f2-a7a8-4169-f170-e31a3f227e9c"
      },
      "source": [
        "tf.__version__"
      ],
      "execution_count": null,
      "outputs": [
        {
          "output_type": "execute_result",
          "data": {
            "application/vnd.google.colaboratory.intrinsic+json": {
              "type": "string"
            },
            "text/plain": [
              "'2.5.0'"
            ]
          },
          "metadata": {
            "tags": []
          },
          "execution_count": 82
        }
      ]
    },
    {
      "cell_type": "code",
      "metadata": {
        "id": "ZD9zprl1dsXf"
      },
      "source": [
        "# # Mount drive\n",
        "# drive.mount('/gdrive')\n",
        "# drive_root = '/gdrive/My Drive/'"
      ],
      "execution_count": null,
      "outputs": []
    },
    {
      "cell_type": "code",
      "metadata": {
        "id": "jd1zTnyhoqlP"
      },
      "source": [
        "import pandas as pd\n",
        "df = pd.read_json(\"\\Path to dataset\")\n"
      ],
      "execution_count": null,
      "outputs": []
    },
    {
      "cell_type": "code",
      "metadata": {
        "colab": {
          "base_uri": "https://localhost:8080/"
        },
        "id": "VLwLa6eZYrL3",
        "outputId": "ac9fb71d-e691-47ba-ab86-df96ad3f2fde"
      },
      "source": [
        "df.shape"
      ],
      "execution_count": null,
      "outputs": [
        {
          "output_type": "execute_result",
          "data": {
            "text/plain": [
              "(15999, 4)"
            ]
          },
          "metadata": {
            "tags": []
          },
          "execution_count": 86
        }
      ]
    },
    {
      "cell_type": "code",
      "metadata": {
        "colab": {
          "base_uri": "https://localhost:8080/",
          "height": 203
        },
        "id": "tF28fvO1ZdO9",
        "outputId": "f237f432-2cf7-4932-b948-914c3e6aebf5"
      },
      "source": [
        "df.head()"
      ],
      "execution_count": null,
      "outputs": [
        {
          "output_type": "execute_result",
          "data": {
            "text/html": [
              "<div>\n",
              "<style scoped>\n",
              "    .dataframe tbody tr th:only-of-type {\n",
              "        vertical-align: middle;\n",
              "    }\n",
              "\n",
              "    .dataframe tbody tr th {\n",
              "        vertical-align: top;\n",
              "    }\n",
              "\n",
              "    .dataframe thead th {\n",
              "        text-align: right;\n",
              "    }\n",
              "</style>\n",
              "<table border=\"1\" class=\"dataframe\">\n",
              "  <thead>\n",
              "    <tr style=\"text-align: right;\">\n",
              "      <th></th>\n",
              "      <th>Figure</th>\n",
              "      <th>Question</th>\n",
              "      <th>Answer</th>\n",
              "      <th>Equation</th>\n",
              "    </tr>\n",
              "  </thead>\n",
              "  <tbody>\n",
              "    <tr>\n",
              "      <th>0</th>\n",
              "      <td>Geo_Figures\\plotcirclesar0.png</td>\n",
              "      <td>If radius of this figure is 0.45 units. What i...</td>\n",
              "      <td>0.64</td>\n",
              "      <td>X=3.14*0.45*0.45</td>\n",
              "    </tr>\n",
              "    <tr>\n",
              "      <th>1</th>\n",
              "      <td>Geo_Figures\\plotrectanglesar0.png</td>\n",
              "      <td>If length of this figure is 37.17 units and wi...</td>\n",
              "      <td>2440.58</td>\n",
              "      <td>X=37.17*65.66</td>\n",
              "    </tr>\n",
              "    <tr>\n",
              "      <th>2</th>\n",
              "      <td>Geo_Figures\\plotlines0.png</td>\n",
              "      <td>If coordinates of this figure are (2.29 , 4.63...</td>\n",
              "      <td>-0.03</td>\n",
              "      <td>X=(4.67-4.63)/(0.73-2.29)</td>\n",
              "    </tr>\n",
              "    <tr>\n",
              "      <th>3</th>\n",
              "      <td>Geo_Figures\\plottrianglear0.png</td>\n",
              "      <td>If the three sides of this figure are [(6.12, ...</td>\n",
              "      <td>13.72</td>\n",
              "      <td>X=(0.5*((6.12*(9.92-6.21))+(1.89*(6.21-1.24))+...</td>\n",
              "    </tr>\n",
              "    <tr>\n",
              "      <th>4</th>\n",
              "      <td>Geo_Figures\\plotsquarear0.png</td>\n",
              "      <td>Length of a side of a of this figure is 7.07 u...</td>\n",
              "      <td>49.98</td>\n",
              "      <td>X=7.07*7.07</td>\n",
              "    </tr>\n",
              "  </tbody>\n",
              "</table>\n",
              "</div>"
            ],
            "text/plain": [
              "                              Figure  ...                                           Equation\n",
              "0     Geo_Figures\\plotcirclesar0.png  ...                                   X=3.14*0.45*0.45\n",
              "1  Geo_Figures\\plotrectanglesar0.png  ...                                      X=37.17*65.66\n",
              "2         Geo_Figures\\plotlines0.png  ...                          X=(4.67-4.63)/(0.73-2.29)\n",
              "3    Geo_Figures\\plottrianglear0.png  ...  X=(0.5*((6.12*(9.92-6.21))+(1.89*(6.21-1.24))+...\n",
              "4      Geo_Figures\\plotsquarear0.png  ...                                        X=7.07*7.07\n",
              "\n",
              "[5 rows x 4 columns]"
            ]
          },
          "metadata": {
            "tags": []
          },
          "execution_count": 87
        }
      ]
    },
    {
      "cell_type": "code",
      "metadata": {
        "id": "ddvYKIr_ZgSZ"
      },
      "source": [
        "def convert_eqn(eqn):\n",
        "  '''\n",
        "  Add a space between every character in the equation string.\n",
        "  Eg: 'x = 23 + 88' becomes 'x =  2 3 + 8 8'\n",
        "  '''\n",
        "  elements = list(eqn)\n",
        "  return ' '.join(elements)"
      ],
      "execution_count": null,
      "outputs": []
    },
    {
      "cell_type": "code",
      "metadata": {
        "id": "sXY1TlqFZoXc"
      },
      "source": [
        "input_exps = list(df['Question'].values)"
      ],
      "execution_count": null,
      "outputs": []
    },
    {
      "cell_type": "code",
      "metadata": {
        "id": "LRGqtXZDZswl"
      },
      "source": [
        "target_exps = list(df['Equation'].apply(lambda x: convert_eqn(x)).values)"
      ],
      "execution_count": null,
      "outputs": []
    },
    {
      "cell_type": "code",
      "metadata": {
        "id": "7Wv9kttd1asV"
      },
      "source": [
        "fig_exps = list(df['Figure'].values)"
      ],
      "execution_count": null,
      "outputs": []
    },
    {
      "cell_type": "code",
      "metadata": {
        "id": "N5vS-2DohwFg"
      },
      "source": [
        "Memory = {}\n",
        "Memory['Fact1'] = 'Area of Circle = pi * radius * radius'\n",
        "Memory['Fact2'] = 'Circumference of Circle = 2*pi*radius'\n",
        "Memory['Fact3'] = 'Area of Rectangle = length * width'\n",
        "Memory['Fact4'] = 'Perimeter of Rectangle = 2*(length + width)'\n",
        "Memory['Fact5'] = 'Slope of line = (y2-y1)/(x2-x1)'\n",
        "Memory['Fact6'] = 'Area of Triangle = (0.5*((x0*(y1-y2))+(x1*(y2-y0))+(x2*(y0-y1))'\n",
        "Memory['Fact7'] = 'Perimeter of Triangle = side1 + side2 + side3'\n",
        "Memory['Fact8'] = 'Minimum height of Triangle = (2*area)/base'\n",
        "Memory['Fact9'] = 'Area of Square = side * side'\n",
        "Memory['Fact10'] = 'Perimeter of Square = 4 * side'\n"
      ],
      "execution_count": null,
      "outputs": []
    },
    {
      "cell_type": "code",
      "metadata": {
        "colab": {
          "base_uri": "https://localhost:8080/"
        },
        "id": "UW80DKrKZtiN",
        "outputId": "1ef55393-150d-4ff7-fe37-d45b56c6a5b7"
      },
      "source": [
        "# Input: Word Problem\n",
        "input_exps[10:15]"
      ],
      "execution_count": null,
      "outputs": [
        {
          "output_type": "execute_result",
          "data": {
            "text/plain": [
              "['If area of this figure is 0.96 sq units. Calculate the radius of this figure?',\n",
              " 'If length and area of this figure are 8.38 units and 48.93 units respectively. What will be the width of this figure?',\n",
              " 'If the area of this figure are 86.08 and the minimum height is 0.36. What will be the corresponding base to the given minimum height of this figure?',\n",
              " 'The perimeter of the yard shown in figure is 8.91 feet. Find the side length of this yard.',\n",
              " 'One side of this figure is 72.7 inches and another is 23.71 inches.  How many inches long is its diagonal?']"
            ]
          },
          "metadata": {
            "tags": []
          },
          "execution_count": 93
        }
      ]
    },
    {
      "cell_type": "code",
      "metadata": {
        "id": "pRMqwHq_k7eH"
      },
      "source": [
        "# ip_questions[10:15]"
      ],
      "execution_count": null,
      "outputs": []
    },
    {
      "cell_type": "code",
      "metadata": {
        "colab": {
          "base_uri": "https://localhost:8080/"
        },
        "id": "giBg_pIAZw5t",
        "outputId": "b18557c8-ea6a-4ec3-b8af-25fa2bbb84a6"
      },
      "source": [
        "# Target: Equation\n",
        "target_exps[10:15]"
      ],
      "execution_count": null,
      "outputs": [
        {
          "output_type": "execute_result",
          "data": {
            "text/plain": [
              "['X = m a t h . s q r t ( 0 . 9 6 / 3 . 1 4 )',\n",
              " 'X = 4 8 . 9 3 / 8 . 3 8',\n",
              " 'X = ( 2 * 8 6 . 0 8 ) / 0 . 3 6',\n",
              " 'X = 8 . 9 1 / 4',\n",
              " 'X = m a t h . s q r t ( 5 2 8 5 . 2 9 + 5 6 2 . 1 6 4 1 0 0 0 0 0 0 0 0 1 )']"
            ]
          },
          "metadata": {
            "tags": []
          },
          "execution_count": 95
        }
      ]
    },
    {
      "cell_type": "code",
      "metadata": {
        "colab": {
          "base_uri": "https://localhost:8080/"
        },
        "id": "umUCGugn5htm",
        "outputId": "954b72ee-6a83-43e4-e451-ebf95c7caea1"
      },
      "source": [
        "# Figure: figure plot\n",
        "fig_exps[10:15]"
      ],
      "execution_count": null,
      "outputs": [
        {
          "output_type": "execute_result",
          "data": {
            "text/plain": [
              "['Geo_Figures\\\\plotcircleradius0.png',\n",
              " 'Geo_Figures\\\\plotrectangleswidth0.png',\n",
              " 'Geo_Figures\\\\plottrianglebase0.png',\n",
              " 'Geo_Figures\\\\plotsquareside0.png',\n",
              " 'Geo_Figures\\\\plotrectanglesdiag0.png']"
            ]
          },
          "metadata": {
            "tags": []
          },
          "execution_count": 96
        }
      ]
    },
    {
      "cell_type": "code",
      "metadata": {
        "colab": {
          "base_uri": "https://localhost:8080/",
          "height": 35
        },
        "id": "6ozvS0i_Ju-r",
        "outputId": "05ce3674-85d9-4fee-ef13-ec01dfba5e62"
      },
      "source": [
        "fig_exps[0]"
      ],
      "execution_count": null,
      "outputs": [
        {
          "output_type": "execute_result",
          "data": {
            "application/vnd.google.colaboratory.intrinsic+json": {
              "type": "string"
            },
            "text/plain": [
              "'Geo_Figures\\\\plotcirclesar0.png'"
            ]
          },
          "metadata": {
            "tags": []
          },
          "execution_count": 97
        }
      ]
    },
    {
      "cell_type": "code",
      "metadata": {
        "id": "hwKn3sFmlZpo"
      },
      "source": [
        "# equations_1[10:15]"
      ],
      "execution_count": null,
      "outputs": []
    },
    {
      "cell_type": "code",
      "metadata": {
        "colab": {
          "base_uri": "https://localhost:8080/"
        },
        "id": "4fyDXXPqZ1Jb",
        "outputId": "cd2ce781-c3ba-40ef-9cee-470b15ac791e"
      },
      "source": [
        "len(pd.Series(input_exps)), len(pd.Series(input_exps).unique())"
      ],
      "execution_count": null,
      "outputs": [
        {
          "output_type": "execute_result",
          "data": {
            "text/plain": [
              "(15999, 10870)"
            ]
          },
          "metadata": {
            "tags": []
          },
          "execution_count": 99
        }
      ]
    },
    {
      "cell_type": "code",
      "metadata": {
        "colab": {
          "base_uri": "https://localhost:8080/"
        },
        "id": "mwOdc1HPZ4Ql",
        "outputId": "0e6f6bc1-cc90-4417-c23d-f311c87c2727"
      },
      "source": [
        "len(pd.Series(target_exps)), len(pd.Series(target_exps).unique())"
      ],
      "execution_count": null,
      "outputs": [
        {
          "output_type": "execute_result",
          "data": {
            "text/plain": [
              "(15999, 10869)"
            ]
          },
          "metadata": {
            "tags": []
          },
          "execution_count": 100
        }
      ]
    },
    {
      "cell_type": "code",
      "metadata": {
        "colab": {
          "base_uri": "https://localhost:8080/"
        },
        "id": "_gyIf_FYaM4q",
        "outputId": "efc546d7-54a3-4930-b70f-a919589cd1a2"
      },
      "source": [
        "len(pd.Series(fig_exps)), len(pd.Series(fig_exps).unique())"
      ],
      "execution_count": null,
      "outputs": [
        {
          "output_type": "execute_result",
          "data": {
            "text/plain": [
              "(15999, 15999)"
            ]
          },
          "metadata": {
            "tags": []
          },
          "execution_count": 101
        }
      ]
    },
    {
      "cell_type": "code",
      "metadata": {
        "id": "G-M4sYfuZ-Sd"
      },
      "source": [
        "def preprocess_input(sentence):\n",
        "  '''\n",
        "  For the word problem, convert everything to lowercase, add spaces around all\n",
        "  punctuations and digits, and remove any extra spaces. \n",
        "  '''\n",
        "  sentence = sentence.lower().strip()\n",
        "  sentence = re.sub(r\"([?.!,’)*(])\", r\" \\1 \", sentence)\n",
        "  sentence = re.sub(r\"([0-9])\", r\" \\1 \", sentence)\n",
        "  sentence = re.sub(r'[\" \"]+', \" \", sentence)\n",
        "  sentence = sentence.rstrip().strip()\n",
        "  return '<start> ' + sentence + ' <end>'"
      ],
      "execution_count": null,
      "outputs": []
    },
    {
      "cell_type": "code",
      "metadata": {
        "id": "AQcXRA04aP9t"
      },
      "source": [
        "def preprocess_target(sentence):\n",
        "  '''\n",
        "  For the equation, convert it to lowercase and remove extra spaces\n",
        "  '''\n",
        "  sentence = sentence.lower().strip()\n",
        "  return '<start> ' + sentence + ' <end>'"
      ],
      "execution_count": null,
      "outputs": []
    },
    {
      "cell_type": "code",
      "metadata": {
        "id": "Hi1nGyYaavlH"
      },
      "source": [
        "preprocessed_input_exps = list(map(preprocess_input, input_exps))\n",
        "preprocessed_target_exps = list(map(preprocess_target, target_exps))"
      ],
      "execution_count": null,
      "outputs": []
    },
    {
      "cell_type": "code",
      "metadata": {
        "colab": {
          "base_uri": "https://localhost:8080/"
        },
        "id": "AZW1eCLga_45",
        "outputId": "b8dcea46-0b7c-472f-95d1-28447ab3f49c"
      },
      "source": [
        "preprocessed_input_exps[:5]"
      ],
      "execution_count": null,
      "outputs": [
        {
          "output_type": "execute_result",
          "data": {
            "text/plain": [
              "['<start> if radius of this figure is 0 . 4 5 units . what is the area of this figure ? <end>',\n",
              " '<start> if length of this figure is 3 7 . 1 7 units and width is 6 5 . 6 6 units . calculate the area of this figure ? <end>',\n",
              " '<start> if coordinates of this figure are ( 2 . 2 9 , 4 . 6 3 ) and ( 0 . 7 3 , 4 . 6 7 ) . what is the slope of this figure ? <end>',\n",
              " '<start> if the three sides of this figure are [ ( 6 . 1 2 , 1 . 2 4 ) , ( 1 . 8 9 , 9 . 9 2 ) , ( 6 . 8 6 , 6 . 2 1 ) ] . find the area of this figure ? <end>',\n",
              " '<start> length of a side of a of this figure is 7 . 0 7 units . measure the area of this figure ? <end>']"
            ]
          },
          "metadata": {
            "tags": []
          },
          "execution_count": 105
        }
      ]
    },
    {
      "cell_type": "code",
      "metadata": {
        "colab": {
          "base_uri": "https://localhost:8080/"
        },
        "id": "xZD0_pIcbCZp",
        "outputId": "ac2b70a0-8c58-47da-d285-686f0be0e47b"
      },
      "source": [
        "preprocessed_target_exps[:5]"
      ],
      "execution_count": null,
      "outputs": [
        {
          "output_type": "execute_result",
          "data": {
            "text/plain": [
              "['<start> x = 3 . 1 4 * 0 . 4 5 * 0 . 4 5 <end>',\n",
              " '<start> x = 3 7 . 1 7 * 6 5 . 6 6 <end>',\n",
              " '<start> x = ( 4 . 6 7 - 4 . 6 3 ) / ( 0 . 7 3 - 2 . 2 9 ) <end>',\n",
              " '<start> x = ( 0 . 5 * ( ( 6 . 1 2 * ( 9 . 9 2 - 6 . 2 1 ) ) + ( 1 . 8 9 * ( 6 . 2 1 - 1 . 2 4 ) ) + ( 6 . 8 6 * ( 1 . 2 4 - 9 . 9 2 ) ) <end>',\n",
              " '<start> x = 7 . 0 7 * 7 . 0 7 <end>']"
            ]
          },
          "metadata": {
            "tags": []
          },
          "execution_count": 107
        }
      ]
    },
    {
      "cell_type": "code",
      "metadata": {
        "id": "vx8CkRrcBBjX"
      },
      "source": [
        "Memory_exps = list(Memory.values())\n",
        "preprocessed_memory_exps = list(map(preprocess_input, Memory_exps))"
      ],
      "execution_count": null,
      "outputs": []
    },
    {
      "cell_type": "code",
      "metadata": {
        "colab": {
          "base_uri": "https://localhost:8080/"
        },
        "id": "XOm46ck9BCvv",
        "outputId": "3e8b39cf-6324-411a-c72b-00c84f74bbef"
      },
      "source": [
        "preprocessed_memory_exps[:5]"
      ],
      "execution_count": null,
      "outputs": [
        {
          "output_type": "execute_result",
          "data": {
            "text/plain": [
              "['<start> area of circle = pi * radius * radius <end>',\n",
              " '<start> circumference of circle = 2 * pi * radius <end>',\n",
              " '<start> area of rectangle = length * width <end>',\n",
              " '<start> perimeter of rectangle = 2 * ( length + width ) <end>',\n",
              " '<start> slope of line = ( y 2 -y 1 ) / ( x 2 -x 1 ) <end>']"
            ]
          },
          "metadata": {
            "tags": []
          },
          "execution_count": 110
        }
      ]
    },
    {
      "cell_type": "code",
      "metadata": {
        "id": "pSxfz4W2bIQ1"
      },
      "source": [
        "def tokenize(lang):\n",
        "  '''\n",
        "  Tokenize the given list of strings and return the tokenized output\n",
        "  along with the fitted tokenizer.\n",
        "  '''\n",
        "  lang_tokenizer = tf.keras.preprocessing.text.Tokenizer(filters='')\n",
        "  lang_tokenizer.fit_on_texts(lang)\n",
        "  tensor = lang_tokenizer.texts_to_sequences(lang)\n",
        "  tensor = tf.keras.preprocessing.sequence.pad_sequences(tensor, padding='post')\n",
        "\n",
        "  return tensor, lang_tokenizer"
      ],
      "execution_count": null,
      "outputs": []
    },
    {
      "cell_type": "code",
      "metadata": {
        "id": "qVw7yVX1bL5h"
      },
      "source": [
        "input_tensor, inp_lang_tokenizer = tokenize(preprocessed_input_exps)"
      ],
      "execution_count": null,
      "outputs": []
    },
    {
      "cell_type": "code",
      "metadata": {
        "colab": {
          "base_uri": "https://localhost:8080/"
        },
        "id": "azEgUbcrbOay",
        "outputId": "ebaf5a3d-d835-43c7-dc22-0196badd7e43"
      },
      "source": [
        "len(inp_lang_tokenizer.word_index)"
      ],
      "execution_count": null,
      "outputs": [
        {
          "output_type": "execute_result",
          "data": {
            "text/plain": [
              "71"
            ]
          },
          "metadata": {
            "tags": []
          },
          "execution_count": 113
        }
      ]
    },
    {
      "cell_type": "code",
      "metadata": {
        "colab": {
          "base_uri": "https://localhost:8080/"
        },
        "id": "wHYWqR49bQ89",
        "outputId": "33382518-e587-4e36-83f2-e88d63093b36"
      },
      "source": [
        "input_tensor"
      ],
      "execution_count": null,
      "outputs": [
        {
          "output_type": "execute_result",
          "data": {
            "text/plain": [
              "array([[ 8, 20, 33, ...,  0,  0,  0],\n",
              "       [ 8, 20, 29, ...,  0,  0,  0],\n",
              "       [ 8, 20, 53, ...,  0,  0,  0],\n",
              "       ...,\n",
              "       [ 8,  5, 32, ...,  0,  0,  0],\n",
              "       [ 8, 48, 38, ...,  0,  0,  0],\n",
              "       [ 8, 20, 45, ...,  0,  0,  0]], dtype=int32)"
            ]
          },
          "metadata": {
            "tags": []
          },
          "execution_count": 114
        }
      ]
    },
    {
      "cell_type": "code",
      "metadata": {
        "id": "ItBARXwybW8C"
      },
      "source": [
        "target_tensor, targ_lang_tokenizer = tokenize(preprocessed_target_exps)"
      ],
      "execution_count": null,
      "outputs": []
    },
    {
      "cell_type": "code",
      "metadata": {
        "colab": {
          "base_uri": "https://localhost:8080/"
        },
        "id": "3U4MKzdqbY8h",
        "outputId": "68a5f935-aed6-41b7-bd9f-efdfaecd748e"
      },
      "source": [
        "len(targ_lang_tokenizer.word_index)"
      ],
      "execution_count": null,
      "outputs": [
        {
          "output_type": "execute_result",
          "data": {
            "text/plain": [
              "28"
            ]
          },
          "metadata": {
            "tags": []
          },
          "execution_count": 116
        }
      ]
    },
    {
      "cell_type": "code",
      "metadata": {
        "colab": {
          "base_uri": "https://localhost:8080/"
        },
        "id": "SWFG2Wl1bbiv",
        "outputId": "e3592b62-608e-4577-bac7-2a42ef9559b7"
      },
      "source": [
        "target_tensor"
      ],
      "execution_count": null,
      "outputs": [
        {
          "output_type": "execute_result",
          "data": {
            "text/plain": [
              "array([[ 8,  9, 10, ...,  0,  0,  0],\n",
              "       [ 8,  9, 10, ...,  0,  0,  0],\n",
              "       [ 8,  9, 10, ...,  0,  0,  0],\n",
              "       ...,\n",
              "       [ 8,  9, 10, ...,  0,  0,  0],\n",
              "       [ 8,  9, 10, ...,  0,  0,  0],\n",
              "       [ 8,  9, 10, ...,  0,  0,  0]], dtype=int32)"
            ]
          },
          "metadata": {
            "tags": []
          },
          "execution_count": 117
        }
      ]
    },
    {
      "cell_type": "code",
      "metadata": {
        "id": "dxUoWd7xbf0G"
      },
      "source": [
        "# Creating training and validation sets\n",
        "input_tensor_train, input_tensor_val, target_tensor_train, target_tensor_val = train_test_split(input_tensor,target_tensor,test_size=0.05,random_state=42)                                                                                               "
      ],
      "execution_count": null,
      "outputs": []
    },
    {
      "cell_type": "code",
      "metadata": {
        "colab": {
          "base_uri": "https://localhost:8080/"
        },
        "id": "AOZKhWs-bu2O",
        "outputId": "dc1d3556-e25a-42a7-bbf2-064ce33b2c0a"
      },
      "source": [
        "len(input_tensor_train)"
      ],
      "execution_count": null,
      "outputs": [
        {
          "output_type": "execute_result",
          "data": {
            "text/plain": [
              "15199"
            ]
          },
          "metadata": {
            "tags": []
          },
          "execution_count": 119
        }
      ]
    },
    {
      "cell_type": "code",
      "metadata": {
        "colab": {
          "base_uri": "https://localhost:8080/"
        },
        "id": "YDGkILVYGD4Z",
        "outputId": "4608389a-4087-4b13-a449-dd8a27b4cf7d"
      },
      "source": [
        "len(input_tensor_train[0])"
      ],
      "execution_count": null,
      "outputs": [
        {
          "output_type": "execute_result",
          "data": {
            "text/plain": [
              "87"
            ]
          },
          "metadata": {
            "tags": []
          },
          "execution_count": 120
        }
      ]
    },
    {
      "cell_type": "code",
      "metadata": {
        "id": "7Tlsh4aKmxVj"
      },
      "source": [
        "# len(ip_questions_train)"
      ],
      "execution_count": null,
      "outputs": []
    },
    {
      "cell_type": "code",
      "metadata": {
        "colab": {
          "base_uri": "https://localhost:8080/"
        },
        "id": "Sz3N9tHjbyhB",
        "outputId": "5c41542c-4cc9-42d1-833f-ce67b3274e9f"
      },
      "source": [
        "len(input_tensor_val)"
      ],
      "execution_count": null,
      "outputs": [
        {
          "output_type": "execute_result",
          "data": {
            "text/plain": [
              "800"
            ]
          },
          "metadata": {
            "tags": []
          },
          "execution_count": 122
        }
      ]
    },
    {
      "cell_type": "code",
      "metadata": {
        "colab": {
          "base_uri": "https://localhost:8080/"
        },
        "id": "ZzOm4PqIoifT",
        "outputId": "9f4fba9a-46d9-46f4-a1b3-cbfbc47411b8"
      },
      "source": [
        "print(\"train_data: \",len(input_tensor_train))\n",
        "print(\"val_data: \",len(input_tensor_val))"
      ],
      "execution_count": null,
      "outputs": [
        {
          "output_type": "stream",
          "text": [
            "train_data:  15199\n",
            "val_data:  800\n"
          ],
          "name": "stdout"
        }
      ]
    },
    {
      "cell_type": "code",
      "metadata": {
        "id": "1ootY4_db1NH"
      },
      "source": [
        "BUFFER_SIZE = len(input_tensor_train)\n",
        "BATCH_SIZE = 64\n",
        "steps_per_epoch = len(input_tensor_train)//BATCH_SIZE\n",
        "embedding_dim = 32\n",
        "units = 256\n",
        "vocab_inp_size = len(inp_lang_tokenizer.word_index)+1\n",
        "vocab_tar_size = len(targ_lang_tokenizer.word_index)+1\n",
        "dropout = 0.25\n",
        "dataset = tf.data.Dataset.from_tensor_slices((input_tensor_train, target_tensor_train)).shuffle(BUFFER_SIZE)\n",
        "dataset = dataset.batch(BATCH_SIZE, drop_remainder=True)"
      ],
      "execution_count": null,
      "outputs": []
    },
    {
      "cell_type": "code",
      "metadata": {
        "colab": {
          "base_uri": "https://localhost:8080/"
        },
        "id": "2JxRFU3EcScl",
        "outputId": "1926e564-b37b-4d8b-87a3-7e7996bdf726"
      },
      "source": [
        "vocab_inp_size, vocab_tar_size"
      ],
      "execution_count": null,
      "outputs": [
        {
          "output_type": "execute_result",
          "data": {
            "text/plain": [
              "(72, 29)"
            ]
          },
          "metadata": {
            "tags": []
          },
          "execution_count": 125
        }
      ]
    },
    {
      "cell_type": "code",
      "metadata": {
        "colab": {
          "base_uri": "https://localhost:8080/"
        },
        "id": "WnFKf6xPoTLI",
        "outputId": "d85130c6-e3c8-4d4b-df70-1d22ffd5527a"
      },
      "source": [
        "\n",
        "from nltk.corpus import stopwords\n",
        "from nltk.tokenize import word_tokenize\n",
        "import nltk\n",
        "nltk.download('punkt')\n",
        "nltk.download('stopwords')\n",
        "\n",
        "def similarity_function(initial_X,preprocessed_memory_exps):\n",
        "\n",
        "  initial_X = initial_X\n",
        "  initial_Y = preprocessed_memory_exps\n",
        "\n",
        "  Relevant_match = {}\n",
        "\n",
        "  for i in range(len(initial_X)):\n",
        "    num = 1\n",
        "    X = initial_X[i]\n",
        "    for j in range(len(initial_Y)):\n",
        "        \n",
        "        Y = initial_Y[j]\n",
        "        # tokenization of input sequence\n",
        "        X_list = word_tokenize(X)\n",
        "        Y_list = word_tokenize(Y)\n",
        "\n",
        "        # sw contains the list of stopwords\n",
        "        sw = stopwords.words('english')\n",
        "        l1 =[];l2 =[]\n",
        "\n",
        "        # remove stop words from the string\n",
        "        X_set = {w for w in X_list if not w in sw}\n",
        "        Y_set = {w for w in Y_list if not w in sw}\n",
        "\n",
        "        # form a set containing keywords of both strings\n",
        "        rvector = X_set.union(Y_set)\n",
        "        # print(\"rvector= \",rvector)\n",
        "        for w in rvector:\n",
        "\t          if w in X_set: l1.append(1) # create a vector\n",
        "\t          else: l1.append(0)\n",
        "\t          if w in Y_set: l2.append(1)\n",
        "\t          else: l2.append(0)\n",
        "        c = 0\n",
        "        # cosine formula\n",
        "        for i in range(len(rvector)):\n",
        "\t\t        c+= l1[i]*l2[i]\n",
        "\n",
        "        cosine = c / float((sum(l1)*sum(l2))**0.5)\n",
        "        if cosine > 0.1 and X in Relevant_match:\n",
        "            Relevant_match[X].append([Y,cosine]) \n",
        "            num += 1\n",
        "        elif cosine > 0.1:\n",
        "            Relevant_match[X] = [[Y,cosine]]\n",
        "            num += 1\n",
        "  return Relevant_match"
      ],
      "execution_count": null,
      "outputs": [
        {
          "output_type": "stream",
          "text": [
            "[nltk_data] Downloading package punkt to /root/nltk_data...\n",
            "[nltk_data]   Package punkt is already up-to-date!\n",
            "[nltk_data] Downloading package stopwords to /root/nltk_data...\n",
            "[nltk_data]   Package stopwords is already up-to-date!\n"
          ],
          "name": "stdout"
        }
      ]
    },
    {
      "cell_type": "code",
      "metadata": {
        "colab": {
          "base_uri": "https://localhost:8080/"
        },
        "id": "MA6T4MhhcVHw",
        "outputId": "cfa74f34-386a-4d27-d147-a5143d3a58fe"
      },
      "source": [
        "example_input_batch, example_target_batch = next(iter(dataset))\n",
        "example_input_batch.shape, example_target_batch.shape"
      ],
      "execution_count": null,
      "outputs": [
        {
          "output_type": "execute_result",
          "data": {
            "text/plain": [
              "(TensorShape([64, 87]), TensorShape([64, 66]))"
            ]
          },
          "metadata": {
            "tags": []
          },
          "execution_count": 134
        }
      ]
    },
    {
      "cell_type": "code",
      "metadata": {
        "id": "wPWwMNz0cYU0"
      },
      "source": [
        "class Encoder(tf.keras.Model):\n",
        "  def __init__(self, vocab_size, embedding_dim, enc_units, batch_sz, dropout):\n",
        "    super(Encoder, self).__init__()\n",
        "    self.batch_sz = batch_sz\n",
        "    \n",
        "    self.enc_units = enc_units\n",
        "    self.embedding = tf.keras.layers.Embedding(vocab_size, embedding_dim)\n",
        "    \n",
        "    # Bidirectional GRU Unit\n",
        "    self.gru = tf.keras.layers.Bidirectional(tf.keras.layers.GRU(self.enc_units,\n",
        "                                   return_sequences=True,\n",
        "                                   return_state=True,\n",
        "                                   recurrent_initializer='glorot_uniform',\n",
        "                                   dropout = dropout))\n",
        "\n",
        "  def call(self, x, hidden):\n",
        "    x = self.embedding(x)\n",
        "    output, state1, state2 = self.gru(x, initial_state = hidden)\n",
        "    state = [state1,state2]\n",
        "    return output, state\n",
        "\n",
        "  def initialize_hidden_state(self):\n",
        "    return [tf.zeros((self.batch_sz, self.enc_units)),tf.zeros((self.batch_sz, self.enc_units))]"
      ],
      "execution_count": null,
      "outputs": []
    },
    {
      "cell_type": "code",
      "metadata": {
        "id": "a3-bBTzmccjQ"
      },
      "source": [
        "encoder = Encoder(vocab_inp_size, embedding_dim, units, BATCH_SIZE, dropout)"
      ],
      "execution_count": null,
      "outputs": []
    },
    {
      "cell_type": "code",
      "metadata": {
        "id": "KrxD1-HYcoFT"
      },
      "source": [
        "class BahdanauAttention(tf.keras.layers.Layer):\n",
        "  def __init__(self, units):\n",
        "    super(BahdanauAttention, self).__init__()\n",
        "    self.W1 = tf.keras.layers.Dense(units)\n",
        "    self.W2 = tf.keras.layers.Dense(units)\n",
        "    self.V = tf.keras.layers.Dense(1)\n",
        "\n",
        "  def call(self, query, values):\n",
        "    \n",
        "    # we are doing this to perform addition to calculate the score\n",
        "    hidden_with_time_axis = tf.expand_dims(query, 1)\n",
        "\n",
        "    score = self.V(tf.nn.tanh(\n",
        "        self.W1(values) + self.W2(hidden_with_time_axis)))\n",
        "\n",
        "    # Get attention_weights\n",
        "    attention_weights = tf.nn.softmax(score, axis=1)\n",
        "\n",
        "    context_vector = attention_weights * values\n",
        "    context_vector = tf.reduce_sum(context_vector, axis=1)\n",
        "\n",
        "    return context_vector, attention_weights"
      ],
      "execution_count": null,
      "outputs": []
    },
    {
      "cell_type": "code",
      "metadata": {
        "id": "hCvsdli9csHK"
      },
      "source": [
        "attention_layer = BahdanauAttention(100)"
      ],
      "execution_count": null,
      "outputs": []
    },
    {
      "cell_type": "code",
      "metadata": {
        "id": "IHPmqY-qcwsj"
      },
      "source": [
        "class Decoder(tf.keras.Model):\n",
        "  def __init__(self, vocab_size, embedding_dim, dec_units, batch_sz):\n",
        "    super(Decoder, self).__init__()\n",
        "    self.batch_sz = batch_sz\n",
        "    self.dec_units = dec_units\n",
        "    self.embedding = tf.keras.layers.Embedding(vocab_size, embedding_dim)\n",
        "\n",
        "    #LSTM Unit\n",
        "    self.lstm = tf.keras.layers.LSTM(self.dec_units,\n",
        "                                   return_sequences=True,\n",
        "                                   return_state=True,\n",
        "                                   recurrent_initializer='glorot_uniform')\n",
        "    self.fc = tf.keras.layers.Dense(vocab_size)\n",
        "\n",
        "    # used for attention\n",
        "    self.attention = BahdanauAttention(self.dec_units)\n",
        "\n",
        "  def call(self, x, hidden, enc_output):\n",
        "    context_vector, attention_weights = self.attention(hidden, enc_output)\n",
        "\n",
        "    x = self.embedding(x)\n",
        "    \n",
        "    x = tf.concat([tf.expand_dims(context_vector, 1), x], axis=-1)\n",
        "\n",
        "    # passing the concatenated vector to the LSTM\n",
        "    output, state, cell_state = self.lstm(x)\n",
        "\n",
        "    output = tf.reshape(output, (-1, output.shape[2]))\n",
        "\n",
        "    x = self.fc(output)\n",
        "\n",
        "    return x, state, attention_weights"
      ],
      "execution_count": null,
      "outputs": []
    },
    {
      "cell_type": "code",
      "metadata": {
        "id": "GMVQszsxdD_S"
      },
      "source": [
        "decoder = Decoder(vocab_tar_size, embedding_dim, units, BATCH_SIZE)"
      ],
      "execution_count": null,
      "outputs": []
    },
    {
      "cell_type": "code",
      "metadata": {
        "id": "aXcNaPrkdIIN",
        "colab": {
          "base_uri": "https://localhost:8080/"
        },
        "outputId": "b4bf336c-0e97-4648-cd2c-138c481c0094"
      },
      "source": [
        "optimizer = tf.keras.optimizers.Adam(lr=0.001)\n",
        "loss_object = tf.keras.losses.SparseCategoricalCrossentropy(\n",
        "    from_logits=True, reduction='none')\n",
        "\n",
        "def loss_function(real, pred):\n",
        "  # Apply a mask to paddings (0)\n",
        "  mask = tf.math.logical_not(tf.math.equal(real, 0))\n",
        "  loss_ = loss_object(real, pred)\n",
        "\n",
        "  mask = tf.cast(mask, dtype=loss_.dtype)\n",
        "  loss_ *= mask\n",
        "\n",
        "  return tf.reduce_mean(loss_)"
      ],
      "execution_count": null,
      "outputs": [
        {
          "output_type": "stream",
          "text": [
            "/usr/local/lib/python3.7/dist-packages/tensorflow/python/keras/optimizer_v2/optimizer_v2.py:375: UserWarning: The `lr` argument is deprecated, use `learning_rate` instead.\n",
            "  \"The `lr` argument is deprecated, use `learning_rate` instead.\")\n"
          ],
          "name": "stderr"
        }
      ]
    },
    {
      "cell_type": "code",
      "metadata": {
        "id": "pNITXsd4zb6N"
      },
      "source": [
        "drive_root = \"drive/MyDrive\""
      ],
      "execution_count": null,
      "outputs": []
    },
    {
      "cell_type": "code",
      "metadata": {
        "id": "7n1gWzR3eiPM"
      },
      "source": [
        "checkpoint_dir = os.path.join(drive_root, \"Geo_Model/checkpoints\")\n",
        "checkpoint_dir = os.path.join(checkpoint_dir, \"MWPs/Geo\")\n",
        "\n",
        "print(\"Directory of checkpoints is\", checkpoint_dir)\n",
        "if os.path.exists(checkpoint_dir):\n",
        "  print(\"Checkpoints directory already exists\")\n",
        "else:\n",
        "  print(\"Creating a checkpoints directory\")\n",
        "  os.makedirs(checkpoint_dir)\n",
        "\n",
        "\n",
        "checkpoint_prefix = os.path.join(checkpoint_dir, \"ckpt\")\n",
        "checkpoint = tf.train.Checkpoint(optimizer=optimizer,\n",
        "                                 encoder=encoder,\n",
        "                                 decoder=decoder)"
      ],
      "execution_count": null,
      "outputs": []
    },
    {
      "cell_type": "code",
      "metadata": {
        "id": "_AG7POMCemZN"
      },
      "source": [
        "latest = tf.train.latest_checkpoint(checkpoint_dir)\n",
        "latest"
      ],
      "execution_count": null,
      "outputs": []
    },
    {
      "cell_type": "code",
      "metadata": {
        "id": "yyIgG9s_k4OK"
      },
      "source": [
        "if latest:\n",
        "  epoch_num = int(latest.split('/')[-1].split('-')[-1])\n",
        "  checkpoint.restore(latest)\n",
        "else:\n",
        "  epoch_num = 0"
      ],
      "execution_count": null,
      "outputs": []
    },
    {
      "cell_type": "code",
      "metadata": {
        "colab": {
          "base_uri": "https://localhost:8080/"
        },
        "id": "BIGw3Ml8k-SU",
        "outputId": "def4aae5-1fcd-4037-9516-31f22a3abe47"
      },
      "source": [
        "epoch_num"
      ],
      "execution_count": null,
      "outputs": [
        {
          "output_type": "execute_result",
          "data": {
            "text/plain": [
              "30"
            ]
          },
          "metadata": {
            "tags": []
          },
          "execution_count": 146
        }
      ]
    },
    {
      "cell_type": "code",
      "metadata": {
        "id": "TXB4jxiJdPno"
      },
      "source": [
        "@tf.function\n",
        "def train_step(inp, targ, enc_hidden):\n",
        "  loss = 0\n",
        "  Relevant_match = similarity_function(preprocessed_input_exps,preprocessed_memory_exps)\n",
        "  # print(Relevant_match)\n",
        "  with tf.GradientTape() as tape:\n",
        "\n",
        "    enc_output, enc_hidden = encoder(inp, enc_hidden)\n",
        "    print(enc_output.shape)\n",
        "    print(len(enc_hidden))\n",
        "    print(enc_hidden[0].shape)\n",
        "    dec_hidden = enc_hidden[0]\n",
        "\n",
        "    dec_input = tf.expand_dims([targ_lang_tokenizer.word_index['<start>']] * BATCH_SIZE, 1)\n",
        "\n",
        "    # Teacher forcing - feeding the target as the next input, to ensure proper training\n",
        "    for t in range(1, targ.shape[1]):\n",
        "      # passing enc_output to the decoder\n",
        "      predictions, dec_hidden, _ = decoder(dec_input, dec_hidden, enc_output)\n",
        "\n",
        "      loss += loss_function(targ[:, t], predictions)\n",
        "\n",
        "      # using teacher forcing\n",
        "      dec_input = tf.expand_dims(targ[:, t], 1)\n",
        "\n",
        "  batch_loss = (loss / int(targ.shape[1]))\n",
        "\n",
        "  variables = encoder.trainable_variables + decoder.trainable_variables\n",
        "\n",
        "  gradients = tape.gradient(loss, variables)\n",
        "\n",
        "  optimizer.apply_gradients(zip(gradients, variables))\n",
        "\n",
        "  return batch_loss"
      ],
      "execution_count": null,
      "outputs": []
    },
    {
      "cell_type": "code",
      "metadata": {
        "id": "rk4x1pHFddA_"
      },
      "source": [
        "EPOCHS = 15\n",
        "\n",
        "for epoch in range(epoch_num, EPOCHS):\n",
        "  start = time.time()\n",
        "\n",
        "  enc_hidden = encoder.initialize_hidden_state()\n",
        "  total_loss = 0\n",
        "\n",
        "  for (batch, (inp, targ)) in enumerate(dataset.take(steps_per_epoch)):\n",
        "    batch_loss = train_step(inp, targ, enc_hidden)\n",
        "    total_loss += batch_loss\n",
        "\n",
        "    if batch % 100 == 0:\n",
        "        print('Epoch {} Batch {} Loss {:.4f}'.format(epoch + 1,\n",
        "                                                     batch,\n",
        "                                                     batch_loss.numpy()))\n",
        "  checkpoint.save(file_prefix = checkpoint_prefix)\n",
        "  print('Saved epoch: {} at {}'.format(epoch+1, checkpoint_dir))\n",
        "\n",
        "  print('Epoch {} Loss {:.4f}'.format(epoch + 1,\n",
        "                                      total_loss / steps_per_epoch))\n",
        "  print('Time taken for 1 epoch {} sec\\n'.format(time.time() - start))"
      ],
      "execution_count": null,
      "outputs": []
    },
    {
      "cell_type": "code",
      "metadata": {
        "id": "tlvKCcmPlGV2"
      },
      "source": [
        "def max_length(tensor):\n",
        "    return max(len(t) for t in tensor)"
      ],
      "execution_count": null,
      "outputs": []
    },
    {
      "cell_type": "code",
      "metadata": {
        "id": "BYvTzEH6lKlu"
      },
      "source": [
        "max_length_targ, max_length_inp = max_length(target_tensor), max_length(input_tensor)"
      ],
      "execution_count": null,
      "outputs": []
    },
    {
      "cell_type": "code",
      "metadata": {
        "id": "JBiJNGi2oaMb"
      },
      "source": [
        "def evaluate(sentence):\n",
        "    attention_plot = np.zeros((max_length_targ, max_length_inp))\n",
        "\n",
        "    # Preprocess the input\n",
        "    sentence = preprocess_input(sentence)\n",
        "\n",
        "    inputs = [inp_lang_tokenizer.word_index[i] for i in sentence.split(' ')]\n",
        "    inputs = tf.keras.preprocessing.sequence.pad_sequences([inputs],\n",
        "                                                           maxlen=max_length_inp,\n",
        "                                                           padding='post')\n",
        "    inputs = tf.convert_to_tensor(inputs)\n",
        "    \n",
        "    result = ''\n",
        "\n",
        "    hidden = [tf.zeros((1, units)),tf.zeros((1, units))]\n",
        "    enc_out, enc_hidden = encoder(inputs, hidden)\n",
        "\n",
        "    dec_hidden = enc_hidden[0]\n",
        "    dec_input = tf.expand_dims([targ_lang_tokenizer.word_index['<start>']], 0)\n",
        "\n",
        "    for t in range(max_length_targ):\n",
        "        predictions, dec_hidden, attention_weights = decoder(dec_input,\n",
        "                                                             dec_hidden,\n",
        "                                                             enc_out)\n",
        "\n",
        "        # storing the attention weights to plot later on\n",
        "        attention_weights = tf.reshape(attention_weights, (-1, ))\n",
        "        attention_plot[t] = attention_weights.numpy()\n",
        "\n",
        "        predicted_id = tf.argmax(predictions[0]).numpy()\n",
        "\n",
        "        result += targ_lang_tokenizer.index_word[predicted_id] + ' '\n",
        "\n",
        "        if targ_lang_tokenizer.index_word[predicted_id] == '<end>':\n",
        "            return result, sentence, attention_plot\n",
        "\n",
        "        # the predicted ID is fed back into the model\n",
        "        dec_input = tf.expand_dims([predicted_id], 0)\n",
        "\n",
        "    return result, sentence, attention_plot"
      ],
      "execution_count": null,
      "outputs": []
    },
    {
      "cell_type": "code",
      "metadata": {
        "id": "UgDQ0qkvoeFX"
      },
      "source": [
        "# function for plotting the attention weights\n",
        "def plot_attention(attention, sentence, predicted_sentence):\n",
        "    fig = plt.figure(figsize=(10,10))\n",
        "    ax = fig.add_subplot(1, 1, 1)\n",
        "    ax.matshow(attention, cmap='viridis')\n",
        "\n",
        "    fontdict = {'fontsize': 14}\n",
        "\n",
        "    ax.set_xticklabels([''] + sentence, fontdict=fontdict, rotation=90)\n",
        "    ax.set_yticklabels([''] + predicted_sentence, fontdict=fontdict)\n",
        "\n",
        "    ax.xaxis.set_major_locator(ticker.MultipleLocator(1))\n",
        "    ax.yaxis.set_major_locator(ticker.MultipleLocator(1))\n",
        "\n",
        "    plt.show()\n",
        "    "
      ],
      "execution_count": null,
      "outputs": []
    },
    {
      "cell_type": "code",
      "metadata": {
        "id": "Y_g9oDMKncxj"
      },
      "source": [
        "import cv2\n",
        "import numpy as np\n",
        "from matplotlib import pyplot as plt\n",
        "\n",
        "def detect_shape(figure):\n",
        "\n",
        "  # Load image, grayscale, Otsu's threshold\n",
        "  image = cv2.imread(figure)\n",
        "  gray = cv2.cvtColor(image, cv2.COLOR_BGR2GRAY)\n",
        "  thresh = cv2.threshold(gray, 0, 255, cv2.THRESH_BINARY_INV + cv2.THRESH_OTSU)[1]\n",
        "\n",
        "  # Find contours and perform contour approximation\n",
        "  cnts = cv2.findContours(thresh, cv2.RETR_EXTERNAL, cv2.CHAIN_APPROX_SIMPLE)\n",
        "  cnts = cnts[0] if len(cnts) == 2 else cnts[1]\n",
        "  for c in cnts:\n",
        "    peri = cv2.arcLength(c, True)\n",
        "    approx = cv2.approxPolyDP(c, 0.03 * peri, True)\n",
        "    # print(len(approx))\n",
        "\n",
        "  if len(approx) == 3:\n",
        "    shape = 'Triangle'\n",
        "\n",
        "  elif len(approx) == 4:\n",
        "    shape = 'Rectangle'\n",
        "  else:\n",
        "    shape = 'circle'\n",
        "  return shape"
      ],
      "execution_count": null,
      "outputs": []
    },
    {
      "cell_type": "code",
      "metadata": {
        "id": "YEjpxwQG9tnu"
      },
      "source": [
        "def score_function(sentence,shape):\n",
        "    b = list(sentence.split(\" \"))\n",
        "    # print(b)\n",
        "    score = 0\n",
        "    for i in b:\n",
        "        #     print(i)\n",
        "        \n",
        "        if i == 'length' and shape == \"Rectangle\":\n",
        "            score = 1\n",
        "            break   \n",
        "        elif i == 'side' and shape == \"Rectangle\":\n",
        "            score = 1\n",
        "        elif shape == \"circle\" and i in ['radius','diameter']:\n",
        "            score = 1\n",
        "            break\n",
        "        elif i == \"coordinates\":\n",
        "            score = 1\n",
        "            break\n",
        "        elif i == \"sides\" and shape == \"triangle\":\n",
        "            score = 1\n",
        "            break\n",
        "        elif i == \"height\" and shape == \"triangle\":\n",
        "            score = 1\n",
        "            break \n",
        "        \n",
        "    return score"
      ],
      "execution_count": null,
      "outputs": []
    },
    {
      "cell_type": "code",
      "metadata": {
        "id": "TwxsC8KtxVQM",
        "colab": {
          "base_uri": "https://localhost:8080/"
        },
        "outputId": "6b8567ea-dcc5-4643-8250-2e3e6f911adf"
      },
      "source": [
        "c = score_function(sentence = \"If the area of this figure is 24 sq units and the minimum height is 8 units. What will be the corresponding base to the given minimum height of this figure?\",shape ='triangle')\n",
        "print(c)"
      ],
      "execution_count": null,
      "outputs": [
        {
          "output_type": "stream",
          "text": [
            "1\n"
          ],
          "name": "stdout"
        }
      ]
    },
    {
      "cell_type": "code",
      "metadata": {
        "id": "WCoxwB0IoiEv"
      },
      "source": [
        "# importing required libraries\n",
        "import matplotlib.pyplot as plt\n",
        "import matplotlib.image as img\n",
        "\n",
        "def translate(sentence,figure):\n",
        "    result_shape = detect_shape(figure)\n",
        "    result_score = score_function(sentence,result_shape)\n",
        "    result, sentence, attention_plot = evaluate(sentence)\n",
        "    print(\"Score: \",result_score)\n",
        "\n",
        "    memory_network = [\n",
        "'Area of Circle = pi * radius * radius',\n",
        "'Circumference of Circle = 2*pi*radius',\n",
        "'Area of Rectangle = length * width',\n",
        "'Perimeter of Rectangle = 2*(length + width)',\n",
        "'slope of line = (y2-y1)/(x2-x1)',\n",
        "'Area of Triangle = (0.5*((x0*(y1-y2))+(x1*(y2-y0))+(x2*(y0-y1))',\n",
        "'Perimeter of Triangle = side1 + side2 + side3',\n",
        "'Minimum height of Triangle = (2*area)/base',\n",
        "'Area of Square = side * side',\n",
        "'Perimeter of Square = 4 * side']\n",
        "\n",
        "    \n",
        "    \n",
        "    # reading the image\n",
        "    testImage = img.imread(figure)\n",
        "\n",
        "    if result_score == 1:\n",
        "      print('Input: %s' % (sentence))\n",
        "      \n",
        "      # displaying the image\n",
        "      plt.imshow(testImage)\n",
        "\n",
        "      # fact from memory network\n",
        "      sentence_list=[sentence]\n",
        "      a = similarity_function(sentence_list,memory_network)\n",
        "      Keymax = max(a, key=a.get)\n",
        "      z = a[Keymax]\n",
        "      highest = z[0][1]\n",
        "      fact_used = z[0]\n",
        "      for i in range(len(z)):\n",
        "        if highest < z[i][1]:\n",
        "          highest = z[i][1]\n",
        "          fact_used = z[i]    \n",
        "      print(\"Fact used from memory network: \",fact_used)\n",
        "      print()\n",
        "     \n",
        "      print('Predicted translation: {}'.format(result))\n",
        "      print()\n",
        "      \n",
        "      attention_plot = attention_plot[:len(result.split(' ')), :len(sentence.split(' '))]\n",
        "      plot_attention(attention_plot, sentence.split(' '), result.split(' '))\n",
        "\n",
        "    elif result_score == 0:\n",
        "      print('Input: %s' % (sentence))\n",
        "      print(\"Input figure is not valid\")\n",
        "    plt.close()"
      ],
      "execution_count": null,
      "outputs": []
    },
    {
      "cell_type": "code",
      "metadata": {
        "id": "Kvj_wI4JovnC",
        "colab": {
          "base_uri": "https://localhost:8080/"
        },
        "outputId": "4bf787bd-134a-4d38-c91c-55c6687d8494"
      },
      "source": [
        "# restoring the latest checkpoint in checkpoint_dir\n",
        "checkpoint.restore(tf.train.latest_checkpoint(checkpoint_dir))"
      ],
      "execution_count": null,
      "outputs": [
        {
          "output_type": "execute_result",
          "data": {
            "text/plain": [
              "<tensorflow.python.training.tracking.util.CheckpointLoadStatus at 0x7f192df82f90>"
            ]
          },
          "metadata": {
            "tags": []
          },
          "execution_count": 163
        }
      ]
    },
    {
      "cell_type": "code",
      "metadata": {
        "id": "0gsKck2ioyOS"
      },
      "source": [
        "def evaluate_accuracy(inputs):\n",
        "    attention_plot = np.zeros((max_length_targ, max_length_inp))\n",
        "    sentence = ''\n",
        "    for i in range(len(inputs.numpy()[0])):\n",
        "      if inputs.numpy()[0][i] != 0: #padding token\n",
        "        sentence += inp_lang_tokenizer.index_word[inputs.numpy()[0][i]] + ' '\n",
        "\n",
        "    inputs = tf.convert_to_tensor(inputs)\n",
        "    \n",
        "    result = ''\n",
        "    result_seq = ''\n",
        "    \n",
        "    hidden = [tf.zeros((1, units)),tf.zeros((1, units))]\n",
        "    enc_out, enc_hidden = encoder(inputs, hidden)\n",
        "    \n",
        "    dec_hidden = enc_hidden[0]\n",
        "    dec_input = tf.expand_dims([targ_lang_tokenizer.word_index['<start>']], 0)\n",
        "    \n",
        "    for t in range(max_length_targ):\n",
        "        predictions, dec_hidden, attention_weights = decoder(dec_input,\n",
        "                                                             dec_hidden,\n",
        "                                                             enc_out)\n",
        "\n",
        "        # storing the attention weights to plot later on\n",
        "        attention_weights = tf.reshape(attention_weights, (-1, ))\n",
        "        attention_plot[t] = attention_weights.numpy()\n",
        "\n",
        "        predicted_id = tf.argmax(predictions[0]).numpy()\n",
        "        \n",
        "        result_seq += str(predicted_id) +' '\n",
        "        \n",
        "        result += targ_lang_tokenizer.index_word[predicted_id] + ' '\n",
        "\n",
        "        if targ_lang_tokenizer.index_word[predicted_id] == '<end>':\n",
        "            return result_seq, result, sentence, attention_plot\n",
        "\n",
        "        # the predicted ID is fed back into the model\n",
        "        dec_input = tf.expand_dims([predicted_id], 0)\n",
        "\n",
        "    return result_seq, result, sentence, attention_plot"
      ],
      "execution_count": null,
      "outputs": []
    },
    {
      "cell_type": "code",
      "metadata": {
        "id": "dV6jkAFDo2u8"
      },
      "source": [
        "dataset_val = tf.data.Dataset.from_tensor_slices((input_tensor_val, target_tensor_val)).shuffle(BUFFER_SIZE)\n",
        "dataset_val = dataset_val.batch(1, drop_remainder=True)"
      ],
      "execution_count": null,
      "outputs": []
    },
    {
      "cell_type": "code",
      "metadata": {
        "id": "J-uVXelco6ly",
        "colab": {
          "base_uri": "https://localhost:8080/"
        },
        "outputId": "67b64e68-070b-4131-cfb0-ceb9443cda4d"
      },
      "source": [
        "y_true = []\n",
        "y_pred = []\n",
        "acc_cnt = 0\n",
        "\n",
        "a = 0\n",
        "for (inp_val_batch, target_val_batch) in iter(dataset_val):\n",
        "  a += 1\n",
        "  if a % 50 == 0:\n",
        "    print(a)\n",
        "    print(\"Accuracy count: \",acc_cnt)\n",
        "    print('------------------')\n",
        "\n",
        "  target_sentence = ''\n",
        "  for i in target_val_batch.numpy()[0]:\n",
        "    if i!= 0:\n",
        "      target_sentence += (targ_lang_tokenizer.index_word[i] + ' ')\n",
        "  target_sentence = target_sentence.split('<start> ')[1]\n",
        "  # print('True:{}'.format(target_sentence))\n",
        "  y_true.append([target_sentence.split(' ')])\n",
        "\n",
        "  res_seq, res, sent, att = evaluate_accuracy(inp_val_batch)\n",
        "  y_pred.append(res.split(' '))\n",
        "  \n",
        "  if target_sentence == res:\n",
        "    acc_cnt += 1"
      ],
      "execution_count": null,
      "outputs": [
        {
          "output_type": "stream",
          "text": [
            "50\n",
            "Accuracy count:  43\n",
            "------------------\n",
            "100\n",
            "Accuracy count:  80\n",
            "------------------\n",
            "150\n",
            "Accuracy count:  113\n",
            "------------------\n",
            "200\n",
            "Accuracy count:  152\n",
            "------------------\n",
            "250\n",
            "Accuracy count:  196\n",
            "------------------\n",
            "300\n",
            "Accuracy count:  234\n",
            "------------------\n",
            "350\n",
            "Accuracy count:  275\n",
            "------------------\n",
            "400\n",
            "Accuracy count:  312\n",
            "------------------\n",
            "450\n",
            "Accuracy count:  346\n",
            "------------------\n",
            "500\n",
            "Accuracy count:  386\n",
            "------------------\n",
            "550\n",
            "Accuracy count:  420\n",
            "------------------\n",
            "600\n",
            "Accuracy count:  457\n",
            "------------------\n",
            "650\n",
            "Accuracy count:  493\n",
            "------------------\n",
            "700\n",
            "Accuracy count:  526\n",
            "------------------\n",
            "750\n",
            "Accuracy count:  564\n",
            "------------------\n",
            "800\n",
            "Accuracy count:  603\n",
            "------------------\n"
          ],
          "name": "stdout"
        }
      ]
    },
    {
      "cell_type": "code",
      "metadata": {
        "id": "uThJJInQpYL3",
        "colab": {
          "base_uri": "https://localhost:8080/"
        },
        "outputId": "eea8b18e-e874-480e-c9a8-25b52e2ef7f2"
      },
      "source": [
        "print('The corpus BLEU score of the RNN-seq2seq model is: ', corpus_bleu(y_true, y_pred))"
      ],
      "execution_count": null,
      "outputs": [
        {
          "output_type": "stream",
          "text": [
            "The corpus BLEU score of the RNN-seq2seq model is:  0.7497547636545528\n"
          ],
          "name": "stdout"
        }
      ]
    },
    {
      "cell_type": "code",
      "metadata": {
        "id": "AvYkAZfGsPrt",
        "colab": {
          "base_uri": "https://localhost:8080/"
        },
        "outputId": "5f37b629-5ade-4cdb-b2a0-b2b8fb1ecf32"
      },
      "source": [
        "print('The accuracy of the RNN-seq2seq model is: ', acc_cnt/len(input_tensor_val))"
      ],
      "execution_count": null,
      "outputs": [
        {
          "output_type": "stream",
          "text": [
            "The accuracy of the RNN-seq2seq model is:  0.755\n"
          ],
          "name": "stdout"
        }
      ]
    },
    {
      "cell_type": "code",
      "metadata": {
        "id": "kQbC03ehH-yq",
        "colab": {
          "base_uri": "https://localhost:8080/",
          "height": 712
        },
        "outputId": "05364a03-3f0f-4e56-fe54-7bd0807f5dcc"
      },
      "source": [
        "translate(sentence = 'If length of this figure is 39.99 units and width is 86.87 units. What is the area of this figure?',figure=\"plotrectangles0.png\")"
      ],
      "execution_count": null,
      "outputs": [
        {
          "output_type": "stream",
          "text": [
            "Score:  1\n",
            "Input: <start> if length of this figure is 3 9 . 9 9 units and width is 8 6 . 8 7 units . what is the area of this figure ? <end>\n",
            "Fact used from memory network:  ['Area of Rectangle = length * width', 0.20412414523193154]\n",
            "\n",
            "Predicted translation: x = 3 9 . 9 9 * 8 6 . 8 7 <end> \n",
            "\n"
          ],
          "name": "stdout"
        },
        {
          "output_type": "display_data",
          "data": {
            "image/png": "[encoded data removed]",
            "text/plain": [
              "<Figure size 432x288 with 1 Axes>"
            ]
          },
          "metadata": {
            "tags": [],
            "needs_background": "light"
          }
        },
        {
          "output_type": "display_data",
          "data": {
            "image/png": "[encoded data removed]",
            "text/plain": [
              "<Figure size 720x720 with 1 Axes>"
            ]
          },
          "metadata": {
            "tags": [],
            "needs_background": "light"
          }
        }
      ]
    },
    {
      "cell_type": "code",
      "metadata": {
        "id": "bScD33nU2toe",
        "colab": {
          "base_uri": "https://localhost:8080/",
          "height": 603
        },
        "outputId": "c2468e97-0d6a-499b-ef00-3db57b5f81ce"
      },
      "source": [
        "translate(sentence = 'If length of this figure is 39.99 units and area is 122.87 units. What is the width of this figure?',figure=\"plotrectangles0.png\")"
      ],
      "execution_count": null,
      "outputs": [
        {
          "output_type": "stream",
          "text": [
            "Score:  1\n",
            "Input: <start> if length of this figure is 3 9 . 9 9 units and area is 1 2 2 . 8 7 units . what is the width of this figure ? <end>\n",
            "Fact used from memory network:  ['Area of Rectangle = length * width', 0.19802950859533489]\n",
            "\n",
            "Predicted translation: x = 3 9 . 9 9 <end> \n",
            "\n"
          ],
          "name": "stdout"
        },
        {
          "output_type": "display_data",
          "data": {
            "image/png": "[encoded data removed]",
            "text/plain": [
              "<Figure size 432x288 with 1 Axes>"
            ]
          },
          "metadata": {
            "tags": [],
            "needs_background": "light"
          }
        },
        {
          "output_type": "display_data",
          "data": {
            "image/png": "[encoded data removed]",
            "text/plain": [
              "<Figure size 720x720 with 1 Axes>"
            ]
          },
          "metadata": {
            "tags": [],
            "needs_background": "light"
          }
        }
      ]
    },
    {
      "cell_type": "code",
      "metadata": {
        "id": "OYCfgz8N2W9t",
        "colab": {
          "base_uri": "https://localhost:8080/",
          "height": 853
        },
        "outputId": "776775a6-fb65-4a4a-d106-14c799e5f1a8"
      },
      "source": [
        "a = translate(sentence='If coordinates of this figure are (9.77 , 3.69) and (1.97 , 4.71). What is the slope of this figure?',figure=\"plotlines0.png\")"
      ],
      "execution_count": null,
      "outputs": [
        {
          "output_type": "stream",
          "text": [
            "Score:  1\n",
            "Input: <start> if coordinates of this figure are ( 9 . 7 7 , 3 . 6 9 ) and ( 1 . 9 7 , 4 . 7 1 ) . what is the slope of this figure ? <end>\n",
            "Fact used from memory network:  ['slope of line = (y2-y1)/(x2-x1)', 0.25]\n",
            "\n",
            "Predicted translation: x = ( 4 . 7 1 - 3 . 6 9 ) / ( 1 . 9 7 - 9 . 7 7 ) <end> \n",
            "\n"
          ],
          "name": "stdout"
        },
        {
          "output_type": "display_data",
          "data": {
            "image/png": "[encoded data removed]",
            "text/plain": [
              "<Figure size 432x288 with 1 Axes>"
            ]
          },
          "metadata": {
            "tags": [],
            "needs_background": "light"
          }
        },
        {
          "output_type": "display_data",
          "data": {
            "image/png": "[encoded data removed]",
            "text/plain": [
              "<Figure size 720x720 with 1 Axes>"
            ]
          },
          "metadata": {
            "tags": [],
            "needs_background": "light"
          }
        }
      ]
    },
    {
      "cell_type": "code",
      "metadata": {
        "id": "vaatlpZX2qf1",
        "colab": {
          "base_uri": "https://localhost:8080/",
          "height": 1000
        },
        "outputId": "14d296ad-ae33-476f-d5fd-1ae4f3fab507"
      },
      "source": [
        "a = translate(sentence='If area of this figure is 0.45 sq units. Calculate the radius of this figure?',figure=\"plotcircles3.png\")"
      ],
      "execution_count": null,
      "outputs": [
        {
          "output_type": "stream",
          "text": [
            "Score:  1\n",
            "Input: <start> if area of this figure is 0 . 4 5 sq units . calculate the radius of this figure ? <end>\n",
            "Fact used from memory network:  ['Area of Circle = pi * radius * radius', 0.10540925533894598]\n",
            "\n",
            "Predicted translation: x = m a t h . s q r t ( 0 . 4 5 / 3 . 1 4 ) <end> \n",
            "\n"
          ],
          "name": "stdout"
        },
        {
          "output_type": "display_data",
          "data": {
            "image/png": "[encoded data removed]",
            "text/plain": [
              "<Figure size 432x288 with 1 Axes>"
            ]
          },
          "metadata": {
            "tags": [],
            "needs_background": "light"
          }
        },
        {
          "output_type": "display_data",
          "data": {
            "image/png": "[encoded data removed]",
            "text/plain": [
              "<Figure size 720x720 with 1 Axes>"
            ]
          },
          "metadata": {
            "tags": [],
            "needs_background": "light"
          }
        }
      ]
    },
    {
      "cell_type": "code",
      "metadata": {
        "id": "UcOCWAKS4zQh",
        "colab": {
          "base_uri": "https://localhost:8080/",
          "height": 678
        },
        "outputId": "d5d65350-55da-4cf5-cf11-69596e683442"
      },
      "source": [
        "a = translate(sentence='The perimeter of the yard shown in figure is 5.92 sq feet. Find the side length of this yard.',figure=\"plotsquareside0.png\")"
      ],
      "execution_count": null,
      "outputs": [
        {
          "output_type": "stream",
          "text": [
            "Score:  1\n",
            "Input: <start> the perimeter of the yard shown in figure is 5 . 9 2 sq feet . find the side length of this yard . <end>\n",
            "Fact used from memory network:  ['Area of Square = side * side', 0.10846522890932808]\n",
            "\n",
            "Predicted translation: x = 5 . 9 2 / 4 <end> \n",
            "\n"
          ],
          "name": "stdout"
        },
        {
          "output_type": "display_data",
          "data": {
            "image/png": "[encoded data removed]",
            "text/plain": [
              "<Figure size 432x288 with 1 Axes>"
            ]
          },
          "metadata": {
            "tags": [],
            "needs_background": "light"
          }
        },
        {
          "output_type": "display_data",
          "data": {
            "image/png": "[encoded data removed]",
            "text/plain": [
              "<Figure size 720x720 with 1 Axes>"
            ]
          },
          "metadata": {
            "tags": [],
            "needs_background": "light"
          }
        }
      ]
    },
    {
      "cell_type": "code",
      "metadata": {
        "id": "_fkpGPH68PG_",
        "colab": {
          "base_uri": "https://localhost:8080/",
          "height": 712
        },
        "outputId": "fa079d49-d057-4d8e-a6db-ea4d8a2084b3"
      },
      "source": [
        "a = translate(sentence='Length of a side of a of this figure is 2.6 units. Measure the area of this figure?',figure=\"plotsquareside1.png\")"
      ],
      "execution_count": null,
      "outputs": [
        {
          "output_type": "stream",
          "text": [
            "Score:  1\n",
            "Input: <start> length of a side of a of this figure is 2 . 6 units . measure the area of this figure ? <end>\n",
            "Fact used from memory network:  ['Area of Square = side * side', 0.11952286093343936]\n",
            "\n",
            "Predicted translation: x = 2 . 6 * 2 . 6 <end> \n",
            "\n"
          ],
          "name": "stdout"
        },
        {
          "output_type": "display_data",
          "data": {
            "image/png": "[encoded data removed]",
            "text/plain": [
              "<Figure size 432x288 with 1 Axes>"
            ]
          },
          "metadata": {
            "tags": [],
            "needs_background": "light"
          }
        },
        {
          "output_type": "display_data",
          "data": {
            "image/png": "[encoded data removed]",
            "text/plain": [
              "<Figure size 720x720 with 1 Axes>"
            ]
          },
          "metadata": {
            "tags": [],
            "needs_background": "light"
          }
        }
      ]
    },
    {
      "cell_type": "code",
      "metadata": {
        "id": "sAYHoDP-3Baw",
        "colab": {
          "base_uri": "https://localhost:8080/",
          "height": 824
        },
        "outputId": "d9d07241-7827-44ba-cabb-eaeca87af24d"
      },
      "source": [
        "a = translate(sentence='If circumference of this figure is 0.64 sq units. Calculate the diameter of this figure?',figure=\"plotcircles0.png\")"
      ],
      "execution_count": null,
      "outputs": [
        {
          "output_type": "stream",
          "text": [
            "Score:  1\n",
            "Input: <start> if circumference of this figure is 0 . 6 4 sq units . calculate the diameter of this figure ? <end>\n",
            "Fact used from memory network:  ['Perimeter of Square = 4 * side', 0.10540925533894598]\n",
            "\n",
            "Predicted translation: x = 0 . 6 4 / 3 . 1 4 <end> \n",
            "\n"
          ],
          "name": "stdout"
        },
        {
          "output_type": "display_data",
          "data": {
            "image/png": "[encoded data removed]",
            "text/plain": [
              "<Figure size 432x288 with 1 Axes>"
            ]
          },
          "metadata": {
            "tags": [],
            "needs_background": "light"
          }
        },
        {
          "output_type": "display_data",
          "data": {
            "image/png": "[encoded data removed]",
            "text/plain": [
              "<Figure size 720x720 with 1 Axes>"
            ]
          },
          "metadata": {
            "tags": [],
            "needs_background": "light"
          }
        }
      ]
    },
    {
      "cell_type": "code",
      "metadata": {
        "id": "Er-9-skj4hbo",
        "colab": {
          "base_uri": "https://localhost:8080/",
          "height": 608
        },
        "outputId": "e0262a66-faa5-4eca-c542-1f604f53a03a"
      },
      "source": [
        "a = translate(sentence='If the three sides of this figure are [(2.15, 5.88), (7.1, 4.17), (3.71, 5.72)]. What is the minimum height of this figure to the base formed by the coordinates (2.15, 5.88) and (7.1, 4.17)?',figure=\"plottrianglear0.png\")"
      ],
      "execution_count": null,
      "outputs": [
        {
          "output_type": "stream",
          "text": [
            "Score:  1\n",
            "Input: <start> if the three sides of this figure are [ ( 2 . 1 5 , 5 . 8 8 ) , ( 7 . 1 , 4 . 1 7 ) , ( 3 . 7 1 , 5 . 7 2 ) ] . what is the minimum height of this figure to the base formed by the coordinates ( 2 . 1 5 , 5 . 8 8 ) and ( 7 . 1 , 4 . 1 7 ) ? <end>\n",
            "Fact used from memory network:  ['Minimum height of Triangle = (2*area)/base', 0.20801257358446093]\n",
            "\n",
            "Predicted translation: x = ( 2 * 0 . 9 2 ) / 3 . 3 9 <end> \n",
            "\n"
          ],
          "name": "stdout"
        },
        {
          "output_type": "display_data",
          "data": {
            "image/png": "[encoded data removed]",
            "text/plain": [
              "<Figure size 432x288 with 1 Axes>"
            ]
          },
          "metadata": {
            "tags": [],
            "needs_background": "light"
          }
        },
        {
          "output_type": "display_data",
          "data": {
            "image/png": "[encoded data removed]",
            "text/plain": [
              "<Figure size 720x720 with 1 Axes>"
            ]
          },
          "metadata": {
            "tags": [],
            "needs_background": "light"
          }
        }
      ]
    },
    {
      "cell_type": "code",
      "metadata": {
        "id": "KBMXcXJcwecQ",
        "colab": {
          "base_uri": "https://localhost:8080/"
        },
        "outputId": "b223f2a1-4b70-4cb3-984f-c82f4e2ec57f"
      },
      "source": [
        "a = translate(sentence='If length and area of this figure are 13.25 units and 46.87 units respectively. What will be the width of this figure?',figure=\"plotcircles1.png\")"
      ],
      "execution_count": null,
      "outputs": [
        {
          "output_type": "stream",
          "text": [
            "Score:  0\n",
            "Input: <start> if length and area of this figure are 1 3 . 2 5 units and 4 6 . 8 7 units respectively . what will be the width of this figure ? <end>\n",
            "Input figure is not valid\n"
          ],
          "name": "stdout"
        }
      ]
    },
    {
      "cell_type": "code",
      "metadata": {
        "id": "Y4IcJk0N3n6W",
        "colab": {
          "base_uri": "https://localhost:8080/",
          "height": 875
        },
        "outputId": "f54a90ac-a40f-4123-9f3f-4c71f8126f7e"
      },
      "source": [
        "a = translate(sentence='If radius of this figure is 0.21 units. What is the circumference of this figure?',figure=\"plotcircles0.png\")"
      ],
      "execution_count": null,
      "outputs": [
        {
          "output_type": "stream",
          "text": [
            "Score:  1\n",
            "Input: <start> if radius of this figure is 0 . 2 1 units . what is the circumference of this figure ? <end>\n",
            "Fact used from memory network:  ['Area of Circle = pi * radius * radius', 0.11322770341445956]\n",
            "\n",
            "Predicted translation: x = 2 * 3 . 1 4 * 0 . 2 1 <end> \n",
            "\n"
          ],
          "name": "stdout"
        },
        {
          "output_type": "display_data",
          "data": {
            "image/png": "[encoded data removed]",
            "text/plain": [
              "<Figure size 432x288 with 1 Axes>"
            ]
          },
          "metadata": {
            "tags": [],
            "needs_background": "light"
          }
        },
        {
          "output_type": "display_data",
          "data": {
            "image/png": "[encoded data removed]",
            "text/plain": [
              "<Figure size 720x720 with 1 Axes>"
            ]
          },
          "metadata": {
            "tags": [],
            "needs_background": "light"
          }
        }
      ]
    },
    {
      "cell_type": "code",
      "metadata": {
        "id": "ntMnkLRC8bY6",
        "colab": {
          "base_uri": "https://localhost:8080/",
          "height": 907
        },
        "outputId": "e3f1f70f-1b47-4a0c-a7ef-b5a0bc7dc21f"
      },
      "source": [
        "a = translate(sentence='If radius of this figure is 0.56 units. What is the area of this figure?',figure=\"plotcircles1.png\")"
      ],
      "execution_count": null,
      "outputs": [
        {
          "output_type": "stream",
          "text": [
            "Score:  1\n",
            "Input: <start> if radius of this figure is 0 . 5 6 units . what is the area of this figure ? <end>\n",
            "Fact used from memory network:  ['Area of Circle = pi * radius * radius', 0.11322770341445956]\n",
            "\n",
            "Predicted translation: x = 3 . 1 4 * 0 . 5 6 * 0 . 5 6 <end> \n",
            "\n"
          ],
          "name": "stdout"
        },
        {
          "output_type": "display_data",
          "data": {
            "image/png": "[encoded data removed]",
            "text/plain": [
              "<Figure size 432x288 with 1 Axes>"
            ]
          },
          "metadata": {
            "tags": [],
            "needs_background": "light"
          }
        },
        {
          "output_type": "display_data",
          "data": {
            "image/png": "[encoded data removed]",
            "text/plain": [
              "<Figure size 720x720 with 1 Axes>"
            ]
          },
          "metadata": {
            "tags": [],
            "needs_background": "light"
          }
        }
      ]
    }
  ]
}