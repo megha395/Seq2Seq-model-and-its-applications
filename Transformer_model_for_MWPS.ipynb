{
  "nbformat": 4,
  "nbformat_minor": 0,
  "metadata": {
    "colab": {
      "name": "Transformer model for MWPS.ipynb",
      "provenance": []
    },
    "kernelspec": {
      "name": "python3",
      "display_name": "Python 3"
    }
  },
  "cells": [
    {
      "cell_type": "code",
      "metadata": {
        "colab": {
          "base_uri": "https://localhost:8080/"
        },
        "id": "1mDdWx0fFkrk",
        "outputId": "f158a90d-7b94-4fff-b3a4-c29ac5b611e5"
      },
      "source": [
        "import pandas as pd\n",
        "import re\n",
        "import os\n",
        "import time\n",
        "import random\n",
        "import numpy as np\n",
        "\n",
        "try:\n",
        "  %tensorflow_version 2.x # enable TF 2.x in Colab\n",
        "except Exception:\n",
        "  pass\n",
        "\n",
        "import tensorflow as tf\n",
        "import matplotlib.pyplot as plt\n",
        "import matplotlib.ticker as ticker\n",
        "from sklearn.model_selection import train_test_split\n",
        "from google.colab import drive\n",
        "import pickle\n",
        "\n",
        "import spacy\n",
        "\n",
        "nlp = spacy.load(\"en_core_web_sm\")\n",
        "from nltk.translate.bleu_score import corpus_bleu"
      ],
      "execution_count": null,
      "outputs": [
        {
          "output_type": "stream",
          "text": [
            "`%tensorflow_version` only switches the major version: 1.x or 2.x.\n",
            "You set: `2.x # enable TF 2.x in Colab`. This will be interpreted as: `2.x`.\n",
            "\n",
            "\n",
            "TensorFlow 2.x selected.\n"
          ],
          "name": "stdout"
        }
      ]
    },
    {
      "cell_type": "code",
      "metadata": {
        "colab": {
          "base_uri": "https://localhost:8080/",
          "height": 35
        },
        "id": "NciG8XXcFyLb",
        "outputId": "0558401b-f43c-467f-e663-b6a8e9fdb343"
      },
      "source": [
        "tf.__version__"
      ],
      "execution_count": null,
      "outputs": [
        {
          "output_type": "execute_result",
          "data": {
            "application/vnd.google.colaboratory.intrinsic+json": {
              "type": "string"
            },
            "text/plain": [
              "'2.3.0'"
            ]
          },
          "metadata": {
            "tags": []
          },
          "execution_count": 2
        }
      ]
    },
    {
      "cell_type": "code",
      "metadata": {
        "colab": {
          "base_uri": "https://localhost:8080/"
        },
        "id": "3w6gduSxF8Bz",
        "outputId": "9cc4b6e4-e686-4bb5-8ed6-4b934a38cd37"
      },
      "source": [
        "# Mount drive\n",
        "drive.mount('/gdrive')\n",
        "drive_root = '/gdrive/My Drive/'"
      ],
      "execution_count": null,
      "outputs": [
        {
          "output_type": "stream",
          "text": [
            "Mounted at /gdrive\n"
          ],
          "name": "stdout"
        }
      ]
    },
    {
      "cell_type": "code",
      "metadata": {
        "id": "km7GnHeZGKs7"
      },
      "source": [
        "with open('\\Path to dataset') as f:\n",
        "  df = pickle.load(f)"
      ],
      "execution_count": null,
      "outputs": []
    },
    {
      "cell_type": "code",
      "metadata": {
        "colab": {
          "base_uri": "https://localhost:8080/"
        },
        "id": "_YSzHy88GT6Q",
        "outputId": "a905f751-c02f-4d60-d292-38b729eee6a5"
      },
      "source": [
        "df.shape"
      ],
      "execution_count": null,
      "outputs": [
        {
          "output_type": "execute_result",
          "data": {
            "text/plain": [
              "(38144, 2)"
            ]
          },
          "metadata": {
            "tags": []
          },
          "execution_count": 6
        }
      ]
    },
    {
      "cell_type": "code",
      "metadata": {
        "colab": {
          "base_uri": "https://localhost:8080/",
          "height": 195
        },
        "id": "4_NvJqmQGj7-",
        "outputId": "7650e7a7-cd53-4bc6-88f4-3f37b1834a00"
      },
      "source": [
        "df.head()"
      ],
      "execution_count": null,
      "outputs": [
        {
          "output_type": "execute_result",
          "data": {
            "text/html": [
              "<div>\n",
              "<style scoped>\n",
              "    .dataframe tbody tr th:only-of-type {\n",
              "        vertical-align: middle;\n",
              "    }\n",
              "\n",
              "    .dataframe tbody tr th {\n",
              "        vertical-align: top;\n",
              "    }\n",
              "\n",
              "    .dataframe thead th {\n",
              "        text-align: right;\n",
              "    }\n",
              "</style>\n",
              "<table border=\"1\" class=\"dataframe\">\n",
              "  <thead>\n",
              "    <tr style=\"text-align: right;\">\n",
              "      <th></th>\n",
              "      <th>Question</th>\n",
              "      <th>Equation</th>\n",
              "    </tr>\n",
              "  </thead>\n",
              "  <tbody>\n",
              "    <tr>\n",
              "      <th>963</th>\n",
              "      <td>A painter needed to paint 12 rooms in a build...</td>\n",
              "      <td>X=(7.0*(12.0-5.0))</td>\n",
              "    </tr>\n",
              "    <tr>\n",
              "      <th>3897</th>\n",
              "      <td>Brenda had 253 raspberry. John gripped some ra...</td>\n",
              "      <td>X = 253 - 66</td>\n",
              "    </tr>\n",
              "    <tr>\n",
              "      <th>27626</th>\n",
              "      <td>Casey wants to share some Bread among 17 frien...</td>\n",
              "      <td>X = 39 * 17</td>\n",
              "    </tr>\n",
              "    <tr>\n",
              "      <th>32530</th>\n",
              "      <td>Liza had 34 Press. Thomas furnished him some m...</td>\n",
              "      <td>X = 64 - 34</td>\n",
              "    </tr>\n",
              "    <tr>\n",
              "      <th>16266</th>\n",
              "      <td>George wants to distribute 125 mangos among 25...</td>\n",
              "      <td>X = 125 / 25</td>\n",
              "    </tr>\n",
              "  </tbody>\n",
              "</table>\n",
              "</div>"
            ],
            "text/plain": [
              "                                                Question            Equation\n",
              "963     A painter needed to paint 12 rooms in a build...  X=(7.0*(12.0-5.0))\n",
              "3897   Brenda had 253 raspberry. John gripped some ra...        X = 253 - 66\n",
              "27626  Casey wants to share some Bread among 17 frien...         X = 39 * 17\n",
              "32530  Liza had 34 Press. Thomas furnished him some m...         X = 64 - 34\n",
              "16266  George wants to distribute 125 mangos among 25...        X = 125 / 25"
            ]
          },
          "metadata": {
            "tags": []
          },
          "execution_count": 7
        }
      ]
    },
    {
      "cell_type": "code",
      "metadata": {
        "id": "bl5oVUTWGkye"
      },
      "source": [
        "input_exps = list(df['Question'].values)"
      ],
      "execution_count": null,
      "outputs": []
    },
    {
      "cell_type": "code",
      "metadata": {
        "id": "5urpyPenGn1r"
      },
      "source": [
        "def convert_eqn(eqn):\n",
        "  '''\n",
        "  Add a space between every character in the equation string.\n",
        "  Eg: 'x = 23 + 88' becomes 'x =  2 3 + 8 8'\n",
        "  '''\n",
        "  elements = list(eqn)\n",
        "  return ' '.join(elements)"
      ],
      "execution_count": null,
      "outputs": []
    },
    {
      "cell_type": "code",
      "metadata": {
        "id": "9xdDtMjZGs9Z"
      },
      "source": [
        "target_exps = list(df['Equation'].apply(lambda x: convert_eqn(x)).values)"
      ],
      "execution_count": null,
      "outputs": []
    },
    {
      "cell_type": "code",
      "metadata": {
        "colab": {
          "base_uri": "https://localhost:8080/"
        },
        "id": "3uzEH4RXGxiG",
        "outputId": "bc1671b0-4ff7-479e-c3cc-d8fe556b3a1a"
      },
      "source": [
        "# Input: Word problem\n",
        "input_exps[:5]"
      ],
      "execution_count": null,
      "outputs": [
        {
          "output_type": "execute_result",
          "data": {
            "text/plain": [
              "[' A painter needed to paint 12 rooms in a building. Each room takes 7 hours to paint. If he already painted 5 rooms, how much longer will he take to paint the rest? ',\n",
              " 'Brenda had 253 raspberry. John gripped some raspberry. Now Brenda has 66  raspberry. How many did John grippeds?',\n",
              " 'Casey wants to share some Bread among 17 friends.If each friend get 39 Bread, then how many Bread john would have?',\n",
              " 'Liza had 34 Press. Thomas furnished him some more. Now Liza has 64 Press. How many did Thomas furnish him?',\n",
              " 'George wants to distribute 125 mangos among 25 friends. How many would each friend acquire?']"
            ]
          },
          "metadata": {
            "tags": []
          },
          "execution_count": 11
        }
      ]
    },
    {
      "cell_type": "code",
      "metadata": {
        "colab": {
          "base_uri": "https://localhost:8080/"
        },
        "id": "95_mZ5ttGzUa",
        "outputId": "411088ee-6953-4430-c299-94a3562cccab"
      },
      "source": [
        "# Target: Equation\n",
        "target_exps[:5]"
      ],
      "execution_count": null,
      "outputs": [
        {
          "output_type": "execute_result",
          "data": {
            "text/plain": [
              "['X = ( 7 . 0 * ( 1 2 . 0 - 5 . 0 ) )',\n",
              " 'X   =   2 5 3   -   6 6',\n",
              " 'X   =   3 9   *   1 7',\n",
              " 'X   =   6 4   -   3 4',\n",
              " 'X   =   1 2 5   /   2 5']"
            ]
          },
          "metadata": {
            "tags": []
          },
          "execution_count": 12
        }
      ]
    },
    {
      "cell_type": "code",
      "metadata": {
        "colab": {
          "base_uri": "https://localhost:8080/"
        },
        "id": "8dPqa8dtG2MC",
        "outputId": "d1e52f48-3821-4518-c25f-2c149a37111b"
      },
      "source": [
        "len(pd.Series(input_exps)), len(pd.Series(input_exps).unique())"
      ],
      "execution_count": null,
      "outputs": [
        {
          "output_type": "execute_result",
          "data": {
            "text/plain": [
              "(38144, 38144)"
            ]
          },
          "metadata": {
            "tags": []
          },
          "execution_count": 13
        }
      ]
    },
    {
      "cell_type": "code",
      "metadata": {
        "colab": {
          "base_uri": "https://localhost:8080/"
        },
        "id": "mK6xDBfFG5b2",
        "outputId": "b49dba29-7a19-4316-f9b2-003555a5e0da"
      },
      "source": [
        "len(pd.Series(target_exps)), len(pd.Series(target_exps).unique())"
      ],
      "execution_count": null,
      "outputs": [
        {
          "output_type": "execute_result",
          "data": {
            "text/plain": [
              "(38144, 23603)"
            ]
          },
          "metadata": {
            "tags": []
          },
          "execution_count": 14
        }
      ]
    },
    {
      "cell_type": "code",
      "metadata": {
        "id": "nKHPv87uG9GB"
      },
      "source": [
        "def preprocess_input(sentence):\n",
        "  '''\n",
        "  For the word problem, convert everything to lowercase, add spaces around all\n",
        "  punctuations and digits, and remove any extra spaces. \n",
        "  '''\n",
        "  sentence = sentence.lower().strip()\n",
        "  sentence = re.sub(r\"([?.!,’])\", r\" \\1 \", sentence)\n",
        "  sentence = re.sub(r\"([0-9])\", r\" \\1 \", sentence)\n",
        "  sentence = re.sub(r'[\" \"]+', \" \", sentence)\n",
        "  sentence = sentence.rstrip().strip()\n",
        "  return sentence"
      ],
      "execution_count": null,
      "outputs": []
    },
    {
      "cell_type": "code",
      "metadata": {
        "id": "H7yEXNTwHAJu"
      },
      "source": [
        "def preprocess_target(sentence):\n",
        "  '''\n",
        "  For the equation, convert it to lowercase and remove extra spaces\n",
        "  '''\n",
        "  sentence = sentence.lower().strip()\n",
        "  return sentence"
      ],
      "execution_count": null,
      "outputs": []
    },
    {
      "cell_type": "code",
      "metadata": {
        "id": "-c7izZinHEJO"
      },
      "source": [
        "preprocessed_input_exps = list(map(preprocess_input, input_exps))\n",
        "preprocessed_target_exps = list(map(preprocess_target, target_exps))"
      ],
      "execution_count": null,
      "outputs": []
    },
    {
      "cell_type": "code",
      "metadata": {
        "colab": {
          "base_uri": "https://localhost:8080/"
        },
        "id": "6xNnQCBGHIun",
        "outputId": "1a7383e3-40cc-4c83-e9b5-3f86506d365e"
      },
      "source": [
        "preprocessed_input_exps[:5]"
      ],
      "execution_count": null,
      "outputs": [
        {
          "output_type": "execute_result",
          "data": {
            "text/plain": [
              "['a painter needed to paint 1 2 rooms in a building . each room takes 7 hours to paint . if he already painted 5 rooms , how much longer will he take to paint the rest ?',\n",
              " 'brenda had 2 5 3 raspberry . john gripped some raspberry . now brenda has 6 6 raspberry . how many did john grippeds ?',\n",
              " 'casey wants to share some bread among 1 7 friends . if each friend get 3 9 bread , then how many bread john would have ?',\n",
              " 'liza had 3 4 press . thomas furnished him some more . now liza has 6 4 press . how many did thomas furnish him ?',\n",
              " 'george wants to distribute 1 2 5 mangos among 2 5 friends . how many would each friend acquire ?']"
            ]
          },
          "metadata": {
            "tags": []
          },
          "execution_count": 18
        }
      ]
    },
    {
      "cell_type": "code",
      "metadata": {
        "colab": {
          "base_uri": "https://localhost:8080/"
        },
        "id": "xZhlcoN2HLem",
        "outputId": "fe01042a-b897-43af-92c1-5283e66e74c5"
      },
      "source": [
        "preprocessed_target_exps[:5]"
      ],
      "execution_count": null,
      "outputs": [
        {
          "output_type": "execute_result",
          "data": {
            "text/plain": [
              "['x = ( 7 . 0 * ( 1 2 . 0 - 5 . 0 ) )',\n",
              " 'x   =   2 5 3   -   6 6',\n",
              " 'x   =   3 9   *   1 7',\n",
              " 'x   =   6 4   -   3 4',\n",
              " 'x   =   1 2 5   /   2 5']"
            ]
          },
          "metadata": {
            "tags": []
          },
          "execution_count": 19
        }
      ]
    },
    {
      "cell_type": "code",
      "metadata": {
        "id": "A4NQComZHPsa"
      },
      "source": [
        "def tokenize(lang):\n",
        "  '''\n",
        "  Tokenize the given list of strings and return the tokenized output\n",
        "  along with the fitted tokenizer.\n",
        "  '''\n",
        "  lang_tokenizer = tf.keras.preprocessing.text.Tokenizer(filters='')\n",
        "  lang_tokenizer.fit_on_texts(lang)\n",
        "  tensor = lang_tokenizer.texts_to_sequences(lang)\n",
        "  return tensor, lang_tokenizer"
      ],
      "execution_count": null,
      "outputs": []
    },
    {
      "cell_type": "code",
      "metadata": {
        "id": "xjWy7dfXHRWc"
      },
      "source": [
        "input_tensor, inp_lang_tokenizer = tokenize(preprocessed_input_exps)"
      ],
      "execution_count": null,
      "outputs": []
    },
    {
      "cell_type": "code",
      "metadata": {
        "colab": {
          "base_uri": "https://localhost:8080/"
        },
        "id": "NilF5q9FHUT-",
        "outputId": "c64b1e6e-7093-4cc8-f9cf-ce7f36e17d5e"
      },
      "source": [
        "len(inp_lang_tokenizer.word_index)"
      ],
      "execution_count": null,
      "outputs": [
        {
          "output_type": "execute_result",
          "data": {
            "text/plain": [
              "5887"
            ]
          },
          "metadata": {
            "tags": []
          },
          "execution_count": 22
        }
      ]
    },
    {
      "cell_type": "code",
      "metadata": {
        "id": "vTozDd3bHXVG"
      },
      "source": [
        "target_tensor, targ_lang_tokenizer = tokenize(preprocessed_target_exps)"
      ],
      "execution_count": null,
      "outputs": []
    },
    {
      "cell_type": "code",
      "metadata": {
        "id": "zQNW3bG2JOnK"
      },
      "source": [
        "old_len = len(targ_lang_tokenizer.word_index)"
      ],
      "execution_count": null,
      "outputs": []
    },
    {
      "cell_type": "code",
      "metadata": {
        "id": "NW5lRXr6JRRH"
      },
      "source": [
        "def append_start_end(x,last_int):\n",
        "  '''\n",
        "  Add integers for start and end tokens for input/target exps\n",
        "  '''\n",
        "  l = []\n",
        "  l.append(last_int+1)\n",
        "  l.extend(x)\n",
        "  l.append(last_int+2)\n",
        "  return l"
      ],
      "execution_count": null,
      "outputs": []
    },
    {
      "cell_type": "code",
      "metadata": {
        "id": "u7Ii2L0IJUdP"
      },
      "source": [
        "input_tensor_list = [append_start_end(i,len(inp_lang_tokenizer.word_index)) for i in input_tensor]\n",
        "target_tensor_list = [append_start_end(i,len(targ_lang_tokenizer.word_index)) for i in target_tensor]"
      ],
      "execution_count": null,
      "outputs": []
    },
    {
      "cell_type": "code",
      "metadata": {
        "id": "O7IcmxlqJXez"
      },
      "source": [
        "# Pad all sequences such that they are of equal length\n",
        "input_tensor = tf.keras.preprocessing.sequence.pad_sequences(input_tensor_list, padding='post')\n",
        "target_tensor = tf.keras.preprocessing.sequence.pad_sequences(target_tensor_list, padding='post')"
      ],
      "execution_count": null,
      "outputs": []
    },
    {
      "cell_type": "code",
      "metadata": {
        "colab": {
          "base_uri": "https://localhost:8080/"
        },
        "id": "NxMDzkfvJai-",
        "outputId": "4626b523-bdcd-4bea-a87d-0685a88f81bf"
      },
      "source": [
        "input_tensor"
      ],
      "execution_count": null,
      "outputs": [
        {
          "output_type": "execute_result",
          "data": {
            "text/plain": [
              "array([[5888,  104, 2454, ...,    0,    0,    0],\n",
              "       [5888,  280,    6, ...,    0,    0,    0],\n",
              "       [5888,  811,   43, ...,    0,    0,    0],\n",
              "       ...,\n",
              "       [5888,  380,   12, ...,    0,    0,    0],\n",
              "       [5888,  167,    6, ...,    0,    0,    0],\n",
              "       [5888,  404,    6, ...,    0,    0,    0]], dtype=int32)"
            ]
          },
          "metadata": {
            "tags": []
          },
          "execution_count": 28
        }
      ]
    },
    {
      "cell_type": "code",
      "metadata": {
        "colab": {
          "base_uri": "https://localhost:8080/"
        },
        "id": "ZLeUO6FpJc-a",
        "outputId": "fa87d3fa-332a-4da7-aea3-c666c2eb2559"
      },
      "source": [
        "target_tensor"
      ],
      "execution_count": null,
      "outputs": [
        {
          "output_type": "execute_result",
          "data": {
            "text/plain": [
              "array([[46,  2,  1, ...,  0,  0,  0],\n",
              "       [46,  2,  1, ...,  0,  0,  0],\n",
              "       [46,  2,  1, ...,  0,  0,  0],\n",
              "       ...,\n",
              "       [46,  2,  1, ...,  0,  0,  0],\n",
              "       [46,  2,  1, ...,  0,  0,  0],\n",
              "       [46,  2,  1, ...,  0,  0,  0]], dtype=int32)"
            ]
          },
          "metadata": {
            "tags": []
          },
          "execution_count": 29
        }
      ]
    },
    {
      "cell_type": "code",
      "metadata": {
        "id": "RiZcsM_GJfJb"
      },
      "source": [
        "keys = [str(i) for i in range(10,51)]\n",
        "for i,k in enumerate(keys):\n",
        "  targ_lang_tokenizer.word_index[k]=len(targ_lang_tokenizer.word_index)+i+4"
      ],
      "execution_count": null,
      "outputs": []
    },
    {
      "cell_type": "code",
      "metadata": {
        "colab": {
          "base_uri": "https://localhost:8080/"
        },
        "id": "sjyUYMhjJh8K",
        "outputId": "d0a67529-9c5f-4751-e7d2-7898e05e3c3f"
      },
      "source": [
        "len(targ_lang_tokenizer.word_index)"
      ],
      "execution_count": null,
      "outputs": [
        {
          "output_type": "execute_result",
          "data": {
            "text/plain": [
              "86"
            ]
          },
          "metadata": {
            "tags": []
          },
          "execution_count": 31
        }
      ]
    },
    {
      "cell_type": "code",
      "metadata": {
        "id": "dJs0nXvJJk_e"
      },
      "source": [
        "# Creating training and validation sets\n",
        "input_tensor_train, input_tensor_val, target_tensor_train, target_tensor_val = train_test_split(input_tensor,\n",
        "                                                                                                target_tensor,\n",
        "                                                                                                test_size=0.05,\n",
        "                                                                                                random_state=42)"
      ],
      "execution_count": null,
      "outputs": []
    },
    {
      "cell_type": "code",
      "metadata": {
        "colab": {
          "base_uri": "https://localhost:8080/"
        },
        "id": "Ftj1udAYJoK5",
        "outputId": "cad55b57-0586-490b-f1c5-99aa11a9ea5e"
      },
      "source": [
        "len(input_tensor_train)"
      ],
      "execution_count": null,
      "outputs": [
        {
          "output_type": "execute_result",
          "data": {
            "text/plain": [
              "36236"
            ]
          },
          "metadata": {
            "tags": []
          },
          "execution_count": 33
        }
      ]
    },
    {
      "cell_type": "code",
      "metadata": {
        "colab": {
          "base_uri": "https://localhost:8080/"
        },
        "id": "cCrXs6LMJrrc",
        "outputId": "b3758958-9811-433d-b918-3ea67cd3a005"
      },
      "source": [
        "len(input_tensor_val)"
      ],
      "execution_count": null,
      "outputs": [
        {
          "output_type": "execute_result",
          "data": {
            "text/plain": [
              "1908"
            ]
          },
          "metadata": {
            "tags": []
          },
          "execution_count": 34
        }
      ]
    },
    {
      "cell_type": "code",
      "metadata": {
        "id": "Cw7IiX8vJ6l4"
      },
      "source": [
        "BUFFER_SIZE = len(input_tensor_train)\n",
        "BATCH_SIZE = 64\n",
        "steps_per_epoch = len(input_tensor_train)//BATCH_SIZE\n",
        "dataset = tf.data.Dataset.from_tensor_slices((input_tensor_train, target_tensor_train)).shuffle(BUFFER_SIZE)\n",
        "dataset = dataset.batch(BATCH_SIZE, drop_remainder=True)\n",
        "num_layers = 4\n",
        "d_model = 128\n",
        "dff = 512\n",
        "num_heads = 8\n",
        "input_vocab_size = len(inp_lang_tokenizer.word_index)+3\n",
        "target_vocab_size = len(targ_lang_tokenizer.word_index)+3\n",
        "dropout_rate = 0.0"
      ],
      "execution_count": null,
      "outputs": []
    },
    {
      "cell_type": "code",
      "metadata": {
        "colab": {
          "base_uri": "https://localhost:8080/"
        },
        "id": "fCWjX6Z4J94Q",
        "outputId": "aa30407d-6701-4950-dd36-4cf6a8d99108"
      },
      "source": [
        "example_input_batch, example_target_batch = next(iter(dataset))\n",
        "example_input_batch.shape, example_target_batch.shape"
      ],
      "execution_count": null,
      "outputs": [
        {
          "output_type": "execute_result",
          "data": {
            "text/plain": [
              "(TensorShape([64, 124]), TensorShape([64, 66]))"
            ]
          },
          "metadata": {
            "tags": []
          },
          "execution_count": 36
        }
      ]
    },
    {
      "cell_type": "code",
      "metadata": {
        "id": "jbN4poCuKAoL"
      },
      "source": [
        "def get_angles(pos, i, d_model):\n",
        "  angle_rates = 1 / np.power(10000, (2 * (i//2)) / np.float32(d_model))\n",
        "  return pos * angle_rates"
      ],
      "execution_count": null,
      "outputs": []
    },
    {
      "cell_type": "code",
      "metadata": {
        "id": "v4uU8NeHKDK3"
      },
      "source": [
        "def positional_encoding(position, d_model):\n",
        "  angle_rads = get_angles(np.arange(position)[:, np.newaxis],\n",
        "                          np.arange(d_model)[np.newaxis, :],\n",
        "                          d_model)\n",
        "  \n",
        "  # apply sin to even indices in the array; 2i\n",
        "  angle_rads[:, 0::2] = np.sin(angle_rads[:, 0::2])\n",
        "  \n",
        "  # apply cos to odd indices in the array; 2i+1\n",
        "  angle_rads[:, 1::2] = np.cos(angle_rads[:, 1::2])\n",
        "    \n",
        "  pos_encoding = angle_rads[np.newaxis, ...]\n",
        "    \n",
        "  return tf.cast(pos_encoding, dtype=tf.float32)"
      ],
      "execution_count": null,
      "outputs": []
    },
    {
      "cell_type": "code",
      "metadata": {
        "id": "PYGDpdNaKGHs"
      },
      "source": [
        "# mask all elements are that not words (padding) so that it is not treated as input\n",
        "def create_padding_mask(seq):\n",
        "  seq = tf.cast(tf.math.equal(seq, 0), tf.float32)\n",
        "  return seq[:, tf.newaxis, tf.newaxis, :] "
      ],
      "execution_count": null,
      "outputs": []
    },
    {
      "cell_type": "code",
      "metadata": {
        "id": "YWJG6pOHKJ6H"
      },
      "source": [
        "def create_look_ahead_mask(size):\n",
        "  mask = 1 - tf.linalg.band_part(tf.ones((size, size)), -1, 0)\n",
        "  return mask"
      ],
      "execution_count": null,
      "outputs": []
    },
    {
      "cell_type": "code",
      "metadata": {
        "id": "2zXMp4VBKNCw"
      },
      "source": [
        "dataset = dataset.prefetch(tf.data.experimental.AUTOTUNE)"
      ],
      "execution_count": null,
      "outputs": []
    },
    {
      "cell_type": "code",
      "metadata": {
        "id": "h5kt0QfmKPsL"
      },
      "source": [
        "def scaled_dot_product_attention(q, k, v, mask):\n",
        "  matmul_qk = tf.matmul(q, k, transpose_b=True)  \n",
        "  \n",
        "  # scale matmul_qk\n",
        "  dk = tf.cast(tf.shape(k)[-1], tf.float32)\n",
        "  scaled_attention_logits = matmul_qk / tf.math.sqrt(dk)\n",
        "\n",
        "  # add the mask to the scaled tensor.\n",
        "  if mask is not None:\n",
        "    scaled_attention_logits += (mask * -1e9)  \n",
        "\n",
        "  attention_weights = tf.nn.softmax(scaled_attention_logits, axis=-1)  \n",
        "\n",
        "  output = tf.matmul(attention_weights, v)  \n",
        "\n",
        "  return output, attention_weights"
      ],
      "execution_count": null,
      "outputs": []
    },
    {
      "cell_type": "code",
      "metadata": {
        "id": "tdy1qaupKUw8"
      },
      "source": [
        "class MultiHeadAttention(tf.keras.layers.Layer):\n",
        "  def __init__(self, d_model, num_heads):\n",
        "    super(MultiHeadAttention, self).__init__()\n",
        "    self.num_heads = num_heads\n",
        "    self.d_model = d_model\n",
        "    \n",
        "    assert d_model % self.num_heads == 0\n",
        "    \n",
        "    self.depth = d_model // self.num_heads\n",
        "    \n",
        "    self.wq = tf.keras.layers.Dense(d_model)\n",
        "    self.wk = tf.keras.layers.Dense(d_model)\n",
        "    self.wv = tf.keras.layers.Dense(d_model)\n",
        "    \n",
        "    self.dense = tf.keras.layers.Dense(d_model)\n",
        "        \n",
        "  def split_heads(self, x, batch_size):\n",
        "    x = tf.reshape(x, (batch_size, -1, self.num_heads, self.depth))\n",
        "    return tf.transpose(x, perm=[0, 2, 1, 3])\n",
        "    \n",
        "  def call(self, v, k, q, mask):\n",
        "    batch_size = tf.shape(q)[0]\n",
        "    \n",
        "    q = self.wq(q)  \n",
        "    k = self.wk(k)  \n",
        "    v = self.wv(v)  \n",
        "    \n",
        "    q = self.split_heads(q, batch_size)  \n",
        "    k = self.split_heads(k, batch_size)  \n",
        "    v = self.split_heads(v, batch_size)  \n",
        "\n",
        "    scaled_attention, attention_weights = scaled_dot_product_attention( q, k, v, mask) \n",
        "    scaled_attention = tf.transpose(scaled_attention, perm=[0, 2, 1, 3])  \n",
        "\n",
        "    concat_attention = tf.reshape(scaled_attention,  (batch_size, -1, self.d_model))  \n",
        "\n",
        "    output = self.dense(concat_attention) \n",
        "        \n",
        "    return output, attention_weights"
      ],
      "execution_count": null,
      "outputs": []
    },
    {
      "cell_type": "code",
      "metadata": {
        "id": "LWNgJfTXKZ5_"
      },
      "source": [
        "def point_wise_feed_forward_network(d_model, dff):\n",
        "  return tf.keras.Sequential([\n",
        "      tf.keras.layers.Dense(dff, activation='relu'), tf.keras.layers.Dense(d_model)])"
      ],
      "execution_count": null,
      "outputs": []
    },
    {
      "cell_type": "code",
      "metadata": {
        "id": "QH6PauVGKgBZ"
      },
      "source": [
        "class EncoderLayer(tf.keras.layers.Layer):\n",
        "  def __init__(self, d_model, num_heads, dff, rate=0.1):\n",
        "    super(EncoderLayer, self).__init__()\n",
        "\n",
        "    self.mha = MultiHeadAttention(d_model, num_heads)\n",
        "    self.ffn = point_wise_feed_forward_network(d_model, dff)\n",
        "\n",
        "    # normalize data per feature instead of batch\n",
        "    self.layernorm1 = tf.keras.layers.LayerNormalization(epsilon=1e-6)\n",
        "    self.layernorm2 = tf.keras.layers.LayerNormalization(epsilon=1e-6)\n",
        "    \n",
        "    self.dropout1 = tf.keras.layers.Dropout(rate)\n",
        "    self.dropout2 = tf.keras.layers.Dropout(rate)\n",
        "    \n",
        "  def call(self, x, training, mask):\n",
        "    # Multi-head attention layer\n",
        "    attn_output, _ = self.mha(x, x, x, mask) \n",
        "    attn_output = self.dropout1(attn_output, training=training)\n",
        "    # add residual connection to avoid vanishing gradient problem\n",
        "    out1 = self.layernorm1(x + attn_output)\n",
        "    \n",
        "    # Feedforward layer\n",
        "    ffn_output = self.ffn(out1)\n",
        "    ffn_output = self.dropout2(ffn_output, training=training)\n",
        "    # add residual connection to avoid vanishing gradient problem\n",
        "    out2 = self.layernorm2(out1 + ffn_output)\n",
        "    return out2"
      ],
      "execution_count": null,
      "outputs": []
    },
    {
      "cell_type": "code",
      "metadata": {
        "id": "vyVfDsf1Klgn"
      },
      "source": [
        "class Encoder(tf.keras.layers.Layer):\n",
        "  def __init__(self, num_layers, d_model, num_heads, dff, input_vocab_size,\n",
        "               maximum_position_encoding, rate=0.1):\n",
        "    super(Encoder, self).__init__()\n",
        "\n",
        "    self.d_model = d_model\n",
        "    self.num_layers = num_layers\n",
        "    \n",
        "    self.embedding = tf.keras.layers.Embedding(input_vocab_size, d_model)\n",
        "    self.pos_encoding = positional_encoding(maximum_position_encoding, \n",
        "                                            self.d_model)\n",
        "    \n",
        "    # Create encoder layers (count: num_layers)\n",
        "    self.enc_layers = [EncoderLayer(d_model, num_heads, dff, rate) \n",
        "                       for _ in range(num_layers)]\n",
        "  \n",
        "    self.dropout = tf.keras.layers.Dropout(rate)\n",
        "        \n",
        "  def call(self, x, training, mask):\n",
        "\n",
        "    seq_len = tf.shape(x)[1]\n",
        "\n",
        "    # adding embedding and position encoding.\n",
        "    x = self.embedding(x)  \n",
        "    x *= tf.math.sqrt(tf.cast(self.d_model, tf.float32))\n",
        "    x += self.pos_encoding[:, :seq_len, :]\n",
        "\n",
        "    x = self.dropout(x, training=training)\n",
        "    \n",
        "    for i in range(self.num_layers):\n",
        "      x = self.enc_layers[i](x, training, mask)\n",
        "    \n",
        "    return x"
      ],
      "execution_count": null,
      "outputs": []
    },
    {
      "cell_type": "code",
      "metadata": {
        "id": "WRGkR2WhKsfY"
      },
      "source": [
        "class DecoderLayer(tf.keras.layers.Layer):\n",
        "  def __init__(self, d_model, num_heads, dff, rate=0.1):\n",
        "    super(DecoderLayer, self).__init__()\n",
        "\n",
        "    self.mha1 = MultiHeadAttention(d_model, num_heads)\n",
        "    self.mha2 = MultiHeadAttention(d_model, num_heads)\n",
        "\n",
        "    self.ffn = point_wise_feed_forward_network(d_model, dff)\n",
        " \n",
        "    self.layernorm1 = tf.keras.layers.LayerNormalization(epsilon=1e-6)\n",
        "    self.layernorm2 = tf.keras.layers.LayerNormalization(epsilon=1e-6)\n",
        "    self.layernorm3 = tf.keras.layers.LayerNormalization(epsilon=1e-6)\n",
        "    \n",
        "    self.dropout1 = tf.keras.layers.Dropout(rate)\n",
        "    self.dropout2 = tf.keras.layers.Dropout(rate)\n",
        "    self.dropout3 = tf.keras.layers.Dropout(rate)\n",
        "    \n",
        "    \n",
        "  def call(self, x, enc_output, training, \n",
        "           look_ahead_mask, padding_mask):\n",
        "\n",
        "    # Masked multihead attention layer (padding + look-ahead)\n",
        "    attn1, attn_weights_block1 = self.mha1(x, x, x, look_ahead_mask)\n",
        "    attn1 = self.dropout1(attn1, training=training)\n",
        "    # again add residual connection\n",
        "    out1 = self.layernorm1(attn1 + x)\n",
        "    \n",
        "    # Masked multihead attention layer (only padding)\n",
        "    # with input from encoder as Key and Value, and input from previous layer as Query\n",
        "    attn2, attn_weights_block2 = self.mha2(\n",
        "        enc_output, enc_output, out1, padding_mask)\n",
        "    attn2 = self.dropout2(attn2, training=training)\n",
        "    # again add residual connection\n",
        "    out2 = self.layernorm2(attn2 + out1)\n",
        "    \n",
        "    # Feedforward layer\n",
        "    ffn_output = self.ffn(out2)\n",
        "    ffn_output = self.dropout3(ffn_output, training=training)\n",
        "    # again add residual connection\n",
        "    out3 = self.layernorm3(ffn_output + out2)\n",
        "    return out3, attn_weights_block1, attn_weights_block2"
      ],
      "execution_count": null,
      "outputs": []
    },
    {
      "cell_type": "code",
      "metadata": {
        "id": "7DLuDkYPKxBl"
      },
      "source": [
        "class Decoder(tf.keras.layers.Layer):\n",
        "  def __init__(self, num_layers, d_model, num_heads, dff, target_vocab_size,\n",
        "               maximum_position_encoding, rate=0.1):\n",
        "    super(Decoder, self).__init__()\n",
        "\n",
        "    self.d_model = d_model\n",
        "    self.num_layers = num_layers\n",
        "     \n",
        "    self.embedding = tf.keras.layers.Embedding(target_vocab_size, d_model)\n",
        "    self.pos_encoding = positional_encoding(maximum_position_encoding, d_model)\n",
        "    \n",
        "    # Create decoder layers (count: num_layers)\n",
        "    self.dec_layers = [DecoderLayer(d_model, num_heads, dff, rate) \n",
        "                       for _ in range(num_layers)]\n",
        "    self.dropout = tf.keras.layers.Dropout(rate)\n",
        "    \n",
        "  def call(self, x, enc_output, training, \n",
        "           look_ahead_mask, padding_mask):\n",
        "\n",
        "    seq_len = tf.shape(x)[1]\n",
        "    attention_weights = {}\n",
        "    \n",
        "    x = self.embedding(x)  # (batch_size, target_seq_len, d_model)\n",
        "    \n",
        "    x *= tf.math.sqrt(tf.cast(self.d_model, tf.float32))\n",
        "    \n",
        "    x += self.pos_encoding[:,:seq_len,:]\n",
        "    \n",
        "    x = self.dropout(x, training=training)\n",
        "\n",
        "    for i in range(self.num_layers):\n",
        "      x, block1, block2 = self.dec_layers[i](x, enc_output, training,\n",
        "                                             look_ahead_mask, padding_mask)\n",
        "      \n",
        "      # store attenion weights, they can be used to visualize while translating\n",
        "      attention_weights['decoder_layer{}_block1'.format(i+1)] = block1\n",
        "      attention_weights['decoder_layer{}_block2'.format(i+1)] = block2\n",
        "    \n",
        "    return x, attention_weights"
      ],
      "execution_count": null,
      "outputs": []
    },
    {
      "cell_type": "code",
      "metadata": {
        "id": "ItkM-8BfK1M1"
      },
      "source": [
        "class Transformer(tf.keras.Model):\n",
        "  def __init__(self, num_layers, d_model, num_heads, dff, input_vocab_size, \n",
        "               target_vocab_size, pe_input, pe_target, rate=0.1):\n",
        "    super(Transformer, self).__init__()\n",
        "\n",
        "    self.encoder = Encoder(num_layers, d_model, num_heads, dff, \n",
        "                           input_vocab_size, pe_input, rate)\n",
        "\n",
        "    self.decoder = Decoder(num_layers, d_model, num_heads, dff, \n",
        "                           target_vocab_size, pe_target, rate)\n",
        "\n",
        "    self.final_layer = tf.keras.layers.Dense(target_vocab_size)\n",
        "    \n",
        "  def call(self, inp, tar, training, enc_padding_mask, \n",
        "           look_ahead_mask, dec_padding_mask):\n",
        "\n",
        "    # Pass the input to the encoder\n",
        "    enc_output = self.encoder(inp, training, enc_padding_mask)\n",
        "    \n",
        "    # Pass the encoder output to the decoder\n",
        "    dec_output, attention_weights = self.decoder(\n",
        "        tar, enc_output, training, look_ahead_mask, dec_padding_mask)\n",
        "    \n",
        "    # Pass the decoder output to the last linear layer\n",
        "    final_output = self.final_layer(dec_output)\n",
        "    \n",
        "    return final_output, attention_weights"
      ],
      "execution_count": null,
      "outputs": []
    },
    {
      "cell_type": "code",
      "metadata": {
        "id": "f00AOjJ6K5yL"
      },
      "source": [
        "class CustomSchedule(tf.keras.optimizers.schedules.LearningRateSchedule):\n",
        "  def __init__(self, d_model, warmup_steps=4000):\n",
        "    super(CustomSchedule, self).__init__()\n",
        "    \n",
        "    self.d_model = d_model\n",
        "    self.d_model = tf.cast(self.d_model, tf.float32)\n",
        "\n",
        "    self.warmup_steps = warmup_steps\n",
        "    \n",
        "  def __call__(self, step):\n",
        "    arg1 = tf.math.rsqrt(step)\n",
        "    arg2 = step * (self.warmup_steps ** -1.5)\n",
        "    \n",
        "    return tf.math.rsqrt(self.d_model) * tf.math.minimum(arg1, arg2)"
      ],
      "execution_count": null,
      "outputs": []
    },
    {
      "cell_type": "code",
      "metadata": {
        "id": "ajmpA6shK-97"
      },
      "source": [
        "learning_rate = CustomSchedule(d_model)\n",
        "\n",
        "# Adam optimizer with a custom learning rate\n",
        "optimizer = tf.keras.optimizers.Adam(learning_rate, beta_1=0.9, beta_2=0.98, \n",
        "                                     epsilon=1e-9)"
      ],
      "execution_count": null,
      "outputs": []
    },
    {
      "cell_type": "code",
      "metadata": {
        "id": "uAtLLtZ0LCRy"
      },
      "source": [
        "loss_object = tf.keras.losses.SparseCategoricalCrossentropy(\n",
        "    from_logits=True, reduction='none')"
      ],
      "execution_count": null,
      "outputs": []
    },
    {
      "cell_type": "code",
      "metadata": {
        "id": "OOJBughyLGAq"
      },
      "source": [
        "def loss_function(real, pred):\n",
        "  # Apply a mask to paddings (0)\n",
        "  mask = tf.math.logical_not(tf.math.equal(real, 0))\n",
        "  loss_ = loss_object(real, pred)\n",
        "\n",
        "  mask = tf.cast(mask, dtype=loss_.dtype)\n",
        "  loss_ *= mask\n",
        "  \n",
        "  return tf.reduce_mean(loss_)"
      ],
      "execution_count": null,
      "outputs": []
    },
    {
      "cell_type": "code",
      "metadata": {
        "id": "DTM8Qh9pLIh4"
      },
      "source": [
        "train_loss = tf.keras.metrics.Mean(name='train_loss')\n",
        "train_accuracy = tf.keras.metrics.SparseCategoricalAccuracy(\n",
        "    name='train_accuracy')"
      ],
      "execution_count": null,
      "outputs": []
    },
    {
      "cell_type": "code",
      "metadata": {
        "id": "2V5neYLWLLxu"
      },
      "source": [
        "transformer = Transformer(num_layers, d_model, num_heads, dff,\n",
        "                          input_vocab_size, target_vocab_size, \n",
        "                          pe_input=input_vocab_size, \n",
        "                          pe_target=target_vocab_size,\n",
        "                          rate=dropout_rate)"
      ],
      "execution_count": null,
      "outputs": []
    },
    {
      "cell_type": "code",
      "metadata": {
        "id": "ALB0zLoULRGS"
      },
      "source": [
        "def create_masks(inp, tar):\n",
        "  enc_padding_mask = create_padding_mask(inp)\n",
        "\n",
        "  dec_padding_mask = create_padding_mask(inp)\n",
        "  \n",
        "  look_ahead_mask = create_look_ahead_mask(tf.shape(tar)[1])\n",
        "  dec_target_padding_mask = create_padding_mask(tar)\n",
        "  combined_mask = tf.maximum(dec_target_padding_mask, look_ahead_mask)\n",
        "  \n",
        "  return enc_padding_mask, combined_mask, dec_padding_mask"
      ],
      "execution_count": null,
      "outputs": []
    },
    {
      "cell_type": "code",
      "metadata": {
        "colab": {
          "base_uri": "https://localhost:8080/"
        },
        "id": "TqzlPPiOLSHH",
        "outputId": "3f1877ac-66d3-4449-c8b2-7c3ea0c3a947"
      },
      "source": [
        "checkpoint_dir = os.path.join(drive_root, \"ADL Project/checkpoints\")\n",
        "checkpoint_dir = os.path.join(checkpoint_dir, \"training_checkpoints/akshata_transfomer\")\n",
        "\n",
        "print(\"Checkpoints directory is\", checkpoint_dir)\n",
        "if os.path.exists(checkpoint_dir):\n",
        "  print(\"Checkpoints folder already exists\")\n",
        "else:\n",
        "  print(\"Creating a checkpoints directory\")\n",
        "  os.makedirs(checkpoint_dir)\n",
        "\n",
        "\n",
        "checkpoint = tf.train.Checkpoint(transformer=transformer,\n",
        "                           optimizer=optimizer)\n",
        "\n",
        "ckpt_manager = tf.train.CheckpointManager(checkpoint, checkpoint_dir, max_to_keep=5)"
      ],
      "execution_count": null,
      "outputs": [
        {
          "output_type": "stream",
          "text": [
            "Checkpoints directory is /gdrive/My Drive/ADL Project/checkpoints/training_checkpoints/akshata_transfomer\n",
            "Creating a checkpoints directory\n"
          ],
          "name": "stdout"
        }
      ]
    },
    {
      "cell_type": "code",
      "metadata": {
        "id": "nGXcEeYULV4b"
      },
      "source": [
        "\n",
        "latest = ckpt_manager.latest_checkpoint\n",
        "latest"
      ],
      "execution_count": null,
      "outputs": []
    },
    {
      "cell_type": "code",
      "metadata": {
        "id": "38sAKxQRLdaq"
      },
      "source": [
        "if latest:\n",
        "  epoch_num = int(latest.split('/')[-1].split('-')[-1])\n",
        "  checkpoint.restore(latest)\n",
        "  print ('Latest checkpoint restored!!')\n",
        "else:\n",
        "  epoch_num = 0"
      ],
      "execution_count": null,
      "outputs": []
    },
    {
      "cell_type": "code",
      "metadata": {
        "colab": {
          "base_uri": "https://localhost:8080/"
        },
        "id": "m3Uf680jLgAq",
        "outputId": "d648bd2d-e463-453a-d7fe-b9c427ee3d48"
      },
      "source": [
        "\n",
        "epoch_num"
      ],
      "execution_count": null,
      "outputs": [
        {
          "output_type": "execute_result",
          "data": {
            "text/plain": [
              "0"
            ]
          },
          "metadata": {
            "tags": []
          },
          "execution_count": 60
        }
      ]
    },
    {
      "cell_type": "code",
      "metadata": {
        "id": "wpUAG--4Lh-_"
      },
      "source": [
        "EPOCHS = 5\n",
        "\n",
        "def train_step(inp, tar):\n",
        "  tar_inp = tar[:, :-1]\n",
        "  tar_real = tar[:, 1:]\n",
        "  \n",
        "  enc_padding_mask, combined_mask, dec_padding_mask = create_masks(inp, tar_inp)\n",
        "  \n",
        "  with tf.GradientTape() as tape:\n",
        "    predictions, _ = transformer(inp, tar_inp, \n",
        "                                 True, \n",
        "                                 enc_padding_mask, \n",
        "                                 combined_mask, \n",
        "                                 dec_padding_mask)\n",
        "    loss = loss_function(tar_real, predictions)\n",
        "\n",
        "  gradients = tape.gradient(loss, transformer.trainable_variables)    \n",
        "  optimizer.apply_gradients(zip(gradients, transformer.trainable_variables))\n",
        "  \n",
        "  train_loss(loss)\n",
        "  train_accuracy(tar_real, predictions)"
      ],
      "execution_count": null,
      "outputs": []
    },
    {
      "cell_type": "code",
      "metadata": {
        "colab": {
          "base_uri": "https://localhost:8080/"
        },
        "id": "9I72_yoQLoKw",
        "outputId": "1808ca72-12d6-4130-a94d-15c1f9950fb0"
      },
      "source": [
        "for epoch in range(epoch_num, EPOCHS):\n",
        "  start = time.time()\n",
        "  \n",
        "  train_loss.reset_states()\n",
        "  train_accuracy.reset_states()\n",
        "  \n",
        "  # inp -> question, tar -> equation\n",
        "  for (batch, (inp, tar)) in enumerate(dataset):\n",
        "    train_step(inp, tar)\n",
        "    \n",
        "    if batch % 50 == 0:\n",
        "      print ('Epoch {} Batch {} Loss {:.4f} Accuracy {:.4f}'.format(\n",
        "          epoch + 1, batch, train_loss.result(), train_accuracy.result()))\n",
        "      \n",
        "  ckpt_save_path = ckpt_manager.save()\n",
        "  print ('Saving checkpoint for epoch {} at {}'.format(epoch+1,\n",
        "                                                         ckpt_save_path))\n",
        "    \n",
        "  print ('Epoch {} Loss {:.4f} Accuracy {:.4f}'.format(epoch + 1, \n",
        "                                                train_loss.result(), \n",
        "                                                train_accuracy.result()))\n",
        "\n",
        "  print ('Time taken for 1 epoch: {} secs\\n'.format(time.time() - start))"
      ],
      "execution_count": null,
      "outputs": [
        {
          "output_type": "stream",
          "text": [
            "Epoch 1 Batch 0 Loss 0.6972 Accuracy 0.0000\n",
            "Epoch 1 Batch 50 Loss 0.5988 Accuracy 0.0090\n",
            "Epoch 1 Batch 100 Loss 0.5045 Accuracy 0.0215\n",
            "Epoch 1 Batch 150 Loss 0.4312 Accuracy 0.0336\n",
            "Epoch 1 Batch 200 Loss 0.3794 Accuracy 0.0431\n",
            "Epoch 1 Batch 250 Loss 0.3398 Accuracy 0.0509\n",
            "Epoch 1 Batch 300 Loss 0.3071 Accuracy 0.0575\n",
            "Epoch 1 Batch 350 Loss 0.2806 Accuracy 0.0628\n",
            "Epoch 1 Batch 400 Loss 0.2586 Accuracy 0.0675\n",
            "Epoch 1 Batch 450 Loss 0.2403 Accuracy 0.0716\n",
            "Epoch 1 Batch 500 Loss 0.2242 Accuracy 0.0751\n",
            "Epoch 1 Batch 550 Loss 0.2109 Accuracy 0.0781\n",
            "Saving checkpoint for epoch 1 at /gdrive/My Drive/ADL Project/checkpoints/training_checkpoints/akshata_transfomer/ckpt-1\n",
            "Epoch 1 Loss 0.2072 Accuracy 0.0789\n",
            "Time taken for 1 epoch: 1812.0370376110077 secs\n",
            "\n",
            "Epoch 2 Batch 0 Loss 0.0523 Accuracy 0.1147\n",
            "Epoch 2 Batch 50 Loss 0.0649 Accuracy 0.1096\n",
            "Epoch 2 Batch 100 Loss 0.0638 Accuracy 0.1107\n",
            "Epoch 2 Batch 150 Loss 0.0622 Accuracy 0.1113\n",
            "Epoch 2 Batch 200 Loss 0.0610 Accuracy 0.1118\n",
            "Epoch 2 Batch 250 Loss 0.0593 Accuracy 0.1123\n",
            "Epoch 2 Batch 300 Loss 0.0577 Accuracy 0.1129\n",
            "Epoch 2 Batch 350 Loss 0.0558 Accuracy 0.1135\n",
            "Epoch 2 Batch 400 Loss 0.0547 Accuracy 0.1140\n",
            "Epoch 2 Batch 450 Loss 0.0528 Accuracy 0.1149\n",
            "Epoch 2 Batch 500 Loss 0.0513 Accuracy 0.1155\n",
            "Epoch 2 Batch 550 Loss 0.0502 Accuracy 0.1160\n",
            "Saving checkpoint for epoch 2 at /gdrive/My Drive/ADL Project/checkpoints/training_checkpoints/akshata_transfomer/ckpt-2\n",
            "Epoch 2 Loss 0.0497 Accuracy 0.1162\n",
            "Time taken for 1 epoch: 1796.6796095371246 secs\n",
            "\n",
            "Epoch 3 Batch 0 Loss 0.0303 Accuracy 0.1212\n",
            "Epoch 3 Batch 50 Loss 0.0246 Accuracy 0.1246\n",
            "Epoch 3 Batch 100 Loss 0.0259 Accuracy 0.1250\n",
            "Epoch 3 Batch 150 Loss 0.0261 Accuracy 0.1250\n",
            "Epoch 3 Batch 200 Loss 0.0250 Accuracy 0.1252\n",
            "Epoch 3 Batch 250 Loss 0.0242 Accuracy 0.1254\n",
            "Epoch 3 Batch 300 Loss 0.0238 Accuracy 0.1256\n",
            "Epoch 3 Batch 350 Loss 0.0234 Accuracy 0.1257\n",
            "Epoch 3 Batch 400 Loss 0.0229 Accuracy 0.1259\n",
            "Epoch 3 Batch 450 Loss 0.0222 Accuracy 0.1261\n",
            "Epoch 3 Batch 500 Loss 0.0218 Accuracy 0.1262\n",
            "Epoch 3 Batch 550 Loss 0.0216 Accuracy 0.1264\n",
            "Saving checkpoint for epoch 3 at /gdrive/My Drive/ADL Project/checkpoints/training_checkpoints/akshata_transfomer/ckpt-3\n",
            "Epoch 3 Loss 0.0216 Accuracy 0.1264\n",
            "Time taken for 1 epoch: 1803.71240568161 secs\n",
            "\n",
            "Epoch 4 Batch 0 Loss 0.0029 Accuracy 0.1262\n",
            "Epoch 4 Batch 50 Loss 0.0151 Accuracy 0.1289\n",
            "Epoch 4 Batch 100 Loss 0.0172 Accuracy 0.1285\n",
            "Epoch 4 Batch 150 Loss 0.0164 Accuracy 0.1279\n",
            "Epoch 4 Batch 200 Loss 0.0168 Accuracy 0.1280\n",
            "Epoch 4 Batch 250 Loss 0.0167 Accuracy 0.1278\n",
            "Epoch 4 Batch 300 Loss 0.0166 Accuracy 0.1279\n",
            "Epoch 4 Batch 350 Loss 0.0168 Accuracy 0.1279\n",
            "Epoch 4 Batch 400 Loss 0.0165 Accuracy 0.1280\n",
            "Epoch 4 Batch 450 Loss 0.0165 Accuracy 0.1280\n",
            "Epoch 4 Batch 500 Loss 0.0166 Accuracy 0.1281\n",
            "Epoch 4 Batch 550 Loss 0.0164 Accuracy 0.1280\n",
            "Saving checkpoint for epoch 4 at /gdrive/My Drive/ADL Project/checkpoints/training_checkpoints/akshata_transfomer/ckpt-4\n",
            "Epoch 4 Loss 0.0164 Accuracy 0.1280\n",
            "Time taken for 1 epoch: 1801.8526604175568 secs\n",
            "\n",
            "Epoch 5 Batch 0 Loss 0.0076 Accuracy 0.1272\n",
            "Epoch 5 Batch 50 Loss 0.0113 Accuracy 0.1278\n",
            "Epoch 5 Batch 100 Loss 0.0113 Accuracy 0.1284\n",
            "Epoch 5 Batch 150 Loss 0.0130 Accuracy 0.1286\n",
            "Epoch 5 Batch 200 Loss 0.0132 Accuracy 0.1286\n",
            "Epoch 5 Batch 250 Loss 0.0146 Accuracy 0.1286\n",
            "Epoch 5 Batch 300 Loss 0.0144 Accuracy 0.1285\n",
            "Epoch 5 Batch 350 Loss 0.0143 Accuracy 0.1285\n",
            "Epoch 5 Batch 400 Loss 0.0146 Accuracy 0.1285\n",
            "Epoch 5 Batch 450 Loss 0.0147 Accuracy 0.1286\n",
            "Epoch 5 Batch 500 Loss 0.0146 Accuracy 0.1286\n",
            "Epoch 5 Batch 550 Loss 0.0145 Accuracy 0.1286\n",
            "Saving checkpoint for epoch 5 at /gdrive/My Drive/ADL Project/checkpoints/training_checkpoints/akshata_transfomer/ckpt-5\n",
            "Epoch 5 Loss 0.0144 Accuracy 0.1286\n",
            "Time taken for 1 epoch: 1802.6537148952484 secs\n",
            "\n"
          ],
          "name": "stdout"
        }
      ]
    },
    {
      "cell_type": "code",
      "metadata": {
        "id": "8UUS986-n1Ra"
      },
      "source": [
        "def evaluate(inp_sentence):\n",
        "  start_token = [len(inp_lang_tokenizer.word_index)+1]\n",
        "  end_token = [len(inp_lang_tokenizer.word_index)+2]\n",
        "  inp_sentence = start_token + [inp_lang_tokenizer.word_index[i] for i in preprocess_input(inp_sentence).split(' ')]+end_token\n",
        "  encoder_input = tf.expand_dims(inp_sentence, 0)\n",
        "\n",
        "  decoder_input = [old_len+1]\n",
        "  output = tf.expand_dims(decoder_input, 0)\n",
        "    \n",
        "  for i in range(MAX_LENGTH):\n",
        "    enc_padding_mask, combined_mask, dec_padding_mask = create_masks(\n",
        "        encoder_input, output)\n",
        "  \n",
        "    predictions, attention_weights = transformer(encoder_input,output,False,enc_padding_mask,combined_mask,dec_padding_mask)                                                \n",
        "    predictions = predictions[: ,-1:, :] \n",
        "    predicted_id = tf.cast(tf.argmax(predictions, axis=-1), tf.int32)\n",
        "    if predicted_id == old_len+2:\n",
        "      return tf.squeeze(output, axis=0), attention_weights\n",
        "    output = tf.concat([output, predicted_id], axis=-1)\n",
        "  return tf.squeeze(output, axis=0), attention_weights"
      ],
      "execution_count": null,
      "outputs": []
    },
    {
      "cell_type": "code",
      "metadata": {
        "id": "4rfEZBHOpmzZ"
      },
      "source": [
        "def plot_attention_weights(attention, sentence, result, layer):\n",
        "  fig = plt.figure(figsize=(16, 8))\n",
        "  \n",
        "  sentence = preprocess_input(sentence)\n",
        "  \n",
        "  attention = tf.squeeze(attention[layer], axis=0)\n",
        "  \n",
        "  for head in range(attention.shape[0]):\n",
        "    ax = fig.add_subplot(2, 4, head+1)\n",
        "    \n",
        "    # plot the attention weights\n",
        "    ax.matshow(attention[head][:-1, :], cmap='viridis')\n",
        "    \n",
        "    fontdict = {'fontsize': 10}\n",
        "    \n",
        "    ax.set_xticks(range(len(sentence.split(' '))+2))\n",
        "    ax.set_yticks(range(len([targ_lang_tokenizer.index_word[i] for i in list(result.numpy()) \n",
        "                        if i < len(targ_lang_tokenizer.word_index) and i not in [0,old_len+1,old_len+2]])+3))\n",
        "    \n",
        "    \n",
        "    ax.set_ylim(len([targ_lang_tokenizer.index_word[i] for i in list(result.numpy()) \n",
        "                        if i < len(targ_lang_tokenizer.word_index) and i not in [0,old_len+1,old_len+2]]), -0.5)\n",
        "        \n",
        "    ax.set_xticklabels(\n",
        "        ['<start>']+sentence.split(' ')+['<end>'], \n",
        "        fontdict=fontdict, rotation=90)\n",
        "    \n",
        "    ax.set_yticklabels([targ_lang_tokenizer.index_word[i] for i in list(result.numpy()) \n",
        "                        if i < len(targ_lang_tokenizer.word_index) and i not in [0,old_len+1,old_len+2]], \n",
        "                       fontdict=fontdict)\n",
        "    \n",
        "    ax.set_xlabel('Head {}'.format(head+1))\n",
        "  \n",
        "  plt.tight_layout()\n",
        "  plt.show()"
      ],
      "execution_count": null,
      "outputs": []
    },
    {
      "cell_type": "code",
      "metadata": {
        "id": "LjckNdMXprGx"
      },
      "source": [
        "MAX_LENGTH = 40"
      ],
      "execution_count": null,
      "outputs": []
    },
    {
      "cell_type": "code",
      "metadata": {
        "id": "Vq3T275QpucY"
      },
      "source": [
        "def translate(sentence, plot=''):\n",
        "  result, attention_weights = evaluate(sentence)\n",
        "  predicted_sentence = [targ_lang_tokenizer.index_word[i] for i in list(result.numpy()) if (i < len(targ_lang_tokenizer.word_index) and i not in [0,46,47])]  \n",
        "\n",
        "  print('Input: {}'.format(sentence))\n",
        "  print('Predicted translation: {}'.format(' '.join(predicted_sentence)))\n",
        "  \n",
        "  if plot:\n",
        "    plot_attention_weights(attention_weights, sentence, result, plot)"
      ],
      "execution_count": null,
      "outputs": []
    },
    {
      "cell_type": "code",
      "metadata": {
        "id": "MxKm9koNpyXc"
      },
      "source": [
        "def evaluate_results(inp_sentence):\n",
        "  start_token = [len(inp_lang_tokenizer.word_index)+1]\n",
        "  end_token = [len(inp_lang_tokenizer.word_index)+2]\n",
        "  \n",
        "  # inp sentence is the word problem, hence adding the start and end token\n",
        "  inp_sentence = start_token + list(inp_sentence.numpy()[0]) + end_token\n",
        "  \n",
        "  encoder_input = tf.expand_dims(inp_sentence, 0)\n",
        "  \n",
        "  \n",
        "  decoder_input = [old_len+1]\n",
        "  output = tf.expand_dims(decoder_input, 0)\n",
        "    \n",
        "  for i in range(MAX_LENGTH):\n",
        "    enc_padding_mask, combined_mask, dec_padding_mask = create_masks(\n",
        "        encoder_input, output)\n",
        "  \n",
        "    # predictions.shape == (batch_size, seq_len, vocab_size)\n",
        "    predictions, attention_weights = transformer(encoder_input, \n",
        "                                                 output,\n",
        "                                                 False,\n",
        "                                                 enc_padding_mask,\n",
        "                                                 combined_mask,\n",
        "                                                 dec_padding_mask)\n",
        "    \n",
        "    # select the last word from the seq_len dimension\n",
        "    predictions = predictions[: ,-1:, :]  # (batch_size, 1, vocab_size)\n",
        "\n",
        "    predicted_id = tf.cast(tf.argmax(predictions, axis=-1), tf.int32)\n",
        "    \n",
        "    # return the result if the predicted_id is equal to the end token\n",
        "    if predicted_id == old_len+2:\n",
        "      return tf.squeeze(output, axis=0), attention_weights\n",
        "    \n",
        "    # concatentate the predicted_id to the output which is given to the decoder\n",
        "    # as its input.\n",
        "    output = tf.concat([output, predicted_id], axis=-1)\n",
        "\n",
        "  return tf.squeeze(output, axis=0), attention_weights"
      ],
      "execution_count": null,
      "outputs": []
    },
    {
      "cell_type": "code",
      "metadata": {
        "id": "FRQV-edgp3ZZ"
      },
      "source": [
        "dataset_val = tf.data.Dataset.from_tensor_slices((input_tensor_val, target_tensor_val)).shuffle(BUFFER_SIZE)\n",
        "dataset_val = dataset_val.batch(1, drop_remainder=True)"
      ],
      "execution_count": null,
      "outputs": []
    },
    {
      "cell_type": "code",
      "metadata": {
        "colab": {
          "base_uri": "https://localhost:8080/"
        },
        "id": "cKRscPmcp6wi",
        "outputId": "e9cfe4dc-9df8-43d3-8aa2-fb8efcd7912c"
      },
      "source": [
        "y_true = []\n",
        "y_pred = []\n",
        "acc_cnt = 0\n",
        "\n",
        "a = 0\n",
        "for (inp_val_batch, target_val_batch) in iter(dataset_val):\n",
        "  a += 1\n",
        "  if a % 10 == 0:\n",
        "    print(a)\n",
        "    print(\"Accuracy count: \",acc_cnt)\n",
        "    print('------------------')\n",
        "  target_sentence = ''\n",
        "  for i in target_val_batch.numpy()[0]:\n",
        "    if i not in [0,old_len+1,old_len+2]:\n",
        "      target_sentence += (targ_lang_tokenizer.index_word[i] + ' ')\n",
        "  \n",
        "  y_true.append([target_sentence.split(' ')[:-1]])\n",
        "  \n",
        "  result, _ = evaluate_results(inp_val_batch)\n",
        "  predicted_sentence = [targ_lang_tokenizer.index_word[i] for i in list(result.numpy()) if (i < len(targ_lang_tokenizer.word_index) and i not in [0,old_len+1,old_len+2])] \n",
        "  y_pred.append(predicted_sentence)\n",
        "  \n",
        "  if target_sentence.split(' ')[:-1] == predicted_sentence:\n",
        "    acc_cnt += 1"
      ],
      "execution_count": null,
      "outputs": [
        {
          "output_type": "stream",
          "text": [
            "10\n",
            "Accuracy count:  6\n",
            "------------------\n",
            "20\n",
            "Accuracy count:  9\n",
            "------------------\n",
            "30\n",
            "Accuracy count:  17\n",
            "------------------\n",
            "40\n",
            "Accuracy count:  23\n",
            "------------------\n",
            "50\n",
            "Accuracy count:  31\n",
            "------------------\n",
            "60\n",
            "Accuracy count:  39\n",
            "------------------\n",
            "70\n",
            "Accuracy count:  46\n",
            "------------------\n",
            "80\n",
            "Accuracy count:  53\n",
            "------------------\n",
            "90\n",
            "Accuracy count:  59\n",
            "------------------\n",
            "100\n",
            "Accuracy count:  64\n",
            "------------------\n",
            "110\n",
            "Accuracy count:  71\n",
            "------------------\n",
            "120\n",
            "Accuracy count:  79\n",
            "------------------\n",
            "130\n",
            "Accuracy count:  87\n",
            "------------------\n",
            "140\n",
            "Accuracy count:  93\n",
            "------------------\n",
            "150\n",
            "Accuracy count:  98\n",
            "------------------\n",
            "160\n",
            "Accuracy count:  105\n",
            "------------------\n",
            "170\n",
            "Accuracy count:  112\n",
            "------------------\n",
            "180\n",
            "Accuracy count:  119\n",
            "------------------\n",
            "190\n",
            "Accuracy count:  127\n",
            "------------------\n",
            "200\n",
            "Accuracy count:  134\n",
            "------------------\n",
            "210\n",
            "Accuracy count:  141\n",
            "------------------\n",
            "220\n",
            "Accuracy count:  148\n",
            "------------------\n",
            "230\n",
            "Accuracy count:  156\n",
            "------------------\n",
            "240\n",
            "Accuracy count:  160\n",
            "------------------\n",
            "250\n",
            "Accuracy count:  167\n",
            "------------------\n",
            "260\n",
            "Accuracy count:  174\n",
            "------------------\n",
            "270\n",
            "Accuracy count:  179\n",
            "------------------\n",
            "280\n",
            "Accuracy count:  187\n",
            "------------------\n",
            "290\n",
            "Accuracy count:  193\n",
            "------------------\n",
            "300\n",
            "Accuracy count:  199\n",
            "------------------\n",
            "310\n",
            "Accuracy count:  204\n",
            "------------------\n",
            "320\n",
            "Accuracy count:  209\n",
            "------------------\n",
            "330\n",
            "Accuracy count:  214\n",
            "------------------\n",
            "340\n",
            "Accuracy count:  222\n",
            "------------------\n",
            "350\n",
            "Accuracy count:  232\n",
            "------------------\n",
            "360\n",
            "Accuracy count:  240\n",
            "------------------\n",
            "370\n",
            "Accuracy count:  249\n",
            "------------------\n",
            "380\n",
            "Accuracy count:  256\n",
            "------------------\n",
            "390\n",
            "Accuracy count:  260\n",
            "------------------\n",
            "400\n",
            "Accuracy count:  267\n",
            "------------------\n",
            "410\n",
            "Accuracy count:  273\n",
            "------------------\n",
            "420\n",
            "Accuracy count:  280\n",
            "------------------\n",
            "430\n",
            "Accuracy count:  287\n",
            "------------------\n",
            "440\n",
            "Accuracy count:  294\n",
            "------------------\n",
            "450\n",
            "Accuracy count:  301\n",
            "------------------\n",
            "460\n",
            "Accuracy count:  309\n",
            "------------------\n",
            "470\n",
            "Accuracy count:  315\n",
            "------------------\n",
            "480\n",
            "Accuracy count:  320\n",
            "------------------\n",
            "490\n",
            "Accuracy count:  326\n",
            "------------------\n",
            "500\n",
            "Accuracy count:  333\n",
            "------------------\n",
            "510\n",
            "Accuracy count:  339\n",
            "------------------\n",
            "520\n",
            "Accuracy count:  346\n",
            "------------------\n",
            "530\n",
            "Accuracy count:  352\n",
            "------------------\n",
            "540\n",
            "Accuracy count:  359\n",
            "------------------\n",
            "550\n",
            "Accuracy count:  366\n",
            "------------------\n",
            "560\n",
            "Accuracy count:  372\n",
            "------------------\n",
            "570\n",
            "Accuracy count:  376\n",
            "------------------\n",
            "580\n",
            "Accuracy count:  384\n",
            "------------------\n",
            "590\n",
            "Accuracy count:  391\n",
            "------------------\n",
            "600\n",
            "Accuracy count:  397\n",
            "------------------\n",
            "610\n",
            "Accuracy count:  402\n",
            "------------------\n",
            "620\n",
            "Accuracy count:  410\n",
            "------------------\n",
            "630\n",
            "Accuracy count:  417\n",
            "------------------\n",
            "640\n",
            "Accuracy count:  424\n",
            "------------------\n",
            "650\n",
            "Accuracy count:  431\n",
            "------------------\n",
            "660\n",
            "Accuracy count:  440\n",
            "------------------\n",
            "670\n",
            "Accuracy count:  447\n",
            "------------------\n",
            "680\n",
            "Accuracy count:  451\n",
            "------------------\n",
            "690\n",
            "Accuracy count:  457\n",
            "------------------\n",
            "700\n",
            "Accuracy count:  462\n",
            "------------------\n",
            "710\n",
            "Accuracy count:  468\n",
            "------------------\n",
            "720\n",
            "Accuracy count:  469\n",
            "------------------\n",
            "730\n",
            "Accuracy count:  477\n",
            "------------------\n",
            "740\n",
            "Accuracy count:  484\n",
            "------------------\n",
            "750\n",
            "Accuracy count:  489\n",
            "------------------\n",
            "760\n",
            "Accuracy count:  496\n",
            "------------------\n",
            "770\n",
            "Accuracy count:  504\n",
            "------------------\n",
            "780\n",
            "Accuracy count:  511\n",
            "------------------\n",
            "790\n",
            "Accuracy count:  517\n",
            "------------------\n",
            "800\n",
            "Accuracy count:  524\n",
            "------------------\n",
            "810\n",
            "Accuracy count:  531\n",
            "------------------\n",
            "820\n",
            "Accuracy count:  538\n",
            "------------------\n",
            "830\n",
            "Accuracy count:  541\n",
            "------------------\n",
            "840\n",
            "Accuracy count:  549\n",
            "------------------\n",
            "850\n",
            "Accuracy count:  558\n",
            "------------------\n",
            "860\n",
            "Accuracy count:  566\n",
            "------------------\n",
            "870\n",
            "Accuracy count:  572\n",
            "------------------\n",
            "880\n",
            "Accuracy count:  580\n",
            "------------------\n",
            "890\n",
            "Accuracy count:  585\n",
            "------------------\n",
            "900\n",
            "Accuracy count:  592\n",
            "------------------\n",
            "910\n",
            "Accuracy count:  601\n",
            "------------------\n",
            "920\n",
            "Accuracy count:  607\n",
            "------------------\n",
            "930\n",
            "Accuracy count:  613\n",
            "------------------\n",
            "940\n",
            "Accuracy count:  620\n",
            "------------------\n",
            "950\n",
            "Accuracy count:  627\n",
            "------------------\n",
            "960\n",
            "Accuracy count:  634\n",
            "------------------\n",
            "970\n",
            "Accuracy count:  642\n",
            "------------------\n",
            "980\n",
            "Accuracy count:  648\n",
            "------------------\n",
            "990\n",
            "Accuracy count:  655\n",
            "------------------\n",
            "1000\n",
            "Accuracy count:  663\n",
            "------------------\n",
            "1010\n",
            "Accuracy count:  670\n",
            "------------------\n",
            "1020\n",
            "Accuracy count:  674\n",
            "------------------\n",
            "1030\n",
            "Accuracy count:  681\n",
            "------------------\n",
            "1040\n",
            "Accuracy count:  688\n",
            "------------------\n",
            "1050\n",
            "Accuracy count:  693\n",
            "------------------\n",
            "1060\n",
            "Accuracy count:  700\n",
            "------------------\n",
            "1070\n",
            "Accuracy count:  707\n",
            "------------------\n",
            "1080\n",
            "Accuracy count:  715\n",
            "------------------\n",
            "1090\n",
            "Accuracy count:  723\n",
            "------------------\n",
            "1100\n",
            "Accuracy count:  731\n",
            "------------------\n",
            "1110\n",
            "Accuracy count:  736\n",
            "------------------\n",
            "1120\n",
            "Accuracy count:  742\n",
            "------------------\n",
            "1130\n",
            "Accuracy count:  750\n",
            "------------------\n",
            "1140\n",
            "Accuracy count:  754\n",
            "------------------\n",
            "1150\n",
            "Accuracy count:  761\n",
            "------------------\n",
            "1160\n",
            "Accuracy count:  769\n",
            "------------------\n",
            "1170\n",
            "Accuracy count:  775\n",
            "------------------\n",
            "1180\n",
            "Accuracy count:  783\n",
            "------------------\n",
            "1190\n",
            "Accuracy count:  791\n",
            "------------------\n",
            "1200\n",
            "Accuracy count:  798\n",
            "------------------\n",
            "1210\n",
            "Accuracy count:  807\n",
            "------------------\n",
            "1220\n",
            "Accuracy count:  815\n",
            "------------------\n",
            "1230\n",
            "Accuracy count:  823\n",
            "------------------\n",
            "1240\n",
            "Accuracy count:  832\n",
            "------------------\n",
            "1250\n",
            "Accuracy count:  841\n",
            "------------------\n",
            "1260\n",
            "Accuracy count:  848\n",
            "------------------\n",
            "1270\n",
            "Accuracy count:  854\n",
            "------------------\n",
            "1280\n",
            "Accuracy count:  859\n",
            "------------------\n",
            "1290\n",
            "Accuracy count:  866\n",
            "------------------\n",
            "1300\n",
            "Accuracy count:  873\n",
            "------------------\n",
            "1310\n",
            "Accuracy count:  880\n",
            "------------------\n",
            "1320\n",
            "Accuracy count:  889\n",
            "------------------\n",
            "1330\n",
            "Accuracy count:  894\n",
            "------------------\n",
            "1340\n",
            "Accuracy count:  899\n",
            "------------------\n",
            "1350\n",
            "Accuracy count:  907\n",
            "------------------\n",
            "1360\n",
            "Accuracy count:  914\n",
            "------------------\n",
            "1370\n",
            "Accuracy count:  920\n",
            "------------------\n",
            "1380\n",
            "Accuracy count:  926\n",
            "------------------\n",
            "1390\n",
            "Accuracy count:  932\n",
            "------------------\n",
            "1400\n",
            "Accuracy count:  939\n",
            "------------------\n",
            "1410\n",
            "Accuracy count:  944\n",
            "------------------\n",
            "1420\n",
            "Accuracy count:  952\n",
            "------------------\n",
            "1430\n",
            "Accuracy count:  958\n",
            "------------------\n",
            "1440\n",
            "Accuracy count:  963\n",
            "------------------\n",
            "1450\n",
            "Accuracy count:  970\n",
            "------------------\n",
            "1460\n",
            "Accuracy count:  977\n",
            "------------------\n",
            "1470\n",
            "Accuracy count:  985\n",
            "------------------\n",
            "1480\n",
            "Accuracy count:  992\n",
            "------------------\n",
            "1490\n",
            "Accuracy count:  1001\n",
            "------------------\n",
            "1500\n",
            "Accuracy count:  1009\n",
            "------------------\n",
            "1510\n",
            "Accuracy count:  1016\n",
            "------------------\n",
            "1520\n",
            "Accuracy count:  1025\n",
            "------------------\n",
            "1530\n",
            "Accuracy count:  1033\n",
            "------------------\n",
            "1540\n",
            "Accuracy count:  1040\n",
            "------------------\n",
            "1550\n",
            "Accuracy count:  1046\n",
            "------------------\n",
            "1560\n",
            "Accuracy count:  1054\n",
            "------------------\n",
            "1570\n",
            "Accuracy count:  1062\n",
            "------------------\n",
            "1580\n",
            "Accuracy count:  1068\n",
            "------------------\n",
            "1590\n",
            "Accuracy count:  1076\n",
            "------------------\n",
            "1600\n",
            "Accuracy count:  1083\n",
            "------------------\n",
            "1610\n",
            "Accuracy count:  1090\n",
            "------------------\n",
            "1620\n",
            "Accuracy count:  1098\n",
            "------------------\n",
            "1630\n",
            "Accuracy count:  1101\n",
            "------------------\n",
            "1640\n",
            "Accuracy count:  1108\n",
            "------------------\n",
            "1650\n",
            "Accuracy count:  1113\n",
            "------------------\n",
            "1660\n",
            "Accuracy count:  1118\n",
            "------------------\n",
            "1670\n",
            "Accuracy count:  1128\n",
            "------------------\n",
            "1680\n",
            "Accuracy count:  1136\n",
            "------------------\n",
            "1690\n",
            "Accuracy count:  1143\n",
            "------------------\n",
            "1700\n",
            "Accuracy count:  1149\n",
            "------------------\n",
            "1710\n",
            "Accuracy count:  1157\n",
            "------------------\n",
            "1720\n",
            "Accuracy count:  1164\n",
            "------------------\n",
            "1730\n",
            "Accuracy count:  1171\n",
            "------------------\n",
            "1740\n",
            "Accuracy count:  1177\n",
            "------------------\n",
            "1750\n",
            "Accuracy count:  1182\n",
            "------------------\n",
            "1760\n",
            "Accuracy count:  1190\n",
            "------------------\n",
            "1770\n",
            "Accuracy count:  1198\n",
            "------------------\n",
            "1780\n",
            "Accuracy count:  1203\n",
            "------------------\n",
            "1790\n",
            "Accuracy count:  1210\n",
            "------------------\n",
            "1800\n",
            "Accuracy count:  1218\n",
            "------------------\n",
            "1810\n",
            "Accuracy count:  1226\n",
            "------------------\n",
            "1820\n",
            "Accuracy count:  1233\n",
            "------------------\n",
            "1830\n",
            "Accuracy count:  1240\n",
            "------------------\n",
            "1840\n",
            "Accuracy count:  1247\n",
            "------------------\n",
            "1850\n",
            "Accuracy count:  1254\n",
            "------------------\n",
            "1860\n",
            "Accuracy count:  1261\n",
            "------------------\n",
            "1870\n",
            "Accuracy count:  1267\n",
            "------------------\n",
            "1880\n",
            "Accuracy count:  1275\n",
            "------------------\n",
            "1890\n",
            "Accuracy count:  1282\n",
            "------------------\n",
            "1900\n",
            "Accuracy count:  1288\n",
            "------------------\n"
          ],
          "name": "stdout"
        }
      ]
    },
    {
      "cell_type": "code",
      "metadata": {
        "colab": {
          "base_uri": "https://localhost:8080/"
        },
        "id": "6bO7VORqp-ut",
        "outputId": "0b881030-e7e0-4c98-c9e8-79894e2519f1"
      },
      "source": [
        "len(y_true), len(y_pred)"
      ],
      "execution_count": null,
      "outputs": [
        {
          "output_type": "execute_result",
          "data": {
            "text/plain": [
              "(1908, 1908)"
            ]
          },
          "metadata": {
            "tags": []
          },
          "execution_count": 70
        }
      ]
    },
    {
      "cell_type": "code",
      "metadata": {
        "colab": {
          "base_uri": "https://localhost:8080/"
        },
        "id": "9xkjh4qCwVYH",
        "outputId": "6c646478-d47f-4b9b-887e-a39950c536c8"
      },
      "source": [
        "print('Corpus BLEU score of the model: ', corpus_bleu(y_true, y_pred))"
      ],
      "execution_count": null,
      "outputs": [
        {
          "output_type": "stream",
          "text": [
            "Corpus BLEU score of the model:  0.7999509244800305\n"
          ],
          "name": "stdout"
        }
      ]
    },
    {
      "cell_type": "code",
      "metadata": {
        "colab": {
          "base_uri": "https://localhost:8080/"
        },
        "id": "QFRFg7OswYQx",
        "outputId": "0f45f15b-eb54-4da0-c40c-5f3e820be0f7"
      },
      "source": [
        "print('Accuracy of the model: ', acc_cnt/len(input_tensor_val))"
      ],
      "execution_count": null,
      "outputs": [
        {
          "output_type": "stream",
          "text": [
            "Accuracy of the model:  0.6787211740041929\n"
          ],
          "name": "stdout"
        }
      ]
    },
    {
      "cell_type": "code",
      "metadata": {
        "id": "uN7V9i_9wbsQ"
      },
      "source": [
        "check_str = ' '.join([inp_lang_tokenizer.index_word[i] for i in input_tensor_val[242] if i not in [0,len(inp_lang_tokenizer.word_index)+1,len(inp_lang_tokenizer.word_index)+2]])"
      ],
      "execution_count": null,
      "outputs": []
    },
    {
      "cell_type": "code",
      "metadata": {
        "colab": {
          "base_uri": "https://localhost:8080/",
          "height": 35
        },
        "id": "UdVYNwZ6wgY4",
        "outputId": "83fd1d50-b517-4b3d-b5b6-1a6b93edd7f8"
      },
      "source": [
        "check_str"
      ],
      "execution_count": null,
      "outputs": [
        {
          "output_type": "execute_result",
          "data": {
            "application/vnd.google.colaboratory.intrinsic+json": {
              "type": "string"
            },
            "text/plain": [
              "'victor had some car . john took 3 0 from him . now victor has 6 8 car . how many car victor had originally ?'"
            ]
          },
          "metadata": {
            "tags": []
          },
          "execution_count": 74
        }
      ]
    },
    {
      "cell_type": "code",
      "metadata": {
        "colab": {
          "base_uri": "https://localhost:8080/",
          "height": 434
        },
        "id": "BFNLA2G7wjUg",
        "outputId": "09db3a79-e4e9-4511-fef2-1974444909a4"
      },
      "source": [
        "translate(check_str,plot='decoder_layer4_block2')"
      ],
      "execution_count": null,
      "outputs": [
        {
          "output_type": "stream",
          "text": [
            "Input: victor had some car . john took 3 0 from him . now victor has 6 8 car . how many car victor had originally ?\n",
            "Predicted translation: x = 6 8 + 3 0\n"
          ],
          "name": "stdout"
        },
        {
          "output_type": "display_data",
          "data": {
            "image/png": "[encoded data removed]",
            "text/plain": [
              "<Figure size 1152x576 with 8 Axes>"
            ]
          },
          "metadata": {
            "tags": [],
            "needs_background": "light"
          }
        }
      ]
    },
    {
      "cell_type": "code",
      "metadata": {
        "colab": {
          "base_uri": "https://localhost:8080/",
          "height": 35
        },
        "id": "GE09TipSw2Zh",
        "outputId": "abfe99ca-6a7f-4896-9493-8f338b15a2e4"
      },
      "source": [
        "check_str = ' '.join([inp_lang_tokenizer.index_word[i] for i in input_tensor_val[234] if i not in [0,len(inp_lang_tokenizer.word_index)+1,len(inp_lang_tokenizer.word_index)+2]])\n",
        "check_str"
      ],
      "execution_count": null,
      "outputs": [
        {
          "output_type": "execute_result",
          "data": {
            "application/vnd.google.colaboratory.intrinsic+json": {
              "type": "string"
            },
            "text/plain": [
              "'april had 8 biscuit . he cube each biscuit into 1 9 slices . how many biscuit slices did april make ?'"
            ]
          },
          "metadata": {
            "tags": []
          },
          "execution_count": 78
        }
      ]
    },
    {
      "cell_type": "code",
      "metadata": {
        "colab": {
          "base_uri": "https://localhost:8080/",
          "height": 426
        },
        "id": "LtfHEuHAw6LU",
        "outputId": "5f20d983-ae65-4b42-b02d-404e34293c02"
      },
      "source": [
        "translate(check_str, plot='decoder_layer4_block2')"
      ],
      "execution_count": null,
      "outputs": [
        {
          "output_type": "stream",
          "text": [
            "Input: april had 8 biscuit . he cube each biscuit into 1 9 slices . how many biscuit slices did april make ?\n",
            "Predicted translation: x = 1 9 * 8\n"
          ],
          "name": "stdout"
        },
        {
          "output_type": "display_data",
          "data": {
            "image/png": "[encoded data removed]",
            "text/plain": [
              "<Figure size 1152x576 with 8 Axes>"
            ]
          },
          "metadata": {
            "tags": [],
            "needs_background": "light"
          }
        }
      ]
    },
    {
      "cell_type": "code",
      "metadata": {
        "colab": {
          "base_uri": "https://localhost:8080/",
          "height": 459
        },
        "id": "6iarzMSWxE0s",
        "outputId": "9ba096f6-a742-43b3-e522-592e0e4c0b09"
      },
      "source": [
        "translate(\"Jerry had 135 pens. John took 19 from him. How many pens Jerry have left?\", plot='decoder_layer4_block2')"
      ],
      "execution_count": null,
      "outputs": [
        {
          "output_type": "stream",
          "text": [
            "Input: Jerry had 135 pens. John took 19 from him. How many pens Jerry have left?\n",
            "Predicted translation: x = 1 3 5 / 1 9\n"
          ],
          "name": "stdout"
        },
        {
          "output_type": "display_data",
          "data": {
            "image/png": "[encoded data removed]",
            "text/plain": [
              "<Figure size 1152x576 with 8 Axes>"
            ]
          },
          "metadata": {
            "tags": [],
            "needs_background": "light"
          }
        }
      ]
    },
    {
      "cell_type": "code",
      "metadata": {
        "id": "JHzBDFvmxLop"
      },
      "source": [
        ""
      ],
      "execution_count": null,
      "outputs": []
    }
  ]
}